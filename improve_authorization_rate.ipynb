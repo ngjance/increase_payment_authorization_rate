{
 "cells": [
  {
   "cell_type": "markdown",
   "id": "2e5a8dfd",
   "metadata": {},
   "source": [
    "## Import Libraries\n",
    "---"
   ]
  },
  {
   "cell_type": "code",
   "execution_count": 1,
   "id": "77c95e07",
   "metadata": {},
   "outputs": [],
   "source": [
    "#import libraries\n",
    "import pandas as pd\n",
    "import numpy as np\n",
    "import seaborn as sns\n",
    "import matplotlib.pyplot as plt\n",
    "from sklearn.linear_model import LinearRegression, LassoCV, RidgeCV\n",
    "from sklearn.preprocessing import PolynomialFeatures, StandardScaler, OrdinalEncoder, LabelEncoder, OneHotEncoder\n",
    "from sklearn.model_selection import train_test_split, cross_val_score, cross_val_predict\n",
    "from sklearn.metrics import r2_score, mean_squared_error\n",
    "from sklearn.pipeline import Pipeline\n",
    "from sklearn.compose import ColumnTransformer\n",
    "from sklearn.neighbors import KNeighborsClassifier\n",
    "import statsmodels.api as sm\n",
    "from statsmodels.stats.outliers_influence import variance_inflation_factor"
   ]
  },
  {
   "cell_type": "markdown",
   "id": "ba7b1b7f",
   "metadata": {},
   "source": [
    "## Data Cleaning\n",
    "---"
   ]
  },
  {
   "cell_type": "code",
   "execution_count": 2,
   "id": "1d2b4242",
   "metadata": {},
   "outputs": [],
   "source": [
    "# load the file\n",
    "\n",
    "import pandas as pd\n",
    "\n",
    "df = pd.read_csv(\"./data/APAC Data Analytics Case Study.csv\", index_col=0)"
   ]
  },
  {
   "cell_type": "code",
   "execution_count": 3,
   "id": "bc5e1272",
   "metadata": {
    "scrolled": false
   },
   "outputs": [
    {
     "data": {
      "text/plain": [
       "(226868, 18)"
      ]
     },
     "execution_count": 3,
     "metadata": {},
     "output_type": "execute_result"
    }
   ],
   "source": [
    "df.shape"
   ]
  },
  {
   "cell_type": "code",
   "execution_count": 4,
   "id": "3dfb5be6",
   "metadata": {},
   "outputs": [],
   "source": [
    "pd.set_option('display.max_rows', 2000)"
   ]
  },
  {
   "cell_type": "code",
   "execution_count": 5,
   "id": "bd4dbfb8",
   "metadata": {
    "scrolled": false
   },
   "outputs": [
    {
     "data": {
      "text/plain": [
       "pspreference           0\n",
       "currencycode           0\n",
       "issuercountrycode    232\n",
       "bin                    0\n",
       "creationdate           0\n",
       "genericresponse        0\n",
       "amount                 0\n",
       "scheme                 0\n",
       "merchant               0\n",
       "company                0\n",
       "acquireraccount        0\n",
       "acquirer               0\n",
       "journaltype            0\n",
       "paymentmethod          0\n",
       "approved               0\n",
       "refused                0\n",
       "received               0\n",
       "threedattempt          0\n",
       "dtype: int64"
      ]
     },
     "execution_count": 5,
     "metadata": {},
     "output_type": "execute_result"
    }
   ],
   "source": [
    "df.isnull().sum()"
   ]
  },
  {
   "cell_type": "code",
   "execution_count": 6,
   "id": "cc87fa95",
   "metadata": {},
   "outputs": [],
   "source": [
    "df['issuercountrycode'].fillna('NA', inplace=True)"
   ]
  },
  {
   "cell_type": "code",
   "execution_count": 7,
   "id": "ce0e6f10",
   "metadata": {
    "scrolled": true
   },
   "outputs": [
    {
     "data": {
      "text/plain": [
       "pspreference         0\n",
       "currencycode         0\n",
       "issuercountrycode    0\n",
       "bin                  0\n",
       "creationdate         0\n",
       "genericresponse      0\n",
       "amount               0\n",
       "scheme               0\n",
       "merchant             0\n",
       "company              0\n",
       "acquireraccount      0\n",
       "acquirer             0\n",
       "journaltype          0\n",
       "paymentmethod        0\n",
       "approved             0\n",
       "refused              0\n",
       "received             0\n",
       "threedattempt        0\n",
       "dtype: int64"
      ]
     },
     "execution_count": 7,
     "metadata": {},
     "output_type": "execute_result"
    }
   ],
   "source": [
    "df.isnull().sum()"
   ]
  },
  {
   "cell_type": "code",
   "execution_count": 8,
   "id": "cf6be22d",
   "metadata": {
    "scrolled": false
   },
   "outputs": [
    {
     "name": "stdout",
     "output_type": "stream",
     "text": [
      "<class 'pandas.core.frame.DataFrame'>\n",
      "Int64Index: 226868 entries, 1 to 226868\n",
      "Data columns (total 18 columns):\n",
      " #   Column             Non-Null Count   Dtype  \n",
      "---  ------             --------------   -----  \n",
      " 0   pspreference       226868 non-null  object \n",
      " 1   currencycode       226868 non-null  object \n",
      " 2   issuercountrycode  226868 non-null  object \n",
      " 3   bin                226868 non-null  int64  \n",
      " 4   creationdate       226868 non-null  object \n",
      " 5   genericresponse    226868 non-null  object \n",
      " 6   amount             226868 non-null  float64\n",
      " 7   scheme             226868 non-null  object \n",
      " 8   merchant           226868 non-null  object \n",
      " 9   company            226868 non-null  object \n",
      " 10  acquireraccount    226868 non-null  object \n",
      " 11  acquirer           226868 non-null  object \n",
      " 12  journaltype        226868 non-null  object \n",
      " 13  paymentmethod      226868 non-null  object \n",
      " 14  approved           226868 non-null  int64  \n",
      " 15  refused            226868 non-null  int64  \n",
      " 16  received           226868 non-null  int64  \n",
      " 17  threedattempt      226868 non-null  object \n",
      "dtypes: float64(1), int64(4), object(13)\n",
      "memory usage: 32.9+ MB\n"
     ]
    }
   ],
   "source": [
    "df.info()"
   ]
  },
  {
   "cell_type": "markdown",
   "id": "6dbf4872",
   "metadata": {},
   "source": [
    "#### pspreference"
   ]
  },
  {
   "cell_type": "code",
   "execution_count": 9,
   "id": "5793d3e8",
   "metadata": {},
   "outputs": [],
   "source": [
    "# replace 'psp:' with ''\n",
    "df['pspreference'].replace(to_replace=r'[psp:]', value='', regex=True, inplace=True)"
   ]
  },
  {
   "cell_type": "code",
   "execution_count": 10,
   "id": "f34657d3",
   "metadata": {},
   "outputs": [],
   "source": [
    "# convert dtype to intx\n",
    "df['pspreference'] = df['pspreference'].astype(np.float64)"
   ]
  },
  {
   "cell_type": "code",
   "execution_count": 11,
   "id": "514d1caf",
   "metadata": {},
   "outputs": [
    {
     "name": "stdout",
     "output_type": "stream",
     "text": [
      "<class 'pandas.core.frame.DataFrame'>\n",
      "Int64Index: 226868 entries, 1 to 226868\n",
      "Data columns (total 18 columns):\n",
      " #   Column             Non-Null Count   Dtype  \n",
      "---  ------             --------------   -----  \n",
      " 0   pspreference       226868 non-null  float64\n",
      " 1   currencycode       226868 non-null  object \n",
      " 2   issuercountrycode  226868 non-null  object \n",
      " 3   bin                226868 non-null  int64  \n",
      " 4   creationdate       226868 non-null  object \n",
      " 5   genericresponse    226868 non-null  object \n",
      " 6   amount             226868 non-null  float64\n",
      " 7   scheme             226868 non-null  object \n",
      " 8   merchant           226868 non-null  object \n",
      " 9   company            226868 non-null  object \n",
      " 10  acquireraccount    226868 non-null  object \n",
      " 11  acquirer           226868 non-null  object \n",
      " 12  journaltype        226868 non-null  object \n",
      " 13  paymentmethod      226868 non-null  object \n",
      " 14  approved           226868 non-null  int64  \n",
      " 15  refused            226868 non-null  int64  \n",
      " 16  received           226868 non-null  int64  \n",
      " 17  threedattempt      226868 non-null  object \n",
      "dtypes: float64(2), int64(4), object(12)\n",
      "memory usage: 32.9+ MB\n"
     ]
    }
   ],
   "source": [
    "df.info()"
   ]
  },
  {
   "cell_type": "markdown",
   "id": "70e26cec",
   "metadata": {},
   "source": [
    "#### Split 'creationdate' into 'year', 'month', 'day', 'hour', 'day of the week'"
   ]
  },
  {
   "cell_type": "code",
   "execution_count": 12,
   "id": "b9ad7df1",
   "metadata": {},
   "outputs": [],
   "source": [
    "df['creationdate'] = pd.to_datetime(df['creationdate'])"
   ]
  },
  {
   "cell_type": "code",
   "execution_count": 13,
   "id": "e01d962d",
   "metadata": {},
   "outputs": [
    {
     "data": {
      "text/plain": [
       "1    2017\n",
       "2    2017\n",
       "3    2017\n",
       "4    2017\n",
       "5    2017\n",
       "Name: year, dtype: int64"
      ]
     },
     "execution_count": 13,
     "metadata": {},
     "output_type": "execute_result"
    }
   ],
   "source": [
    "df['year'] = df['creationdate'].dt.year\n",
    "df['year'].head()"
   ]
  },
  {
   "cell_type": "code",
   "execution_count": 14,
   "id": "f77a4124",
   "metadata": {},
   "outputs": [
    {
     "data": {
      "text/plain": [
       "1    10\n",
       "2    10\n",
       "3    10\n",
       "4    10\n",
       "5    10\n",
       "Name: month, dtype: int64"
      ]
     },
     "execution_count": 14,
     "metadata": {},
     "output_type": "execute_result"
    }
   ],
   "source": [
    "df['month'] = df['creationdate'].dt.month\n",
    "df['month'].head()"
   ]
  },
  {
   "cell_type": "code",
   "execution_count": 15,
   "id": "038f58f2",
   "metadata": {},
   "outputs": [
    {
     "data": {
      "text/plain": [
       "1    1\n",
       "2    1\n",
       "3    1\n",
       "4    1\n",
       "5    1\n",
       "Name: day, dtype: int64"
      ]
     },
     "execution_count": 15,
     "metadata": {},
     "output_type": "execute_result"
    }
   ],
   "source": [
    "df['day'] = df['creationdate'].dt.day\n",
    "df['day'].head()"
   ]
  },
  {
   "cell_type": "code",
   "execution_count": 16,
   "id": "f3286b80",
   "metadata": {},
   "outputs": [
    {
     "data": {
      "text/plain": [
       "1    18\n",
       "2    12\n",
       "3    22\n",
       "4    22\n",
       "5    21\n",
       "Name: hour, dtype: int64"
      ]
     },
     "execution_count": 16,
     "metadata": {},
     "output_type": "execute_result"
    }
   ],
   "source": [
    "df['hour'] = df['creationdate'].dt.hour\n",
    "df['hour'].head()"
   ]
  },
  {
   "cell_type": "code",
   "execution_count": 17,
   "id": "059eb0a4",
   "metadata": {
    "scrolled": false
   },
   "outputs": [
    {
     "data": {
      "text/plain": [
       "1    6\n",
       "2    6\n",
       "3    6\n",
       "4    6\n",
       "5    6\n",
       "Name: day_of_week, dtype: int64"
      ]
     },
     "execution_count": 17,
     "metadata": {},
     "output_type": "execute_result"
    }
   ],
   "source": [
    "df['day_of_week'] = df['creationdate'].dt.weekday\n",
    "df['day_of_week'].head()"
   ]
  },
  {
   "cell_type": "code",
   "execution_count": 18,
   "id": "358a12de",
   "metadata": {},
   "outputs": [],
   "source": [
    "# drop 'year' and 'month' as it contains only one value\n",
    "df.drop(columns=['year','month'], inplace = True)"
   ]
  },
  {
   "cell_type": "code",
   "execution_count": 19,
   "id": "396963a3",
   "metadata": {
    "scrolled": false
   },
   "outputs": [
    {
     "data": {
      "text/html": [
       "<div>\n",
       "<style scoped>\n",
       "    .dataframe tbody tr th:only-of-type {\n",
       "        vertical-align: middle;\n",
       "    }\n",
       "\n",
       "    .dataframe tbody tr th {\n",
       "        vertical-align: top;\n",
       "    }\n",
       "\n",
       "    .dataframe thead th {\n",
       "        text-align: right;\n",
       "    }\n",
       "</style>\n",
       "<table border=\"1\" class=\"dataframe\">\n",
       "  <thead>\n",
       "    <tr style=\"text-align: right;\">\n",
       "      <th></th>\n",
       "      <th>pspreference</th>\n",
       "      <th>currencycode</th>\n",
       "      <th>issuercountrycode</th>\n",
       "      <th>bin</th>\n",
       "      <th>creationdate</th>\n",
       "      <th>genericresponse</th>\n",
       "      <th>amount</th>\n",
       "      <th>scheme</th>\n",
       "      <th>merchant</th>\n",
       "      <th>company</th>\n",
       "      <th>...</th>\n",
       "      <th>acquirer</th>\n",
       "      <th>journaltype</th>\n",
       "      <th>paymentmethod</th>\n",
       "      <th>approved</th>\n",
       "      <th>refused</th>\n",
       "      <th>received</th>\n",
       "      <th>threedattempt</th>\n",
       "      <th>day</th>\n",
       "      <th>hour</th>\n",
       "      <th>day_of_week</th>\n",
       "    </tr>\n",
       "  </thead>\n",
       "  <tbody>\n",
       "    <tr>\n",
       "      <th>1</th>\n",
       "      <td>8.906806e+16</td>\n",
       "      <td>IDR</td>\n",
       "      <td>ID</td>\n",
       "      <td>552695</td>\n",
       "      <td>2017-10-01 18:58:11</td>\n",
       "      <td>APPROVED</td>\n",
       "      <td>1000.0</td>\n",
       "      <td>mastercard</td>\n",
       "      <td>ABC_IDR</td>\n",
       "      <td>ABCLimited</td>\n",
       "      <td>...</td>\n",
       "      <td>AdyenMasterCardMalaysia</td>\n",
       "      <td>Cancelled</td>\n",
       "      <td>commercialcredit</td>\n",
       "      <td>1</td>\n",
       "      <td>0</td>\n",
       "      <td>1</td>\n",
       "      <td>Yes</td>\n",
       "      <td>1</td>\n",
       "      <td>18</td>\n",
       "      <td>6</td>\n",
       "    </tr>\n",
       "    <tr>\n",
       "      <th>2</th>\n",
       "      <td>6.702506e+16</td>\n",
       "      <td>IDR</td>\n",
       "      <td>ID</td>\n",
       "      <td>547582</td>\n",
       "      <td>2017-10-01 12:47:47</td>\n",
       "      <td>APPROVED</td>\n",
       "      <td>1000.0</td>\n",
       "      <td>mastercard</td>\n",
       "      <td>ABC_IDR</td>\n",
       "      <td>ABCLimited</td>\n",
       "      <td>...</td>\n",
       "      <td>AdyenMasterCardMalaysia</td>\n",
       "      <td>Cancelled</td>\n",
       "      <td>commercialcredit</td>\n",
       "      <td>1</td>\n",
       "      <td>0</td>\n",
       "      <td>1</td>\n",
       "      <td>Yes</td>\n",
       "      <td>1</td>\n",
       "      <td>12</td>\n",
       "      <td>6</td>\n",
       "    </tr>\n",
       "    <tr>\n",
       "      <th>3</th>\n",
       "      <td>6.136210e+16</td>\n",
       "      <td>IDR</td>\n",
       "      <td>ID</td>\n",
       "      <td>547582</td>\n",
       "      <td>2017-10-01 22:44:06</td>\n",
       "      <td>NOT_3D_AUTHENTICATED</td>\n",
       "      <td>1000.0</td>\n",
       "      <td>mastercard</td>\n",
       "      <td>ABC_IDR</td>\n",
       "      <td>ABCLimited</td>\n",
       "      <td>...</td>\n",
       "      <td>AdyenMasterCardMalaysia</td>\n",
       "      <td>Refused</td>\n",
       "      <td>commercialcredit</td>\n",
       "      <td>0</td>\n",
       "      <td>1</td>\n",
       "      <td>1</td>\n",
       "      <td>Yes</td>\n",
       "      <td>1</td>\n",
       "      <td>22</td>\n",
       "      <td>6</td>\n",
       "    </tr>\n",
       "    <tr>\n",
       "      <th>4</th>\n",
       "      <td>7.848627e+16</td>\n",
       "      <td>IDR</td>\n",
       "      <td>ID</td>\n",
       "      <td>547582</td>\n",
       "      <td>2017-10-01 22:41:30</td>\n",
       "      <td>NOT_3D_AUTHENTICATED</td>\n",
       "      <td>1000.0</td>\n",
       "      <td>mastercard</td>\n",
       "      <td>ABC_IDR</td>\n",
       "      <td>ABCLimited</td>\n",
       "      <td>...</td>\n",
       "      <td>AdyenMasterCardMalaysia</td>\n",
       "      <td>Refused</td>\n",
       "      <td>commercialcredit</td>\n",
       "      <td>0</td>\n",
       "      <td>1</td>\n",
       "      <td>1</td>\n",
       "      <td>Yes</td>\n",
       "      <td>1</td>\n",
       "      <td>22</td>\n",
       "      <td>6</td>\n",
       "    </tr>\n",
       "    <tr>\n",
       "      <th>5</th>\n",
       "      <td>6.116165e+15</td>\n",
       "      <td>IDR</td>\n",
       "      <td>KR</td>\n",
       "      <td>558420</td>\n",
       "      <td>2017-10-01 21:56:04</td>\n",
       "      <td>NOT_3D_AUTHENTICATED</td>\n",
       "      <td>1000.0</td>\n",
       "      <td>mastercard</td>\n",
       "      <td>ABC_IDR</td>\n",
       "      <td>ABCLimited</td>\n",
       "      <td>...</td>\n",
       "      <td>AdyenMasterCardMalaysia</td>\n",
       "      <td>Refused</td>\n",
       "      <td>commercialcredit</td>\n",
       "      <td>0</td>\n",
       "      <td>1</td>\n",
       "      <td>1</td>\n",
       "      <td>Yes</td>\n",
       "      <td>1</td>\n",
       "      <td>21</td>\n",
       "      <td>6</td>\n",
       "    </tr>\n",
       "  </tbody>\n",
       "</table>\n",
       "<p>5 rows × 21 columns</p>\n",
       "</div>"
      ],
      "text/plain": [
       "   pspreference currencycode issuercountrycode     bin        creationdate  \\\n",
       "1  8.906806e+16          IDR                ID  552695 2017-10-01 18:58:11   \n",
       "2  6.702506e+16          IDR                ID  547582 2017-10-01 12:47:47   \n",
       "3  6.136210e+16          IDR                ID  547582 2017-10-01 22:44:06   \n",
       "4  7.848627e+16          IDR                ID  547582 2017-10-01 22:41:30   \n",
       "5  6.116165e+15          IDR                KR  558420 2017-10-01 21:56:04   \n",
       "\n",
       "        genericresponse  amount      scheme merchant     company  ...  \\\n",
       "1              APPROVED  1000.0  mastercard  ABC_IDR  ABCLimited  ...   \n",
       "2              APPROVED  1000.0  mastercard  ABC_IDR  ABCLimited  ...   \n",
       "3  NOT_3D_AUTHENTICATED  1000.0  mastercard  ABC_IDR  ABCLimited  ...   \n",
       "4  NOT_3D_AUTHENTICATED  1000.0  mastercard  ABC_IDR  ABCLimited  ...   \n",
       "5  NOT_3D_AUTHENTICATED  1000.0  mastercard  ABC_IDR  ABCLimited  ...   \n",
       "\n",
       "                  acquirer journaltype     paymentmethod approved  refused  \\\n",
       "1  AdyenMasterCardMalaysia   Cancelled  commercialcredit        1        0   \n",
       "2  AdyenMasterCardMalaysia   Cancelled  commercialcredit        1        0   \n",
       "3  AdyenMasterCardMalaysia     Refused  commercialcredit        0        1   \n",
       "4  AdyenMasterCardMalaysia     Refused  commercialcredit        0        1   \n",
       "5  AdyenMasterCardMalaysia     Refused  commercialcredit        0        1   \n",
       "\n",
       "   received  threedattempt day  hour  day_of_week  \n",
       "1         1            Yes   1    18            6  \n",
       "2         1            Yes   1    12            6  \n",
       "3         1            Yes   1    22            6  \n",
       "4         1            Yes   1    22            6  \n",
       "5         1            Yes   1    21            6  \n",
       "\n",
       "[5 rows x 21 columns]"
      ]
     },
     "execution_count": 19,
     "metadata": {},
     "output_type": "execute_result"
    }
   ],
   "source": [
    "df.head()"
   ]
  },
  {
   "cell_type": "markdown",
   "id": "bd747760",
   "metadata": {},
   "source": [
    "## Exploratory Data Analysis\n",
    "---"
   ]
  },
  {
   "cell_type": "markdown",
   "id": "ba75f9a5",
   "metadata": {},
   "source": [
    "### Split Data First to Prevent Overspill"
   ]
  },
  {
   "cell_type": "code",
   "execution_count": 20,
   "id": "4f9ed431",
   "metadata": {},
   "outputs": [],
   "source": [
    "# split df into train/test sets\n",
    "\n",
    "df_train, df_test = train_test_split(df,\n",
    "                               test_size = 0.2,\n",
    "                               random_state = 42\n",
    "                              )"
   ]
  },
  {
   "cell_type": "code",
   "execution_count": 21,
   "id": "29129ac3",
   "metadata": {},
   "outputs": [
    {
     "data": {
      "text/plain": [
       "(181494, 21)"
      ]
     },
     "execution_count": 21,
     "metadata": {},
     "output_type": "execute_result"
    }
   ],
   "source": [
    "df_train.shape"
   ]
  },
  {
   "cell_type": "code",
   "execution_count": 22,
   "id": "37e0fbb0",
   "metadata": {
    "scrolled": true
   },
   "outputs": [
    {
     "data": {
      "text/plain": [
       "(45374, 21)"
      ]
     },
     "execution_count": 22,
     "metadata": {},
     "output_type": "execute_result"
    }
   ],
   "source": [
    "df_test.shape"
   ]
  },
  {
   "cell_type": "markdown",
   "id": "9642cff7",
   "metadata": {},
   "source": [
    "---"
   ]
  },
  {
   "cell_type": "markdown",
   "id": "a8f31d66",
   "metadata": {},
   "source": [
    "**Total Number of Transaction**"
   ]
  },
  {
   "cell_type": "code",
   "execution_count": 23,
   "id": "fe58dcac",
   "metadata": {
    "scrolled": true
   },
   "outputs": [
    {
     "data": {
      "text/plain": [
       "181494"
      ]
     },
     "execution_count": 23,
     "metadata": {},
     "output_type": "execute_result"
    }
   ],
   "source": [
    "total_txn = df_train['pspreference'].count()\n",
    "total_txn"
   ]
  },
  {
   "cell_type": "markdown",
   "id": "05fbc547",
   "metadata": {},
   "source": [
    "**% of Each Generic Response Category**"
   ]
  },
  {
   "cell_type": "code",
   "execution_count": 24,
   "id": "4e355fa1",
   "metadata": {
    "scrolled": true
   },
   "outputs": [
    {
     "data": {
      "text/html": [
       "<div>\n",
       "<style scoped>\n",
       "    .dataframe tbody tr th:only-of-type {\n",
       "        vertical-align: middle;\n",
       "    }\n",
       "\n",
       "    .dataframe tbody tr th {\n",
       "        vertical-align: top;\n",
       "    }\n",
       "\n",
       "    .dataframe thead th {\n",
       "        text-align: right;\n",
       "    }\n",
       "</style>\n",
       "<table border=\"1\" class=\"dataframe\">\n",
       "  <thead>\n",
       "    <tr style=\"text-align: right;\">\n",
       "      <th></th>\n",
       "      <th>genericresponse</th>\n",
       "      <th>%</th>\n",
       "    </tr>\n",
       "  </thead>\n",
       "  <tbody>\n",
       "    <tr>\n",
       "      <th>0</th>\n",
       "      <td>APPROVED</td>\n",
       "      <td>88.246443</td>\n",
       "    </tr>\n",
       "    <tr>\n",
       "      <th>1</th>\n",
       "      <td>FRAUD</td>\n",
       "      <td>7.989796</td>\n",
       "    </tr>\n",
       "    <tr>\n",
       "      <th>2</th>\n",
       "      <td>DECLINED</td>\n",
       "      <td>2.982468</td>\n",
       "    </tr>\n",
       "    <tr>\n",
       "      <th>3</th>\n",
       "      <td>NOT_3D_AUTHENTICATED</td>\n",
       "      <td>0.423154</td>\n",
       "    </tr>\n",
       "    <tr>\n",
       "      <th>4</th>\n",
       "      <td>CVC_DECLINED</td>\n",
       "      <td>0.112400</td>\n",
       "    </tr>\n",
       "  </tbody>\n",
       "</table>\n",
       "</div>"
      ],
      "text/plain": [
       "        genericresponse          %\n",
       "0              APPROVED  88.246443\n",
       "1                 FRAUD   7.989796\n",
       "2              DECLINED   2.982468\n",
       "3  NOT_3D_AUTHENTICATED   0.423154\n",
       "4          CVC_DECLINED   0.112400"
      ]
     },
     "execution_count": 24,
     "metadata": {},
     "output_type": "execute_result"
    }
   ],
   "source": [
    "gr = pd.DataFrame(df_train['genericresponse'].value_counts()/total_txn*100, index=None)\n",
    "gr.reset_index(inplace=True)\n",
    "gr.rename(columns = {'index': 'genericresponse', 'genericresponse': '%'}, \n",
    "          inplace = True)\n",
    "gr.head()"
   ]
  },
  {
   "cell_type": "code",
   "execution_count": 25,
   "id": "e6508702",
   "metadata": {
    "scrolled": true
   },
   "outputs": [
    {
     "name": "stderr",
     "output_type": "stream",
     "text": [
      "C:\\Users\\ng_li\\anaconda3\\lib\\site-packages\\seaborn\\_decorators.py:36: FutureWarning: Pass the following variables as keyword args: x, y. From version 0.12, the only valid positional argument will be `data`, and passing other arguments without an explicit keyword will result in an error or misinterpretation.\n",
      "  warnings.warn(\n"
     ]
    },
    {
     "data": {
      "image/png": "[encoded data removed]",
      "text/plain": [
       "<Figure size 864x432 with 1 Axes>"
      ]
     },
     "metadata": {
      "needs_background": "light"
     },
     "output_type": "display_data"
    }
   ],
   "source": [
    "fig, ax = plt.subplots(figsize=(12,6))\n",
    "sns.barplot(gr['genericresponse'], gr['%'])\n",
    "ax.set_title('Declined Transactions is the Third Largest Group of Transactions after Fraud', size = 16)\n",
    "ax.set_xlabel('Generic Response')\n",
    "ax.set_ylabel('Percentage of Transactions')\n",
    "ax.set_ylim(0, 90)\n",
    "plt.xticks(rotation=90)\n",
    "plt.show()"
   ]
  },
  {
   "cell_type": "markdown",
   "id": "af497476",
   "metadata": {},
   "source": [
    "**Currency Code**"
   ]
  },
  {
   "cell_type": "code",
   "execution_count": 26,
   "id": "8982087d",
   "metadata": {},
   "outputs": [],
   "source": [
    "cc = pd.DataFrame(df_train.groupby('genericresponse')['currencycode'].value_counts()/total_txn*100)\n",
    "cc.rename(columns = {'currencycode': '%'},inplace = True)\n",
    "cc.reset_index(level=['genericresponse','currencycode'],inplace = True)"
   ]
  },
  {
   "cell_type": "code",
   "execution_count": 27,
   "id": "78862f04",
   "metadata": {
    "scrolled": true
   },
   "outputs": [
    {
     "name": "stderr",
     "output_type": "stream",
     "text": [
      "C:\\Users\\ng_li\\anaconda3\\lib\\site-packages\\seaborn\\_decorators.py:36: FutureWarning: Pass the following variables as keyword args: x, y. From version 0.12, the only valid positional argument will be `data`, and passing other arguments without an explicit keyword will result in an error or misinterpretation.\n",
      "  warnings.warn(\n"
     ]
    },
    {
     "data": {
      "image/png": "[encoded data removed]",
      "text/plain": [
       "<Figure size 864x432 with 1 Axes>"
      ]
     },
     "metadata": {
      "needs_background": "light"
     },
     "output_type": "display_data"
    }
   ],
   "source": [
    "fig, ax = plt.subplots(figsize=(12,6))\n",
    "sns.barplot(cc['genericresponse'], cc['%'], hue=cc['currencycode'])\n",
    "ax.set_title('IDR is the Most Transacted Currency', size = 14)\n",
    "ax.set_xlabel('Generic Response')\n",
    "ax.set_ylabel('Percentage of Transactions(%)')\n",
    "ax.legend(loc='center left', bbox_to_anchor=(1, 0.5))\n",
    "plt.xticks(rotation=90)\n",
    "plt.show()"
   ]
  },
  {
   "cell_type": "code",
   "execution_count": 28,
   "id": "71176422",
   "metadata": {
    "scrolled": true
   },
   "outputs": [
    {
     "data": {
      "text/html": [
       "<div>\n",
       "<style scoped>\n",
       "    .dataframe tbody tr th:only-of-type {\n",
       "        vertical-align: middle;\n",
       "    }\n",
       "\n",
       "    .dataframe tbody tr th {\n",
       "        vertical-align: top;\n",
       "    }\n",
       "\n",
       "    .dataframe thead th {\n",
       "        text-align: right;\n",
       "    }\n",
       "</style>\n",
       "<table border=\"1\" class=\"dataframe\">\n",
       "  <thead>\n",
       "    <tr style=\"text-align: right;\">\n",
       "      <th></th>\n",
       "      <th>pspreference</th>\n",
       "      <th>currencycode</th>\n",
       "      <th>issuercountrycode</th>\n",
       "      <th>bin</th>\n",
       "      <th>creationdate</th>\n",
       "      <th>amount</th>\n",
       "      <th>scheme</th>\n",
       "      <th>merchant</th>\n",
       "      <th>company</th>\n",
       "      <th>acquireraccount</th>\n",
       "      <th>...</th>\n",
       "      <th>genericresponse_DECLINED</th>\n",
       "      <th>genericresponse_ERROR</th>\n",
       "      <th>genericresponse_FRAUD</th>\n",
       "      <th>genericresponse_INVALID_CARD</th>\n",
       "      <th>genericresponse_ISSUER_UNAVAILABLE</th>\n",
       "      <th>genericresponse_NOT_3D_AUTHENTICATED</th>\n",
       "      <th>genericresponse_NOT_ENOUGH_BALANCE</th>\n",
       "      <th>genericresponse_REFERRAL</th>\n",
       "      <th>genericresponse_TRANSACTION_NOT_PERMITTED</th>\n",
       "      <th>genericresponse_UNKNOWN</th>\n",
       "    </tr>\n",
       "  </thead>\n",
       "  <tbody>\n",
       "    <tr>\n",
       "      <th>53200</th>\n",
       "      <td>4.647763e+16</td>\n",
       "      <td>SGD</td>\n",
       "      <td>SG</td>\n",
       "      <td>418238</td>\n",
       "      <td>2017-10-08 22:45:17</td>\n",
       "      <td>2000.0</td>\n",
       "      <td>visa</td>\n",
       "      <td>ABC_SGD</td>\n",
       "      <td>ABCLimited</td>\n",
       "      <td>AdyenVisaSingapore_ABC_SGD</td>\n",
       "      <td>...</td>\n",
       "      <td>0</td>\n",
       "      <td>0</td>\n",
       "      <td>0</td>\n",
       "      <td>0</td>\n",
       "      <td>0</td>\n",
       "      <td>0</td>\n",
       "      <td>0</td>\n",
       "      <td>0</td>\n",
       "      <td>0</td>\n",
       "      <td>0</td>\n",
       "    </tr>\n",
       "    <tr>\n",
       "      <th>10275</th>\n",
       "      <td>1.883133e+16</td>\n",
       "      <td>IDR</td>\n",
       "      <td>ID</td>\n",
       "      <td>421920</td>\n",
       "      <td>2017-10-02 16:19:02</td>\n",
       "      <td>20000.0</td>\n",
       "      <td>visa</td>\n",
       "      <td>DEF_IDR</td>\n",
       "      <td>DEFLimited</td>\n",
       "      <td>AdyenVisaEurope_DEF_IDR</td>\n",
       "      <td>...</td>\n",
       "      <td>0</td>\n",
       "      <td>0</td>\n",
       "      <td>0</td>\n",
       "      <td>0</td>\n",
       "      <td>0</td>\n",
       "      <td>0</td>\n",
       "      <td>0</td>\n",
       "      <td>0</td>\n",
       "      <td>0</td>\n",
       "      <td>0</td>\n",
       "    </tr>\n",
       "    <tr>\n",
       "      <th>79302</th>\n",
       "      <td>9.397116e+16</td>\n",
       "      <td>IDR</td>\n",
       "      <td>ID</td>\n",
       "      <td>524261</td>\n",
       "      <td>2017-10-12 23:50:44</td>\n",
       "      <td>1000.0</td>\n",
       "      <td>mastercard</td>\n",
       "      <td>ABC_IDR</td>\n",
       "      <td>ABCLimited</td>\n",
       "      <td>AdyenMasterCardMalaysia_ABC_IDR</td>\n",
       "      <td>...</td>\n",
       "      <td>0</td>\n",
       "      <td>0</td>\n",
       "      <td>0</td>\n",
       "      <td>0</td>\n",
       "      <td>0</td>\n",
       "      <td>0</td>\n",
       "      <td>0</td>\n",
       "      <td>0</td>\n",
       "      <td>0</td>\n",
       "      <td>0</td>\n",
       "    </tr>\n",
       "    <tr>\n",
       "      <th>67476</th>\n",
       "      <td>9.676672e+16</td>\n",
       "      <td>SGD</td>\n",
       "      <td>SG</td>\n",
       "      <td>418238</td>\n",
       "      <td>2017-10-10 03:47:36</td>\n",
       "      <td>5000.0</td>\n",
       "      <td>visa</td>\n",
       "      <td>ABC_SGD</td>\n",
       "      <td>ABCLimited</td>\n",
       "      <td>AdyenVisaSingapore_ABC_SGD</td>\n",
       "      <td>...</td>\n",
       "      <td>0</td>\n",
       "      <td>0</td>\n",
       "      <td>0</td>\n",
       "      <td>0</td>\n",
       "      <td>0</td>\n",
       "      <td>0</td>\n",
       "      <td>0</td>\n",
       "      <td>0</td>\n",
       "      <td>0</td>\n",
       "      <td>0</td>\n",
       "    </tr>\n",
       "    <tr>\n",
       "      <th>203929</th>\n",
       "      <td>1.982101e+15</td>\n",
       "      <td>MYR</td>\n",
       "      <td>MY</td>\n",
       "      <td>437766</td>\n",
       "      <td>2017-10-28 09:38:26</td>\n",
       "      <td>1600.0</td>\n",
       "      <td>visa</td>\n",
       "      <td>XYZ_MYR</td>\n",
       "      <td>XYZLimited</td>\n",
       "      <td>AdyenVisaMalaysia_XYZ_MYR</td>\n",
       "      <td>...</td>\n",
       "      <td>0</td>\n",
       "      <td>0</td>\n",
       "      <td>0</td>\n",
       "      <td>0</td>\n",
       "      <td>0</td>\n",
       "      <td>0</td>\n",
       "      <td>0</td>\n",
       "      <td>0</td>\n",
       "      <td>0</td>\n",
       "      <td>0</td>\n",
       "    </tr>\n",
       "  </tbody>\n",
       "</table>\n",
       "<p>5 rows × 34 columns</p>\n",
       "</div>"
      ],
      "text/plain": [
       "        pspreference currencycode issuercountrycode     bin  \\\n",
       "53200   4.647763e+16          SGD                SG  418238   \n",
       "10275   1.883133e+16          IDR                ID  421920   \n",
       "79302   9.397116e+16          IDR                ID  524261   \n",
       "67476   9.676672e+16          SGD                SG  418238   \n",
       "203929  1.982101e+15          MYR                MY  437766   \n",
       "\n",
       "              creationdate   amount      scheme merchant     company  \\\n",
       "53200  2017-10-08 22:45:17   2000.0        visa  ABC_SGD  ABCLimited   \n",
       "10275  2017-10-02 16:19:02  20000.0        visa  DEF_IDR  DEFLimited   \n",
       "79302  2017-10-12 23:50:44   1000.0  mastercard  ABC_IDR  ABCLimited   \n",
       "67476  2017-10-10 03:47:36   5000.0        visa  ABC_SGD  ABCLimited   \n",
       "203929 2017-10-28 09:38:26   1600.0        visa  XYZ_MYR  XYZLimited   \n",
       "\n",
       "                        acquireraccount  ... genericresponse_DECLINED  \\\n",
       "53200        AdyenVisaSingapore_ABC_SGD  ...                        0   \n",
       "10275           AdyenVisaEurope_DEF_IDR  ...                        0   \n",
       "79302   AdyenMasterCardMalaysia_ABC_IDR  ...                        0   \n",
       "67476        AdyenVisaSingapore_ABC_SGD  ...                        0   \n",
       "203929        AdyenVisaMalaysia_XYZ_MYR  ...                        0   \n",
       "\n",
       "       genericresponse_ERROR genericresponse_FRAUD  \\\n",
       "53200                      0                     0   \n",
       "10275                      0                     0   \n",
       "79302                      0                     0   \n",
       "67476                      0                     0   \n",
       "203929                     0                     0   \n",
       "\n",
       "        genericresponse_INVALID_CARD  genericresponse_ISSUER_UNAVAILABLE  \\\n",
       "53200                              0                                   0   \n",
       "10275                              0                                   0   \n",
       "79302                              0                                   0   \n",
       "67476                              0                                   0   \n",
       "203929                             0                                   0   \n",
       "\n",
       "        genericresponse_NOT_3D_AUTHENTICATED  \\\n",
       "53200                                      0   \n",
       "10275                                      0   \n",
       "79302                                      0   \n",
       "67476                                      0   \n",
       "203929                                     0   \n",
       "\n",
       "       genericresponse_NOT_ENOUGH_BALANCE  genericresponse_REFERRAL  \\\n",
       "53200                                   0                         0   \n",
       "10275                                   0                         0   \n",
       "79302                                   0                         0   \n",
       "67476                                   0                         0   \n",
       "203929                                  0                         0   \n",
       "\n",
       "        genericresponse_TRANSACTION_NOT_PERMITTED  genericresponse_UNKNOWN  \n",
       "53200                                           0                        0  \n",
       "10275                                           0                        0  \n",
       "79302                                           0                        0  \n",
       "67476                                           0                        0  \n",
       "203929                                          0                        0  \n",
       "\n",
       "[5 rows x 34 columns]"
      ]
     },
     "execution_count": 28,
     "metadata": {},
     "output_type": "execute_result"
    }
   ],
   "source": [
    "# onehot genericresponse\n",
    "df_train1 = pd.get_dummies(df_train, columns=['genericresponse'])\n",
    "df_train1.head()"
   ]
  },
  {
   "cell_type": "markdown",
   "id": "f2df6db6",
   "metadata": {},
   "source": [
    "### Merchant and Fraud and Declined Rate"
   ]
  },
  {
   "cell_type": "code",
   "execution_count": 29,
   "id": "394fe681",
   "metadata": {},
   "outputs": [
    {
     "data": {
      "text/html": [
       "<div>\n",
       "<style scoped>\n",
       "    .dataframe tbody tr th:only-of-type {\n",
       "        vertical-align: middle;\n",
       "    }\n",
       "\n",
       "    .dataframe tbody tr th {\n",
       "        vertical-align: top;\n",
       "    }\n",
       "\n",
       "    .dataframe thead th {\n",
       "        text-align: right;\n",
       "    }\n",
       "</style>\n",
       "<table border=\"1\" class=\"dataframe\">\n",
       "  <thead>\n",
       "    <tr style=\"text-align: right;\">\n",
       "      <th></th>\n",
       "      <th>genericresponse_FRAUD</th>\n",
       "      <th>genericresponse_DECLINED</th>\n",
       "    </tr>\n",
       "    <tr>\n",
       "      <th>merchant</th>\n",
       "      <th></th>\n",
       "      <th></th>\n",
       "    </tr>\n",
       "  </thead>\n",
       "  <tbody>\n",
       "    <tr>\n",
       "      <th>ABC_IDR</th>\n",
       "      <td>3.101480</td>\n",
       "      <td>1.429799</td>\n",
       "    </tr>\n",
       "    <tr>\n",
       "      <th>DEF_IDR</th>\n",
       "      <td>1.141636</td>\n",
       "      <td>0.467784</td>\n",
       "    </tr>\n",
       "    <tr>\n",
       "      <th>XYZ_IDR</th>\n",
       "      <td>1.095904</td>\n",
       "      <td>0.482110</td>\n",
       "    </tr>\n",
       "    <tr>\n",
       "      <th>ABC_SGD</th>\n",
       "      <td>0.996176</td>\n",
       "      <td>0.052894</td>\n",
       "    </tr>\n",
       "    <tr>\n",
       "      <th>ABC_MYR</th>\n",
       "      <td>0.501394</td>\n",
       "      <td>0.065567</td>\n",
       "    </tr>\n",
       "    <tr>\n",
       "      <th>XYZ_MYR</th>\n",
       "      <td>0.463927</td>\n",
       "      <td>0.079341</td>\n",
       "    </tr>\n",
       "    <tr>\n",
       "      <th>XYZ_SGD</th>\n",
       "      <td>0.222046</td>\n",
       "      <td>0.038018</td>\n",
       "    </tr>\n",
       "    <tr>\n",
       "      <th>DEF_SGD</th>\n",
       "      <td>0.207169</td>\n",
       "      <td>0.024794</td>\n",
       "    </tr>\n",
       "    <tr>\n",
       "      <th>DEF_THB</th>\n",
       "      <td>0.135542</td>\n",
       "      <td>0.138848</td>\n",
       "    </tr>\n",
       "    <tr>\n",
       "      <th>XYZ_THB</th>\n",
       "      <td>0.124522</td>\n",
       "      <td>0.203313</td>\n",
       "    </tr>\n",
       "  </tbody>\n",
       "</table>\n",
       "</div>"
      ],
      "text/plain": [
       "          genericresponse_FRAUD  genericresponse_DECLINED\n",
       "merchant                                                 \n",
       "ABC_IDR                3.101480                  1.429799\n",
       "DEF_IDR                1.141636                  0.467784\n",
       "XYZ_IDR                1.095904                  0.482110\n",
       "ABC_SGD                0.996176                  0.052894\n",
       "ABC_MYR                0.501394                  0.065567\n",
       "XYZ_MYR                0.463927                  0.079341\n",
       "XYZ_SGD                0.222046                  0.038018\n",
       "DEF_SGD                0.207169                  0.024794\n",
       "DEF_THB                0.135542                  0.138848\n",
       "XYZ_THB                0.124522                  0.203313"
      ]
     },
     "execution_count": 29,
     "metadata": {},
     "output_type": "execute_result"
    }
   ],
   "source": [
    "df_train1.groupby('merchant').sum().sort_values(by=['genericresponse_FRAUD','genericresponse_DECLINED'], ascending= False)\\\n",
    "[['genericresponse_FRAUD','genericresponse_DECLINED']]/total_txn*100"
   ]
  },
  {
   "cell_type": "code",
   "execution_count": 30,
   "id": "ec5b32e0",
   "metadata": {
    "scrolled": true
   },
   "outputs": [
    {
     "data": {
      "image/png": "[encoded data removed]",
      "text/plain": [
       "<Figure size 648x432 with 1 Axes>"
      ]
     },
     "metadata": {
      "needs_background": "light"
     },
     "output_type": "display_data"
    }
   ],
   "source": [
    "ax=df_train1.groupby('merchant').sum().sort_values(by=['genericresponse_FRAUD','genericresponse_DECLINED'], ascending= False)\\\n",
    "[['genericresponse_FRAUD','genericresponse_DECLINED']]/total_txn*100\n",
    "ax.plot(kind='bar', figsize=(9,6))\n",
    "plt.title('Merchants with High Fraud Rate tend to have High Declined Rate', size = 16)\n",
    "plt.xlabel('Merchants')\n",
    "plt.ylabel('Percentage of Transactions (%)')\n",
    "plt.xticks(rotation=90)\n",
    "plt.legend(loc='center left', bbox_to_anchor=(1, 0.5))\n",
    "plt.show()"
   ]
  },
  {
   "cell_type": "markdown",
   "id": "1fc84335",
   "metadata": {},
   "source": [
    "### Fraud\n",
    "---"
   ]
  },
  {
   "cell_type": "markdown",
   "id": "bd899250",
   "metadata": {},
   "source": [
    "**% of 3D Attempt for each Generic Response Category**"
   ]
  },
  {
   "cell_type": "code",
   "execution_count": 31,
   "id": "40b34fba",
   "metadata": {
    "scrolled": false
   },
   "outputs": [
    {
     "data": {
      "text/html": [
       "<div>\n",
       "<style scoped>\n",
       "    .dataframe tbody tr th:only-of-type {\n",
       "        vertical-align: middle;\n",
       "    }\n",
       "\n",
       "    .dataframe tbody tr th {\n",
       "        vertical-align: top;\n",
       "    }\n",
       "\n",
       "    .dataframe thead th {\n",
       "        text-align: right;\n",
       "    }\n",
       "</style>\n",
       "<table border=\"1\" class=\"dataframe\">\n",
       "  <thead>\n",
       "    <tr style=\"text-align: right;\">\n",
       "      <th></th>\n",
       "      <th>genericresponse</th>\n",
       "      <th>threedattempt</th>\n",
       "      <th>%</th>\n",
       "    </tr>\n",
       "  </thead>\n",
       "  <tbody>\n",
       "    <tr>\n",
       "      <th>0</th>\n",
       "      <td>APPROVED</td>\n",
       "      <td>No</td>\n",
       "      <td>47.700199</td>\n",
       "    </tr>\n",
       "    <tr>\n",
       "      <th>1</th>\n",
       "      <td>APPROVED</td>\n",
       "      <td>Yes</td>\n",
       "      <td>40.546244</td>\n",
       "    </tr>\n",
       "    <tr>\n",
       "      <th>2</th>\n",
       "      <td>BLOCK_CARD</td>\n",
       "      <td>No</td>\n",
       "      <td>0.006612</td>\n",
       "    </tr>\n",
       "    <tr>\n",
       "      <th>3</th>\n",
       "      <td>BLOCK_CARD</td>\n",
       "      <td>Yes</td>\n",
       "      <td>0.001102</td>\n",
       "    </tr>\n",
       "    <tr>\n",
       "      <th>4</th>\n",
       "      <td>CARD_EXPIRED</td>\n",
       "      <td>Yes</td>\n",
       "      <td>0.033610</td>\n",
       "    </tr>\n",
       "  </tbody>\n",
       "</table>\n",
       "</div>"
      ],
      "text/plain": [
       "  genericresponse threedattempt          %\n",
       "0        APPROVED            No  47.700199\n",
       "1        APPROVED           Yes  40.546244\n",
       "2      BLOCK_CARD            No   0.006612\n",
       "3      BLOCK_CARD           Yes   0.001102\n",
       "4    CARD_EXPIRED           Yes   0.033610"
      ]
     },
     "execution_count": 31,
     "metadata": {},
     "output_type": "execute_result"
    }
   ],
   "source": [
    "threed = pd.DataFrame(df_train.groupby('genericresponse')['threedattempt'].value_counts()/total_txn)*100\n",
    "threed.rename(columns = {'threedattempt': '%'},inplace = True)\n",
    "threed.reset_index(level=['genericresponse','threedattempt'],inplace = True)\n",
    "threed.head()"
   ]
  },
  {
   "cell_type": "code",
   "execution_count": 32,
   "id": "db5b44d9",
   "metadata": {
    "scrolled": true
   },
   "outputs": [
    {
     "name": "stderr",
     "output_type": "stream",
     "text": [
      "C:\\Users\\ng_li\\anaconda3\\lib\\site-packages\\seaborn\\_decorators.py:36: FutureWarning: Pass the following variables as keyword args: x, y. From version 0.12, the only valid positional argument will be `data`, and passing other arguments without an explicit keyword will result in an error or misinterpretation.\n",
      "  warnings.warn(\n"
     ]
    },
    {
     "data": {
      "image/png": "[encoded data removed]",
      "text/plain": [
       "<Figure size 864x432 with 1 Axes>"
      ]
     },
     "metadata": {
      "needs_background": "light"
     },
     "output_type": "display_data"
    }
   ],
   "source": [
    "fig, ax = plt.subplots(figsize=(12,6))\n",
    "sns.barplot(threed['genericresponse'], threed['%'], hue=threed['threedattempt'])\n",
    "ax.set_title('No 3D Secure Authentication Attempted for all Fraud Transactions', size = 14)\n",
    "ax.set_xlabel('Generic Response')\n",
    "ax.set_ylabel('Percentage of Transactions(%)')\n",
    "plt.xticks(rotation=90)\n",
    "plt.legend(loc='center left', bbox_to_anchor=(1, 0.5))\n",
    "plt.show()"
   ]
  },
  {
   "cell_type": "markdown",
   "id": "950dde17",
   "metadata": {},
   "source": [
    "Therefore, it is suggested that merchants implement some form of 3D Authentication to prevent fraud transactions.<br>\n",
    "3D Authentication is a feature that we would have to deep dive into."
   ]
  },
  {
   "cell_type": "markdown",
   "id": "8e60ec38",
   "metadata": {},
   "source": [
    "**Issuer Country Code and Acquirer Account**"
   ]
  },
  {
   "cell_type": "code",
   "execution_count": 33,
   "id": "48d15928",
   "metadata": {
    "scrolled": true
   },
   "outputs": [],
   "source": [
    "icaaf = pd.DataFrame(df_train1[df_train1['genericresponse_FRAUD']==1].\\\n",
    "                     groupby(['currencycode','issuercountrycode','acquireraccount'])['genericresponse_FRAUD'].\\\n",
    "                     sum().sort_values(ascending = False))\n",
    "icaaf.reset_index(level=['issuercountrycode','acquireraccount'],inplace = True)\n",
    "icaaf['%'] = icaaf['genericresponse_FRAUD']/icaaf['genericresponse_FRAUD'].sum()\n",
    "icaaf = icaaf.head(10)"
   ]
  },
  {
   "cell_type": "code",
   "execution_count": 34,
   "id": "331e2f91",
   "metadata": {},
   "outputs": [
    {
     "name": "stderr",
     "output_type": "stream",
     "text": [
      "C:\\Users\\ng_li\\anaconda3\\lib\\site-packages\\seaborn\\_decorators.py:36: FutureWarning: Pass the following variables as keyword args: x, y. From version 0.12, the only valid positional argument will be `data`, and passing other arguments without an explicit keyword will result in an error or misinterpretation.\n",
      "  warnings.warn(\n"
     ]
    },
    {
     "data": {
      "image/png": "[encoded data removed]",
      "text/plain": [
       "<Figure size 864x432 with 1 Axes>"
      ]
     },
     "metadata": {
      "needs_background": "light"
     },
     "output_type": "display_data"
    }
   ],
   "source": [
    "fig, ax = plt.subplots(figsize=(12,6))\n",
    "sns.barplot(icaaf['issuercountrycode'], icaaf['%'], hue=icaaf['acquireraccount'])\n",
    "ax.set_title('Top 10 Acquirer Account with Fraud Transactions', size = 14)\n",
    "ax.set_xlabel('Acquirer Account')\n",
    "ax.set_ylabel('Percentage of Transactions')\n",
    "ax.legend(loc='center left', bbox_to_anchor=(1, 0.5))\n",
    "ax.set_ylim(0, 0.257)\n",
    "plt.xticks(rotation=90)\n",
    "plt.show()"
   ]
  },
  {
   "cell_type": "code",
   "execution_count": 35,
   "id": "ffb77abe",
   "metadata": {
    "scrolled": true
   },
   "outputs": [
    {
     "data": {
      "text/html": [
       "<div>\n",
       "<style scoped>\n",
       "    .dataframe tbody tr th:only-of-type {\n",
       "        vertical-align: middle;\n",
       "    }\n",
       "\n",
       "    .dataframe tbody tr th {\n",
       "        vertical-align: top;\n",
       "    }\n",
       "\n",
       "    .dataframe thead th {\n",
       "        text-align: right;\n",
       "    }\n",
       "</style>\n",
       "<table border=\"1\" class=\"dataframe\">\n",
       "  <thead>\n",
       "    <tr style=\"text-align: right;\">\n",
       "      <th></th>\n",
       "      <th></th>\n",
       "      <th></th>\n",
       "      <th>genericresponse_FRAUD</th>\n",
       "    </tr>\n",
       "    <tr>\n",
       "      <th>merchant</th>\n",
       "      <th>acquireraccount</th>\n",
       "      <th>acquirer</th>\n",
       "      <th></th>\n",
       "    </tr>\n",
       "  </thead>\n",
       "  <tbody>\n",
       "    <tr>\n",
       "      <th>ABC_IDR</th>\n",
       "      <th>RefusedRiskAcquirerAccount</th>\n",
       "      <th>RefusedAcquirer</th>\n",
       "      <td>5629</td>\n",
       "    </tr>\n",
       "    <tr>\n",
       "      <th>ABC_MYR</th>\n",
       "      <th>RefusedRiskAcquirerAccount</th>\n",
       "      <th>RefusedAcquirer</th>\n",
       "      <td>910</td>\n",
       "    </tr>\n",
       "    <tr>\n",
       "      <th>ABC_SGD</th>\n",
       "      <th>RefusedRiskAcquirerAccount</th>\n",
       "      <th>RefusedAcquirer</th>\n",
       "      <td>1808</td>\n",
       "    </tr>\n",
       "    <tr>\n",
       "      <th>DEF_IDR</th>\n",
       "      <th>RefusedRiskAcquirerAccount</th>\n",
       "      <th>RefusedAcquirer</th>\n",
       "      <td>2072</td>\n",
       "    </tr>\n",
       "    <tr>\n",
       "      <th>DEF_SGD</th>\n",
       "      <th>RefusedRiskAcquirerAccount</th>\n",
       "      <th>RefusedAcquirer</th>\n",
       "      <td>376</td>\n",
       "    </tr>\n",
       "    <tr>\n",
       "      <th>DEF_THB</th>\n",
       "      <th>RefusedRiskAcquirerAccount</th>\n",
       "      <th>RefusedAcquirer</th>\n",
       "      <td>246</td>\n",
       "    </tr>\n",
       "    <tr>\n",
       "      <th>XYZ_IDR</th>\n",
       "      <th>RefusedRiskAcquirerAccount</th>\n",
       "      <th>RefusedAcquirer</th>\n",
       "      <td>1989</td>\n",
       "    </tr>\n",
       "    <tr>\n",
       "      <th>XYZ_MYR</th>\n",
       "      <th>RefusedRiskAcquirerAccount</th>\n",
       "      <th>RefusedAcquirer</th>\n",
       "      <td>842</td>\n",
       "    </tr>\n",
       "    <tr>\n",
       "      <th>XYZ_SGD</th>\n",
       "      <th>RefusedRiskAcquirerAccount</th>\n",
       "      <th>RefusedAcquirer</th>\n",
       "      <td>403</td>\n",
       "    </tr>\n",
       "    <tr>\n",
       "      <th>XYZ_THB</th>\n",
       "      <th>RefusedRiskAcquirerAccount</th>\n",
       "      <th>RefusedAcquirer</th>\n",
       "      <td>226</td>\n",
       "    </tr>\n",
       "  </tbody>\n",
       "</table>\n",
       "</div>"
      ],
      "text/plain": [
       "                                                     genericresponse_FRAUD\n",
       "merchant acquireraccount            acquirer                              \n",
       "ABC_IDR  RefusedRiskAcquirerAccount RefusedAcquirer                   5629\n",
       "ABC_MYR  RefusedRiskAcquirerAccount RefusedAcquirer                    910\n",
       "ABC_SGD  RefusedRiskAcquirerAccount RefusedAcquirer                   1808\n",
       "DEF_IDR  RefusedRiskAcquirerAccount RefusedAcquirer                   2072\n",
       "DEF_SGD  RefusedRiskAcquirerAccount RefusedAcquirer                    376\n",
       "DEF_THB  RefusedRiskAcquirerAccount RefusedAcquirer                    246\n",
       "XYZ_IDR  RefusedRiskAcquirerAccount RefusedAcquirer                   1989\n",
       "XYZ_MYR  RefusedRiskAcquirerAccount RefusedAcquirer                    842\n",
       "XYZ_SGD  RefusedRiskAcquirerAccount RefusedAcquirer                    403\n",
       "XYZ_THB  RefusedRiskAcquirerAccount RefusedAcquirer                    226"
      ]
     },
     "execution_count": 35,
     "metadata": {},
     "output_type": "execute_result"
    }
   ],
   "source": [
    "df_train1[(df_train1['genericresponse_FRAUD']==1)].groupby(['merchant','acquireraccount','acquirer']).count().\\\n",
    "sort_values(by= ['merchant','genericresponse_FRAUD'],ascending = [True,False])[['genericresponse_FRAUD']]"
   ]
  },
  {
   "cell_type": "markdown",
   "id": "2befbc37",
   "metadata": {},
   "source": [
    "All the fraud transactions have been identified and routed through RefusedRiskAcquirerAccount."
   ]
  },
  {
   "cell_type": "markdown",
   "id": "060aa2c4",
   "metadata": {},
   "source": [
    "**Payment Method**"
   ]
  },
  {
   "cell_type": "code",
   "execution_count": 36,
   "id": "2bb1ba3e",
   "metadata": {},
   "outputs": [],
   "source": [
    "fraud_txn = df_train1['genericresponse_FRAUD'].sum()"
   ]
  },
  {
   "cell_type": "code",
   "execution_count": 37,
   "id": "3329a638",
   "metadata": {},
   "outputs": [
    {
     "data": {
      "text/html": [
       "<div>\n",
       "<style scoped>\n",
       "    .dataframe tbody tr th:only-of-type {\n",
       "        vertical-align: middle;\n",
       "    }\n",
       "\n",
       "    .dataframe tbody tr th {\n",
       "        vertical-align: top;\n",
       "    }\n",
       "\n",
       "    .dataframe thead th {\n",
       "        text-align: right;\n",
       "    }\n",
       "</style>\n",
       "<table border=\"1\" class=\"dataframe\">\n",
       "  <thead>\n",
       "    <tr style=\"text-align: right;\">\n",
       "      <th></th>\n",
       "      <th>genericresponse_FRAUD</th>\n",
       "    </tr>\n",
       "    <tr>\n",
       "      <th>paymentmethod</th>\n",
       "      <th></th>\n",
       "    </tr>\n",
       "  </thead>\n",
       "  <tbody>\n",
       "    <tr>\n",
       "      <th>standarddebit</th>\n",
       "      <td>0.438453</td>\n",
       "    </tr>\n",
       "    <tr>\n",
       "      <th>standardcredit</th>\n",
       "      <td>0.201917</td>\n",
       "    </tr>\n",
       "    <tr>\n",
       "      <th>premiumcredit</th>\n",
       "      <td>0.151576</td>\n",
       "    </tr>\n",
       "    <tr>\n",
       "      <th>premiumdebit</th>\n",
       "      <td>0.125509</td>\n",
       "    </tr>\n",
       "    <tr>\n",
       "      <th>credit</th>\n",
       "      <td>0.030067</td>\n",
       "    </tr>\n",
       "    <tr>\n",
       "      <th>superpremiumcredit</th>\n",
       "      <td>0.023860</td>\n",
       "    </tr>\n",
       "    <tr>\n",
       "      <th>commercialcredit</th>\n",
       "      <td>0.014275</td>\n",
       "    </tr>\n",
       "    <tr>\n",
       "      <th>debit</th>\n",
       "      <td>0.008482</td>\n",
       "    </tr>\n",
       "    <tr>\n",
       "      <th>commercialdebit</th>\n",
       "      <td>0.002827</td>\n",
       "    </tr>\n",
       "    <tr>\n",
       "      <th>corporatecredit</th>\n",
       "      <td>0.000896</td>\n",
       "    </tr>\n",
       "    <tr>\n",
       "      <th>commercialpremiumdebit</th>\n",
       "      <td>0.000759</td>\n",
       "    </tr>\n",
       "    <tr>\n",
       "      <th>corporatedebit</th>\n",
       "      <td>0.000552</td>\n",
       "    </tr>\n",
       "    <tr>\n",
       "      <th>commercialpremiumcredit</th>\n",
       "      <td>0.000345</td>\n",
       "    </tr>\n",
       "    <tr>\n",
       "      <th>purchasingcredit</th>\n",
       "      <td>0.000207</td>\n",
       "    </tr>\n",
       "    <tr>\n",
       "      <th>fleetcredit</th>\n",
       "      <td>0.000138</td>\n",
       "    </tr>\n",
       "    <tr>\n",
       "      <th>superpremiumdebit</th>\n",
       "      <td>0.000138</td>\n",
       "    </tr>\n",
       "  </tbody>\n",
       "</table>\n",
       "</div>"
      ],
      "text/plain": [
       "                         genericresponse_FRAUD\n",
       "paymentmethod                                 \n",
       "standarddebit                         0.438453\n",
       "standardcredit                        0.201917\n",
       "premiumcredit                         0.151576\n",
       "premiumdebit                          0.125509\n",
       "credit                                0.030067\n",
       "superpremiumcredit                    0.023860\n",
       "commercialcredit                      0.014275\n",
       "debit                                 0.008482\n",
       "commercialdebit                       0.002827\n",
       "corporatecredit                       0.000896\n",
       "commercialpremiumdebit                0.000759\n",
       "corporatedebit                        0.000552\n",
       "commercialpremiumcredit               0.000345\n",
       "purchasingcredit                      0.000207\n",
       "fleetcredit                           0.000138\n",
       "superpremiumdebit                     0.000138"
      ]
     },
     "execution_count": 37,
     "metadata": {},
     "output_type": "execute_result"
    }
   ],
   "source": [
    "df_train1[(df_train1['genericresponse_FRAUD']==1)].groupby('paymentmethod').count().sort_values(by=['genericresponse_FRAUD'],ascending = False)\\\n",
    "[['genericresponse_FRAUD']]/fraud_txn"
   ]
  },
  {
   "cell_type": "code",
   "execution_count": 38,
   "id": "14344e97",
   "metadata": {},
   "outputs": [],
   "source": [
    "app_txn = df_train1['genericresponse_APPROVED'].sum()"
   ]
  },
  {
   "cell_type": "code",
   "execution_count": 39,
   "id": "7f12be97",
   "metadata": {
    "scrolled": true
   },
   "outputs": [
    {
     "data": {
      "text/html": [
       "<div>\n",
       "<style scoped>\n",
       "    .dataframe tbody tr th:only-of-type {\n",
       "        vertical-align: middle;\n",
       "    }\n",
       "\n",
       "    .dataframe tbody tr th {\n",
       "        vertical-align: top;\n",
       "    }\n",
       "\n",
       "    .dataframe thead th {\n",
       "        text-align: right;\n",
       "    }\n",
       "</style>\n",
       "<table border=\"1\" class=\"dataframe\">\n",
       "  <thead>\n",
       "    <tr style=\"text-align: right;\">\n",
       "      <th></th>\n",
       "      <th>genericresponse_APPROVED</th>\n",
       "    </tr>\n",
       "    <tr>\n",
       "      <th>paymentmethod</th>\n",
       "      <th></th>\n",
       "    </tr>\n",
       "  </thead>\n",
       "  <tbody>\n",
       "    <tr>\n",
       "      <th>premiumcredit</th>\n",
       "      <td>0.249547</td>\n",
       "    </tr>\n",
       "    <tr>\n",
       "      <th>standardcredit</th>\n",
       "      <td>0.217873</td>\n",
       "    </tr>\n",
       "    <tr>\n",
       "      <th>standarddebit</th>\n",
       "      <td>0.174099</td>\n",
       "    </tr>\n",
       "    <tr>\n",
       "      <th>superpremiumcredit</th>\n",
       "      <td>0.125298</td>\n",
       "    </tr>\n",
       "    <tr>\n",
       "      <th>credit</th>\n",
       "      <td>0.098244</td>\n",
       "    </tr>\n",
       "    <tr>\n",
       "      <th>premiumdebit</th>\n",
       "      <td>0.068518</td>\n",
       "    </tr>\n",
       "    <tr>\n",
       "      <th>commercialcredit</th>\n",
       "      <td>0.032480</td>\n",
       "    </tr>\n",
       "    <tr>\n",
       "      <th>corporatecredit</th>\n",
       "      <td>0.009952</td>\n",
       "    </tr>\n",
       "    <tr>\n",
       "      <th>commercialpremiumcredit</th>\n",
       "      <td>0.008429</td>\n",
       "    </tr>\n",
       "    <tr>\n",
       "      <th>commercialpremiumdebit</th>\n",
       "      <td>0.003884</td>\n",
       "    </tr>\n",
       "    <tr>\n",
       "      <th>commercialdebit</th>\n",
       "      <td>0.003047</td>\n",
       "    </tr>\n",
       "    <tr>\n",
       "      <th>purchasingcredit</th>\n",
       "      <td>0.002685</td>\n",
       "    </tr>\n",
       "    <tr>\n",
       "      <th>debit</th>\n",
       "      <td>0.001854</td>\n",
       "    </tr>\n",
       "    <tr>\n",
       "      <th>superpremiumdebit</th>\n",
       "      <td>0.001417</td>\n",
       "    </tr>\n",
       "    <tr>\n",
       "      <th>fleetcredit</th>\n",
       "      <td>0.001261</td>\n",
       "    </tr>\n",
       "    <tr>\n",
       "      <th>commercialsuperpremiumcredit</th>\n",
       "      <td>0.001061</td>\n",
       "    </tr>\n",
       "    <tr>\n",
       "      <th>corporatedebit</th>\n",
       "      <td>0.000350</td>\n",
       "    </tr>\n",
       "  </tbody>\n",
       "</table>\n",
       "</div>"
      ],
      "text/plain": [
       "                              genericresponse_APPROVED\n",
       "paymentmethod                                         \n",
       "premiumcredit                                 0.249547\n",
       "standardcredit                                0.217873\n",
       "standarddebit                                 0.174099\n",
       "superpremiumcredit                            0.125298\n",
       "credit                                        0.098244\n",
       "premiumdebit                                  0.068518\n",
       "commercialcredit                              0.032480\n",
       "corporatecredit                               0.009952\n",
       "commercialpremiumcredit                       0.008429\n",
       "commercialpremiumdebit                        0.003884\n",
       "commercialdebit                               0.003047\n",
       "purchasingcredit                              0.002685\n",
       "debit                                         0.001854\n",
       "superpremiumdebit                             0.001417\n",
       "fleetcredit                                   0.001261\n",
       "commercialsuperpremiumcredit                  0.001061\n",
       "corporatedebit                                0.000350"
      ]
     },
     "execution_count": 39,
     "metadata": {},
     "output_type": "execute_result"
    }
   ],
   "source": [
    "df_train1[(df_train1['genericresponse_APPROVED']==1)].groupby('paymentmethod').count().sort_values(by=['genericresponse_APPROVED'],ascending = False)\\\n",
    "[['genericresponse_APPROVED']]/app_txn"
   ]
  },
  {
   "cell_type": "code",
   "execution_count": 40,
   "id": "1f5c7566",
   "metadata": {},
   "outputs": [
    {
     "data": {
      "image/png": "[encoded data removed]",
      "text/plain": [
       "<Figure size 864x1152 with 2 Axes>"
      ]
     },
     "metadata": {
      "needs_background": "light"
     },
     "output_type": "display_data"
    }
   ],
   "source": [
    "nr_rows = 2\n",
    "nr_cols = 1\n",
    "\n",
    "fig, axs = plt.subplots(nr_rows, nr_cols, figsize=(nr_cols*12,nr_rows*8))\n",
    "\n",
    "ax=df_train1[(df_train1['genericresponse_FRAUD']==1)].groupby('paymentmethod').count()[['genericresponse_FRAUD']]/fraud_txn\n",
    "\n",
    "ax1=df_train1[(df_train1['genericresponse_APPROVED']==1)].groupby('paymentmethod').count()[['genericresponse_APPROVED']]/app_txn\n",
    "\n",
    "ax.plot(kind='bar', ax=axs[0], legend=False, fontsize=10, title='Fraud Transactions',\\\n",
    "       xlabel='Payment Method', ylabel='Percentage of Transactions')\n",
    "ax1.plot(kind='bar', ax=axs[1], legend=False, fontsize=10, title='Approved Transactions',\\\n",
    "        xlabel='Payment Method', ylabel='Percentage of Transactions')\n",
    "\n",
    "fig.suptitle('Most Common Payment Method for Fraud Transactions is the Third Most \\\n",
    "Common for Approved Transactions', size =16, y=0.99)\n",
    "plt.tight_layout()\n",
    "plt.show()"
   ]
  },
  {
   "cell_type": "markdown",
   "id": "18ba043d",
   "metadata": {},
   "source": [
    "Standard Debit payment method makes up about 43.85% of the total fraud transactions, followed by Standard Credit and at 20.19% and Premium Credit at 15.16%.<br>\n",
    "The top three payment method for fraud transactions and approved transactions are the same.<br>\n",
    "Hence, we will look at these three payment method for our anyalsis."
   ]
  },
  {
   "cell_type": "markdown",
   "id": "5aa129e5",
   "metadata": {},
   "source": [
    "### Deep Dive into Payment"
   ]
  },
  {
   "cell_type": "markdown",
   "id": "adea63a5",
   "metadata": {},
   "source": [
    "As discovered earlier, there is no attempt of 3D authentications for all the fraud transactions.<br>\n",
    "Suggest to implement 3D authentications.<br>\n",
    "We will analyze at which amount threshold should 3D authentications be attempted."
   ]
  },
  {
   "cell_type": "markdown",
   "id": "c265c237",
   "metadata": {},
   "source": [
    "**3D Attempt vs Amount**"
   ]
  },
  {
   "cell_type": "code",
   "execution_count": 41,
   "id": "a30d17c1",
   "metadata": {
    "scrolled": true
   },
   "outputs": [
    {
     "name": "stderr",
     "output_type": "stream",
     "text": [
      "C:\\Users\\ng_li\\AppData\\Local\\Temp\\ipykernel_10892\\3073048212.py:1: FutureWarning: Indexing with multiple keys (implicitly converted to a tuple of keys) will be deprecated, use a list instead.\n",
      "  df_train1[(df_train1['genericresponse_FRAUD']==1)&\\\n"
     ]
    },
    {
     "data": {
      "text/html": [
       "<div>\n",
       "<style scoped>\n",
       "    .dataframe tbody tr th:only-of-type {\n",
       "        vertical-align: middle;\n",
       "    }\n",
       "\n",
       "    .dataframe tbody tr th {\n",
       "        vertical-align: top;\n",
       "    }\n",
       "\n",
       "    .dataframe thead th {\n",
       "        text-align: right;\n",
       "    }\n",
       "</style>\n",
       "<table border=\"1\" class=\"dataframe\">\n",
       "  <thead>\n",
       "    <tr style=\"text-align: right;\">\n",
       "      <th></th>\n",
       "      <th></th>\n",
       "      <th>amount</th>\n",
       "    </tr>\n",
       "    <tr>\n",
       "      <th>currencycode</th>\n",
       "      <th>paymentmethod</th>\n",
       "      <th></th>\n",
       "    </tr>\n",
       "  </thead>\n",
       "  <tbody>\n",
       "    <tr>\n",
       "      <th rowspan=\"3\" valign=\"top\">IDR</th>\n",
       "      <th>premiumcredit</th>\n",
       "      <td>15766.666667</td>\n",
       "    </tr>\n",
       "    <tr>\n",
       "      <th>standardcredit</th>\n",
       "      <td>14587.905237</td>\n",
       "    </tr>\n",
       "    <tr>\n",
       "      <th>standarddebit</th>\n",
       "      <td>5023.552460</td>\n",
       "    </tr>\n",
       "    <tr>\n",
       "      <th rowspan=\"3\" valign=\"top\">MYR</th>\n",
       "      <th>premiumcredit</th>\n",
       "      <td>658.910891</td>\n",
       "    </tr>\n",
       "    <tr>\n",
       "      <th>standardcredit</th>\n",
       "      <td>640.788382</td>\n",
       "    </tr>\n",
       "    <tr>\n",
       "      <th>standarddebit</th>\n",
       "      <td>561.673004</td>\n",
       "    </tr>\n",
       "    <tr>\n",
       "      <th rowspan=\"3\" valign=\"top\">SGD</th>\n",
       "      <th>premiumcredit</th>\n",
       "      <td>3516.719745</td>\n",
       "    </tr>\n",
       "    <tr>\n",
       "      <th>standardcredit</th>\n",
       "      <td>3686.075949</td>\n",
       "    </tr>\n",
       "    <tr>\n",
       "      <th>standarddebit</th>\n",
       "      <td>2656.311745</td>\n",
       "    </tr>\n",
       "    <tr>\n",
       "      <th rowspan=\"3\" valign=\"top\">THB</th>\n",
       "      <th>premiumcredit</th>\n",
       "      <td>11315.217391</td>\n",
       "    </tr>\n",
       "    <tr>\n",
       "      <th>standardcredit</th>\n",
       "      <td>2625.980392</td>\n",
       "    </tr>\n",
       "    <tr>\n",
       "      <th>standarddebit</th>\n",
       "      <td>6896.875000</td>\n",
       "    </tr>\n",
       "  </tbody>\n",
       "</table>\n",
       "</div>"
      ],
      "text/plain": [
       "                                   amount\n",
       "currencycode paymentmethod               \n",
       "IDR          premiumcredit   15766.666667\n",
       "             standardcredit  14587.905237\n",
       "             standarddebit    5023.552460\n",
       "MYR          premiumcredit     658.910891\n",
       "             standardcredit    640.788382\n",
       "             standarddebit     561.673004\n",
       "SGD          premiumcredit    3516.719745\n",
       "             standardcredit   3686.075949\n",
       "             standarddebit    2656.311745\n",
       "THB          premiumcredit   11315.217391\n",
       "             standardcredit   2625.980392\n",
       "             standarddebit    6896.875000"
      ]
     },
     "execution_count": 41,
     "metadata": {},
     "output_type": "execute_result"
    }
   ],
   "source": [
    "df_train1[(df_train1['genericresponse_FRAUD']==1)&\\\n",
    "    ((df_train1['paymentmethod']=='standarddebit')|(df_train1['paymentmethod']=='standardcredit')|\\\n",
    "     (df_train1['paymentmethod']=='premiumcredit'))\\\n",
    "   ].groupby(['currencycode','paymentmethod'])['genericresponse_FRAUD','amount'].mean()[['amount']]"
   ]
  },
  {
   "cell_type": "code",
   "execution_count": 42,
   "id": "0432c3d3",
   "metadata": {
    "scrolled": false
   },
   "outputs": [
    {
     "name": "stderr",
     "output_type": "stream",
     "text": [
      "C:\\Users\\ng_li\\AppData\\Local\\Temp\\ipykernel_10892\\2949674858.py:1: FutureWarning: Indexing with multiple keys (implicitly converted to a tuple of keys) will be deprecated, use a list instead.\n",
      "  df_train1[(df_train1['genericresponse_APPROVED']==1)&\\\n"
     ]
    },
    {
     "data": {
      "text/html": [
       "<div>\n",
       "<style scoped>\n",
       "    .dataframe tbody tr th:only-of-type {\n",
       "        vertical-align: middle;\n",
       "    }\n",
       "\n",
       "    .dataframe tbody tr th {\n",
       "        vertical-align: top;\n",
       "    }\n",
       "\n",
       "    .dataframe thead th {\n",
       "        text-align: right;\n",
       "    }\n",
       "</style>\n",
       "<table border=\"1\" class=\"dataframe\">\n",
       "  <thead>\n",
       "    <tr style=\"text-align: right;\">\n",
       "      <th></th>\n",
       "      <th></th>\n",
       "      <th>amount</th>\n",
       "    </tr>\n",
       "    <tr>\n",
       "      <th>currencycode</th>\n",
       "      <th>paymentmethod</th>\n",
       "      <th></th>\n",
       "    </tr>\n",
       "  </thead>\n",
       "  <tbody>\n",
       "    <tr>\n",
       "      <th rowspan=\"3\" valign=\"top\">IDR</th>\n",
       "      <th>premiumcredit</th>\n",
       "      <td>25496.007041</td>\n",
       "    </tr>\n",
       "    <tr>\n",
       "      <th>standardcredit</th>\n",
       "      <td>25264.182011</td>\n",
       "    </tr>\n",
       "    <tr>\n",
       "      <th>standarddebit</th>\n",
       "      <td>20309.600439</td>\n",
       "    </tr>\n",
       "    <tr>\n",
       "      <th rowspan=\"3\" valign=\"top\">MYR</th>\n",
       "      <th>premiumcredit</th>\n",
       "      <td>1485.282286</td>\n",
       "    </tr>\n",
       "    <tr>\n",
       "      <th>standardcredit</th>\n",
       "      <td>1486.678190</td>\n",
       "    </tr>\n",
       "    <tr>\n",
       "      <th>standarddebit</th>\n",
       "      <td>1168.750000</td>\n",
       "    </tr>\n",
       "    <tr>\n",
       "      <th rowspan=\"3\" valign=\"top\">SGD</th>\n",
       "      <th>premiumcredit</th>\n",
       "      <td>1447.420622</td>\n",
       "    </tr>\n",
       "    <tr>\n",
       "      <th>standardcredit</th>\n",
       "      <td>1434.996311</td>\n",
       "    </tr>\n",
       "    <tr>\n",
       "      <th>standarddebit</th>\n",
       "      <td>1321.058615</td>\n",
       "    </tr>\n",
       "    <tr>\n",
       "      <th rowspan=\"3\" valign=\"top\">THB</th>\n",
       "      <th>premiumcredit</th>\n",
       "      <td>11248.350286</td>\n",
       "    </tr>\n",
       "    <tr>\n",
       "      <th>standardcredit</th>\n",
       "      <td>13529.739597</td>\n",
       "    </tr>\n",
       "    <tr>\n",
       "      <th>standarddebit</th>\n",
       "      <td>11391.815631</td>\n",
       "    </tr>\n",
       "  </tbody>\n",
       "</table>\n",
       "</div>"
      ],
      "text/plain": [
       "                                   amount\n",
       "currencycode paymentmethod               \n",
       "IDR          premiumcredit   25496.007041\n",
       "             standardcredit  25264.182011\n",
       "             standarddebit   20309.600439\n",
       "MYR          premiumcredit    1485.282286\n",
       "             standardcredit   1486.678190\n",
       "             standarddebit    1168.750000\n",
       "SGD          premiumcredit    1447.420622\n",
       "             standardcredit   1434.996311\n",
       "             standarddebit    1321.058615\n",
       "THB          premiumcredit   11248.350286\n",
       "             standardcredit  13529.739597\n",
       "             standarddebit   11391.815631"
      ]
     },
     "execution_count": 42,
     "metadata": {},
     "output_type": "execute_result"
    }
   ],
   "source": [
    "df_train1[(df_train1['genericresponse_APPROVED']==1)&\\\n",
    "    ((df_train1['paymentmethod']=='standarddebit')|(df_train1['paymentmethod']=='standardcredit')|\\\n",
    "     (df_train1['paymentmethod']=='premiumcredit'))&\\\n",
    "     (df_train1['threedattempt']=='No')      \n",
    "   ].groupby(['currencycode','paymentmethod'])['genericresponse_APPROVED','amount'].mean()[['amount']]"
   ]
  },
  {
   "cell_type": "code",
   "execution_count": 43,
   "id": "4251f25c",
   "metadata": {},
   "outputs": [
    {
     "data": {
      "image/png": "[encoded data removed]",
      "text/plain": [
       "<Figure size 1152x576 with 2 Axes>"
      ]
     },
     "metadata": {
      "needs_background": "light"
     },
     "output_type": "display_data"
    }
   ],
   "source": [
    "nr_rows = 1\n",
    "nr_cols = 2\n",
    "\n",
    "fig, axs = plt.subplots(nr_rows, nr_cols, figsize=(nr_cols*8,nr_rows*8), sharey=True)\n",
    "\n",
    "ax=df_train1[(df_train1['genericresponse_FRAUD']==1)&\\\n",
    "    ((df_train1['paymentmethod']=='standarddebit')|(df_train1['paymentmethod']=='standardcredit')|\\\n",
    "     (df_train1['paymentmethod']=='premiumcredit'))\\\n",
    "   ].groupby(['currencycode','paymentmethod'])['amount'].mean()\n",
    "\n",
    "ax1=df_train1[(df_train1['genericresponse_APPROVED']==1)&\\\n",
    "    ((df_train1['paymentmethod']=='standarddebit')|(df_train1['paymentmethod']=='standardcredit')|\\\n",
    "     (df_train1['paymentmethod']=='premiumcredit'))&\\\n",
    "     (df_train1['threedattempt']=='No')      \n",
    "   ].groupby(['currencycode','paymentmethod'])['amount'].mean()\n",
    "\n",
    "ax.plot(kind='bar', ax=axs[0], legend=False, fontsize=12, title='Fraud Transactions')\n",
    "ax1.plot(kind='bar', ax=axs[1], legend=False, fontsize=12, title='Approved Transactions')\n",
    "\n",
    "fig.suptitle('Amount for each Currency and Payment Method', size =18, y=0.99)\n",
    "plt.tight_layout()\n",
    "plt.show()"
   ]
  },
  {
   "cell_type": "markdown",
   "id": "5d5f2578",
   "metadata": {},
   "source": [
    "The transacted amount for each currency and payment type are generally higher for approved transactions.\n",
    "However, 3D authentication still plays an important role in preventing frauds.\n",
    "As such, suggest to implement 3DS2 authentication where it provides a more frictionless authentication that would less likely dampen the customers' payment experience, for amount below the below thresholds:\n",
    "\n",
    "| currencycode | paymentmethod | Threshold Amount |\n",
    "| --- | --- | --- |\n",
    "| IDR | premium credit | 25,500 |\n",
    "| IDR | standard credit | 25,500 |\n",
    "| IDR | standard debit | 20,500 |\n",
    "| MYR | premium credit | 1,500 |\n",
    "| MYR | standard credit | 1,500 |\n",
    "| MYR | standard debit | 1,500 |\n",
    "| SGD | premium credit | 3,500 |\n",
    "| SGD | standard credit | 3,700 |\n",
    "| SGD | standard debit | 2,700 |\n",
    "| THB | premium credit | 11,500 |\n",
    "| THB | standard credit | 13,500 |\n",
    "| THB | standard debit | 11,500 |"
   ]
  },
  {
   "cell_type": "markdown",
   "id": "61335ea8",
   "metadata": {},
   "source": [
    "It is assumed that fraud can happen at any day and at any time.\n",
    "Therefore we will not dive into the day and hour analysis."
   ]
  },
  {
   "cell_type": "markdown",
   "id": "2150a3d5",
   "metadata": {},
   "source": [
    "### Declined Transactions\n",
    "---\n",
    "The analysis for the following sections will be based on declined transactions."
   ]
  },
  {
   "cell_type": "markdown",
   "id": "02df7002",
   "metadata": {},
   "source": [
    "**Issuer Country Code**"
   ]
  },
  {
   "cell_type": "code",
   "execution_count": 44,
   "id": "031953ec",
   "metadata": {
    "scrolled": true
   },
   "outputs": [],
   "source": [
    "ic = pd.DataFrame(df_train[df_train['genericresponse']==\"DECLINED\"].\\\n",
    "                  groupby('genericresponse')['issuercountrycode'].value_counts()/total_txn)\n",
    "ic.rename(columns = {'issuercountrycode': '%'},inplace = True)\n",
    "ic.reset_index(level=['genericresponse','issuercountrycode'],inplace = True)\n",
    "ic=ic.head(10)"
   ]
  },
  {
   "cell_type": "code",
   "execution_count": 45,
   "id": "e2c70152",
   "metadata": {
    "scrolled": false
   },
   "outputs": [
    {
     "name": "stderr",
     "output_type": "stream",
     "text": [
      "C:\\Users\\ng_li\\anaconda3\\lib\\site-packages\\seaborn\\_decorators.py:36: FutureWarning: Pass the following variables as keyword args: x, y. From version 0.12, the only valid positional argument will be `data`, and passing other arguments without an explicit keyword will result in an error or misinterpretation.\n",
      "  warnings.warn(\n",
      "No artists with labels found to put in legend.  Note that artists whose label start with an underscore are ignored when legend() is called with no argument.\n"
     ]
    },
    {
     "data": {
      "image/png": "[encoded data removed]",
      "text/plain": [
       "<Figure size 864x432 with 1 Axes>"
      ]
     },
     "metadata": {
      "needs_background": "light"
     },
     "output_type": "display_data"
    }
   ],
   "source": [
    "fig, ax = plt.subplots(figsize=(12,6))\n",
    "sns.barplot(ic['issuercountrycode'], ic['%'])\n",
    "ax.set_title('ID is the Most Common Issuer Country Code for Declined Transactions', size = 14)\n",
    "ax.set_xlabel('Issuer Country Code')\n",
    "ax.set_ylabel('Percentage of Transactions')\n",
    "ax.legend(loc='center left', bbox_to_anchor=(1, 0.5))\n",
    "\n",
    "plt.show()"
   ]
  },
  {
   "cell_type": "markdown",
   "id": "3239d158",
   "metadata": {},
   "source": [
    "**Issuer Country Code and Acquirer Account**"
   ]
  },
  {
   "cell_type": "code",
   "execution_count": 46,
   "id": "4924b087",
   "metadata": {
    "scrolled": true
   },
   "outputs": [],
   "source": [
    "icaa = pd.DataFrame(df_train1.groupby(['currencycode','issuercountrycode','acquireraccount'])['genericresponse_DECLINED'].sum().sort_values(ascending = False))\n",
    "icaa.reset_index(level=['issuercountrycode','acquireraccount'],inplace = True)\n",
    "icaa['%'] = icaa['genericresponse_DECLINED']/icaa['genericresponse_DECLINED'].sum()\n",
    "icaa=icaa[icaa['genericresponse_DECLINED']> 100]"
   ]
  },
  {
   "cell_type": "code",
   "execution_count": 47,
   "id": "00588e90",
   "metadata": {},
   "outputs": [
    {
     "name": "stderr",
     "output_type": "stream",
     "text": [
      "C:\\Users\\ng_li\\anaconda3\\lib\\site-packages\\seaborn\\_decorators.py:36: FutureWarning: Pass the following variables as keyword args: x, y. From version 0.12, the only valid positional argument will be `data`, and passing other arguments without an explicit keyword will result in an error or misinterpretation.\n",
      "  warnings.warn(\n"
     ]
    },
    {
     "data": {
      "image/png": "[encoded data removed]",
      "text/plain": [
       "<Figure size 864x432 with 1 Axes>"
      ]
     },
     "metadata": {
      "needs_background": "light"
     },
     "output_type": "display_data"
    }
   ],
   "source": [
    "fig, ax = plt.subplots(figsize=(12,6))\n",
    "sns.barplot(icaa['issuercountrycode'], icaa['%'], hue=icaa['acquireraccount'])\n",
    "ax.set_title('Top Acquirer Account with Declined Transactions', size = 14)\n",
    "ax.set_xlabel('Acquirer Account')\n",
    "ax.set_ylabel('Percentage of Transactions')\n",
    "ax.legend(loc='center left', bbox_to_anchor=(1, 0.5))\n",
    "ax.set_ylim(0, 0.257)\n",
    "plt.xticks(rotation=90)\n",
    "plt.show()"
   ]
  },
  {
   "cell_type": "code",
   "execution_count": 48,
   "id": "10647916",
   "metadata": {},
   "outputs": [
    {
     "data": {
      "text/html": [
       "<div>\n",
       "<style scoped>\n",
       "    .dataframe tbody tr th:only-of-type {\n",
       "        vertical-align: middle;\n",
       "    }\n",
       "\n",
       "    .dataframe tbody tr th {\n",
       "        vertical-align: top;\n",
       "    }\n",
       "\n",
       "    .dataframe thead th {\n",
       "        text-align: right;\n",
       "    }\n",
       "</style>\n",
       "<table border=\"1\" class=\"dataframe\">\n",
       "  <thead>\n",
       "    <tr style=\"text-align: right;\">\n",
       "      <th></th>\n",
       "      <th></th>\n",
       "      <th></th>\n",
       "      <th>genericresponse_DECLINED</th>\n",
       "    </tr>\n",
       "    <tr>\n",
       "      <th>acquireraccount</th>\n",
       "      <th>currencycode</th>\n",
       "      <th>issuercountrycode</th>\n",
       "      <th></th>\n",
       "    </tr>\n",
       "  </thead>\n",
       "  <tbody>\n",
       "    <tr>\n",
       "      <th>AdyenMasterCardMalaysia_ABC_IDR</th>\n",
       "      <th>IDR</th>\n",
       "      <th>ID</th>\n",
       "      <td>0.255496</td>\n",
       "    </tr>\n",
       "    <tr>\n",
       "      <th>AdyenMasterCardMalaysia_XYZ_IDR</th>\n",
       "      <th>IDR</th>\n",
       "      <th>ID</th>\n",
       "      <td>0.142435</td>\n",
       "    </tr>\n",
       "    <tr>\n",
       "      <th>AdyenMasterCardEurope_DEF_IDR</th>\n",
       "      <th>IDR</th>\n",
       "      <th>ID</th>\n",
       "      <td>0.136708</td>\n",
       "    </tr>\n",
       "    <tr>\n",
       "      <th>AdyenMasterCardSingapore_ABC_IDR</th>\n",
       "      <th>IDR</th>\n",
       "      <th>ID</th>\n",
       "      <td>0.126917</td>\n",
       "    </tr>\n",
       "    <tr>\n",
       "      <th>AdyenMasterCardEurope_XYZ_THB</th>\n",
       "      <th>THB</th>\n",
       "      <th>TH</th>\n",
       "      <td>0.035101</td>\n",
       "    </tr>\n",
       "    <tr>\n",
       "      <th>AdyenVisaMalaysia_ABC_IDR</th>\n",
       "      <th>IDR</th>\n",
       "      <th>ID</th>\n",
       "      <td>0.022908</td>\n",
       "    </tr>\n",
       "    <tr>\n",
       "      <th>AdyenMasterCardSingapore_DEF_THB</th>\n",
       "      <th>THB</th>\n",
       "      <th>TH</th>\n",
       "      <td>0.017735</td>\n",
       "    </tr>\n",
       "    <tr>\n",
       "      <th>AdyenVisaMalaysia_XYZ_MYR</th>\n",
       "      <th>MYR</th>\n",
       "      <th>MY</th>\n",
       "      <td>0.013301</td>\n",
       "    </tr>\n",
       "    <tr>\n",
       "      <th>AdyenVisaMalaysia_ABC_MYR</th>\n",
       "      <th>MYR</th>\n",
       "      <th>MY</th>\n",
       "      <td>0.012747</td>\n",
       "    </tr>\n",
       "    <tr>\n",
       "      <th>AdyenVisaEurope_XYZ_THB</th>\n",
       "      <th>THB</th>\n",
       "      <th>TH</th>\n",
       "      <td>0.011269</td>\n",
       "    </tr>\n",
       "  </tbody>\n",
       "</table>\n",
       "</div>"
      ],
      "text/plain": [
       "                                                                 genericresponse_DECLINED\n",
       "acquireraccount                  currencycode issuercountrycode                          \n",
       "AdyenMasterCardMalaysia_ABC_IDR  IDR          ID                                 0.255496\n",
       "AdyenMasterCardMalaysia_XYZ_IDR  IDR          ID                                 0.142435\n",
       "AdyenMasterCardEurope_DEF_IDR    IDR          ID                                 0.136708\n",
       "AdyenMasterCardSingapore_ABC_IDR IDR          ID                                 0.126917\n",
       "AdyenMasterCardEurope_XYZ_THB    THB          TH                                 0.035101\n",
       "AdyenVisaMalaysia_ABC_IDR        IDR          ID                                 0.022908\n",
       "AdyenMasterCardSingapore_DEF_THB THB          TH                                 0.017735\n",
       "AdyenVisaMalaysia_XYZ_MYR        MYR          MY                                 0.013301\n",
       "AdyenVisaMalaysia_ABC_MYR        MYR          MY                                 0.012747\n",
       "AdyenVisaEurope_XYZ_THB          THB          TH                                 0.011269"
      ]
     },
     "execution_count": 48,
     "metadata": {},
     "output_type": "execute_result"
    }
   ],
   "source": [
    "df_train1[(df_train1['genericresponse_DECLINED']==1)].groupby(['acquireraccount','currencycode',\\\n",
    "                                                               'issuercountrycode']).count().\\\n",
    "sort_values(by= ['genericresponse_DECLINED'],ascending =False)[['genericresponse_DECLINED']].head(10)/\\\n",
    "df_train1[(df_train1['genericresponse_DECLINED']==1)][['genericresponse_DECLINED']].sum()"
   ]
  },
  {
   "cell_type": "code",
   "execution_count": 49,
   "id": "e61e3beb",
   "metadata": {
    "scrolled": true
   },
   "outputs": [
    {
     "data": {
      "text/html": [
       "<div>\n",
       "<style scoped>\n",
       "    .dataframe tbody tr th:only-of-type {\n",
       "        vertical-align: middle;\n",
       "    }\n",
       "\n",
       "    .dataframe tbody tr th {\n",
       "        vertical-align: top;\n",
       "    }\n",
       "\n",
       "    .dataframe thead th {\n",
       "        text-align: right;\n",
       "    }\n",
       "</style>\n",
       "<table border=\"1\" class=\"dataframe\">\n",
       "  <thead>\n",
       "    <tr style=\"text-align: right;\">\n",
       "      <th></th>\n",
       "      <th></th>\n",
       "      <th></th>\n",
       "      <th>genericresponse_DECLINED</th>\n",
       "    </tr>\n",
       "    <tr>\n",
       "      <th>acquireraccount</th>\n",
       "      <th>currencycode</th>\n",
       "      <th>issuercountrycode</th>\n",
       "      <th></th>\n",
       "    </tr>\n",
       "  </thead>\n",
       "  <tbody>\n",
       "    <tr>\n",
       "      <th rowspan=\"4\" valign=\"top\">AdyenVisaMalaysia_ABC_IDR</th>\n",
       "      <th rowspan=\"4\" valign=\"top\">IDR</th>\n",
       "      <th>GT</th>\n",
       "      <td>0.000185</td>\n",
       "    </tr>\n",
       "    <tr>\n",
       "      <th>GB</th>\n",
       "      <td>0.000185</td>\n",
       "    </tr>\n",
       "    <tr>\n",
       "      <th>DE</th>\n",
       "      <td>0.000185</td>\n",
       "    </tr>\n",
       "    <tr>\n",
       "      <th>BE</th>\n",
       "      <td>0.000185</td>\n",
       "    </tr>\n",
       "    <tr>\n",
       "      <th rowspan=\"5\" valign=\"top\">AdyenVisaEurope_XYZ_THB</th>\n",
       "      <th rowspan=\"5\" valign=\"top\">THB</th>\n",
       "      <th>US</th>\n",
       "      <td>0.000185</td>\n",
       "    </tr>\n",
       "    <tr>\n",
       "      <th>UA</th>\n",
       "      <td>0.000185</td>\n",
       "    </tr>\n",
       "    <tr>\n",
       "      <th>TW</th>\n",
       "      <td>0.000185</td>\n",
       "    </tr>\n",
       "    <tr>\n",
       "      <th>HK</th>\n",
       "      <td>0.000185</td>\n",
       "    </tr>\n",
       "    <tr>\n",
       "      <th>BN</th>\n",
       "      <td>0.000185</td>\n",
       "    </tr>\n",
       "    <tr>\n",
       "      <th>AdyenMasterCardEurope_XYZ_THB</th>\n",
       "      <th>THB</th>\n",
       "      <th>LV</th>\n",
       "      <td>0.000185</td>\n",
       "    </tr>\n",
       "    <tr>\n",
       "      <th>AdyenVisaEurope_DEF_IDR</th>\n",
       "      <th>IDR</th>\n",
       "      <th>CN</th>\n",
       "      <td>0.000185</td>\n",
       "    </tr>\n",
       "    <tr>\n",
       "      <th rowspan=\"2\" valign=\"top\">AdyenMasterCardSingapore_XYZ_SGD</th>\n",
       "      <th rowspan=\"2\" valign=\"top\">SGD</th>\n",
       "      <th>KR</th>\n",
       "      <td>0.000185</td>\n",
       "    </tr>\n",
       "    <tr>\n",
       "      <th>ID</th>\n",
       "      <td>0.000185</td>\n",
       "    </tr>\n",
       "    <tr>\n",
       "      <th rowspan=\"2\" valign=\"top\">AdyenMasterCardSingapore_DEF_THB</th>\n",
       "      <th rowspan=\"2\" valign=\"top\">THB</th>\n",
       "      <th>ZA</th>\n",
       "      <td>0.000185</td>\n",
       "    </tr>\n",
       "    <tr>\n",
       "      <th>TW</th>\n",
       "      <td>0.000185</td>\n",
       "    </tr>\n",
       "    <tr>\n",
       "      <th>AdyenMasterCardEurope_XYZ_THB</th>\n",
       "      <th>THB</th>\n",
       "      <th>QA</th>\n",
       "      <td>0.000185</td>\n",
       "    </tr>\n",
       "    <tr>\n",
       "      <th rowspan=\"3\" valign=\"top\">AdyenMasterCardSingapore_DEF_THB</th>\n",
       "      <th rowspan=\"3\" valign=\"top\">THB</th>\n",
       "      <th>SE</th>\n",
       "      <td>0.000185</td>\n",
       "    </tr>\n",
       "    <tr>\n",
       "      <th>RU</th>\n",
       "      <td>0.000185</td>\n",
       "    </tr>\n",
       "    <tr>\n",
       "      <th>KR</th>\n",
       "      <td>0.000185</td>\n",
       "    </tr>\n",
       "    <tr>\n",
       "      <th>AdyenVisaSingapore_XYZ_SGD</th>\n",
       "      <th>SGD</th>\n",
       "      <th>VN</th>\n",
       "      <td>0.000185</td>\n",
       "    </tr>\n",
       "  </tbody>\n",
       "</table>\n",
       "</div>"
      ],
      "text/plain": [
       "                                                                 genericresponse_DECLINED\n",
       "acquireraccount                  currencycode issuercountrycode                          \n",
       "AdyenVisaMalaysia_ABC_IDR        IDR          GT                                 0.000185\n",
       "                                              GB                                 0.000185\n",
       "                                              DE                                 0.000185\n",
       "                                              BE                                 0.000185\n",
       "AdyenVisaEurope_XYZ_THB          THB          US                                 0.000185\n",
       "                                              UA                                 0.000185\n",
       "                                              TW                                 0.000185\n",
       "                                              HK                                 0.000185\n",
       "                                              BN                                 0.000185\n",
       "AdyenMasterCardEurope_XYZ_THB    THB          LV                                 0.000185\n",
       "AdyenVisaEurope_DEF_IDR          IDR          CN                                 0.000185\n",
       "AdyenMasterCardSingapore_XYZ_SGD SGD          KR                                 0.000185\n",
       "                                              ID                                 0.000185\n",
       "AdyenMasterCardSingapore_DEF_THB THB          ZA                                 0.000185\n",
       "                                              TW                                 0.000185\n",
       "AdyenMasterCardEurope_XYZ_THB    THB          QA                                 0.000185\n",
       "AdyenMasterCardSingapore_DEF_THB THB          SE                                 0.000185\n",
       "                                              RU                                 0.000185\n",
       "                                              KR                                 0.000185\n",
       "AdyenVisaSingapore_XYZ_SGD       SGD          VN                                 0.000185"
      ]
     },
     "execution_count": 49,
     "metadata": {},
     "output_type": "execute_result"
    }
   ],
   "source": [
    "df_train1[(df_train1['genericresponse_DECLINED']==1)].groupby(['acquireraccount','currencycode',\\\n",
    "                                                               'issuercountrycode']).count().\\\n",
    "sort_values(by= ['genericresponse_DECLINED'],ascending =False)[['genericresponse_DECLINED']].tail(20)/\\\n",
    "df_train1[(df_train1['genericresponse_DECLINED']==1)][['genericresponse_DECLINED']].sum()"
   ]
  },
  {
   "cell_type": "markdown",
   "id": "996ff1ec",
   "metadata": {},
   "source": [
    "For majority of the declined transactions, there is no difference in the acquirer account currency, issuer account currency and the transacted currency.<br>\n",
    "It is noted that the is a small percentage of such incidents, however, it is not huge enough for us to deep dive into it."
   ]
  },
  {
   "cell_type": "code",
   "execution_count": 50,
   "id": "c1c651bb",
   "metadata": {
    "scrolled": false
   },
   "outputs": [
    {
     "data": {
      "text/html": [
       "<div>\n",
       "<style scoped>\n",
       "    .dataframe tbody tr th:only-of-type {\n",
       "        vertical-align: middle;\n",
       "    }\n",
       "\n",
       "    .dataframe tbody tr th {\n",
       "        vertical-align: top;\n",
       "    }\n",
       "\n",
       "    .dataframe thead th {\n",
       "        text-align: right;\n",
       "    }\n",
       "</style>\n",
       "<table border=\"1\" class=\"dataframe\">\n",
       "  <thead>\n",
       "    <tr style=\"text-align: right;\">\n",
       "      <th></th>\n",
       "      <th></th>\n",
       "      <th></th>\n",
       "      <th>genericresponse_APPROVED</th>\n",
       "    </tr>\n",
       "    <tr>\n",
       "      <th>acquireraccount</th>\n",
       "      <th>currencycode</th>\n",
       "      <th>issuercountrycode</th>\n",
       "      <th></th>\n",
       "    </tr>\n",
       "  </thead>\n",
       "  <tbody>\n",
       "    <tr>\n",
       "      <th>AdyenVisaMalaysia_ABC_IDR</th>\n",
       "      <th>IDR</th>\n",
       "      <th>ID</th>\n",
       "      <td>0.063748</td>\n",
       "    </tr>\n",
       "    <tr>\n",
       "      <th>AdyenVisaMalaysia_XYZ_MYR</th>\n",
       "      <th>MYR</th>\n",
       "      <th>MY</th>\n",
       "      <td>0.057891</td>\n",
       "    </tr>\n",
       "    <tr>\n",
       "      <th>AdyenVisaMalaysia_ABC_MYR</th>\n",
       "      <th>MYR</th>\n",
       "      <th>MY</th>\n",
       "      <td>0.057598</td>\n",
       "    </tr>\n",
       "    <tr>\n",
       "      <th>AdyenMasterCardSingapore_ABC_IDR</th>\n",
       "      <th>IDR</th>\n",
       "      <th>ID</th>\n",
       "      <td>0.053964</td>\n",
       "    </tr>\n",
       "    <tr>\n",
       "      <th>AdyenMasterCardMalaysia_XYZ_MYR</th>\n",
       "      <th>MYR</th>\n",
       "      <th>MY</th>\n",
       "      <td>0.048613</td>\n",
       "    </tr>\n",
       "    <tr>\n",
       "      <th>AdyenMasterCardMalaysia_ABC_MYR</th>\n",
       "      <th>MYR</th>\n",
       "      <th>MY</th>\n",
       "      <td>0.048576</td>\n",
       "    </tr>\n",
       "    <tr>\n",
       "      <th>AdyenVisaSingapore_DEF_THB</th>\n",
       "      <th>THB</th>\n",
       "      <th>TH</th>\n",
       "      <td>0.043169</td>\n",
       "    </tr>\n",
       "    <tr>\n",
       "      <th>AdyenVisaSingapore_ABC_IDR</th>\n",
       "      <th>IDR</th>\n",
       "      <th>ID</th>\n",
       "      <td>0.041982</td>\n",
       "    </tr>\n",
       "    <tr>\n",
       "      <th>AdyenMasterCardEurope_DEF_IDR</th>\n",
       "      <th>IDR</th>\n",
       "      <th>ID</th>\n",
       "      <td>0.041727</td>\n",
       "    </tr>\n",
       "    <tr>\n",
       "      <th>AdyenMasterCardMalaysia_XYZ_IDR</th>\n",
       "      <th>IDR</th>\n",
       "      <th>ID</th>\n",
       "      <td>0.041589</td>\n",
       "    </tr>\n",
       "  </tbody>\n",
       "</table>\n",
       "</div>"
      ],
      "text/plain": [
       "                                                                 genericresponse_APPROVED\n",
       "acquireraccount                  currencycode issuercountrycode                          \n",
       "AdyenVisaMalaysia_ABC_IDR        IDR          ID                                 0.063748\n",
       "AdyenVisaMalaysia_XYZ_MYR        MYR          MY                                 0.057891\n",
       "AdyenVisaMalaysia_ABC_MYR        MYR          MY                                 0.057598\n",
       "AdyenMasterCardSingapore_ABC_IDR IDR          ID                                 0.053964\n",
       "AdyenMasterCardMalaysia_XYZ_MYR  MYR          MY                                 0.048613\n",
       "AdyenMasterCardMalaysia_ABC_MYR  MYR          MY                                 0.048576\n",
       "AdyenVisaSingapore_DEF_THB       THB          TH                                 0.043169\n",
       "AdyenVisaSingapore_ABC_IDR       IDR          ID                                 0.041982\n",
       "AdyenMasterCardEurope_DEF_IDR    IDR          ID                                 0.041727\n",
       "AdyenMasterCardMalaysia_XYZ_IDR  IDR          ID                                 0.041589"
      ]
     },
     "execution_count": 50,
     "metadata": {},
     "output_type": "execute_result"
    }
   ],
   "source": [
    "df_train1[(df_train1['genericresponse_APPROVED']==1)].groupby(['acquireraccount','currencycode',\\\n",
    "                                                               'issuercountrycode']).count().\\\n",
    "sort_values(by= ['genericresponse_APPROVED'],ascending =False)[['genericresponse_APPROVED']].head(10)/\\\n",
    "df_train1[(df_train1['genericresponse_APPROVED']==1)][['genericresponse_APPROVED']].sum()"
   ]
  },
  {
   "cell_type": "code",
   "execution_count": 51,
   "id": "2d22744d",
   "metadata": {},
   "outputs": [
    {
     "data": {
      "text/html": [
       "<div>\n",
       "<style scoped>\n",
       "    .dataframe tbody tr th:only-of-type {\n",
       "        vertical-align: middle;\n",
       "    }\n",
       "\n",
       "    .dataframe tbody tr th {\n",
       "        vertical-align: top;\n",
       "    }\n",
       "\n",
       "    .dataframe thead th {\n",
       "        text-align: right;\n",
       "    }\n",
       "</style>\n",
       "<table border=\"1\" class=\"dataframe\">\n",
       "  <thead>\n",
       "    <tr style=\"text-align: right;\">\n",
       "      <th></th>\n",
       "      <th></th>\n",
       "      <th></th>\n",
       "      <th>genericresponse_APPROVED</th>\n",
       "    </tr>\n",
       "    <tr>\n",
       "      <th>acquireraccount</th>\n",
       "      <th>currencycode</th>\n",
       "      <th>issuercountrycode</th>\n",
       "      <th></th>\n",
       "    </tr>\n",
       "  </thead>\n",
       "  <tbody>\n",
       "    <tr>\n",
       "      <th rowspan=\"9\" valign=\"top\">AdyenVisaEurope_XYZ_THB</th>\n",
       "      <th rowspan=\"9\" valign=\"top\">THB</th>\n",
       "      <th>PK</th>\n",
       "      <td>0.000006</td>\n",
       "    </tr>\n",
       "    <tr>\n",
       "      <th>OM</th>\n",
       "      <td>0.000006</td>\n",
       "    </tr>\n",
       "    <tr>\n",
       "      <th>KH</th>\n",
       "      <td>0.000006</td>\n",
       "    </tr>\n",
       "    <tr>\n",
       "      <th>IL</th>\n",
       "      <td>0.000006</td>\n",
       "    </tr>\n",
       "    <tr>\n",
       "      <th>IE</th>\n",
       "      <td>0.000006</td>\n",
       "    </tr>\n",
       "    <tr>\n",
       "      <th>FI</th>\n",
       "      <td>0.000006</td>\n",
       "    </tr>\n",
       "    <tr>\n",
       "      <th>EC</th>\n",
       "      <td>0.000006</td>\n",
       "    </tr>\n",
       "    <tr>\n",
       "      <th>CZ</th>\n",
       "      <td>0.000006</td>\n",
       "    </tr>\n",
       "    <tr>\n",
       "      <th>CO</th>\n",
       "      <td>0.000006</td>\n",
       "    </tr>\n",
       "    <tr>\n",
       "      <th>AdyenMasterCardSingapore_XYZ_SGD</th>\n",
       "      <th>SGD</th>\n",
       "      <th>SE</th>\n",
       "      <td>0.000006</td>\n",
       "    </tr>\n",
       "  </tbody>\n",
       "</table>\n",
       "</div>"
      ],
      "text/plain": [
       "                                                                 genericresponse_APPROVED\n",
       "acquireraccount                  currencycode issuercountrycode                          \n",
       "AdyenVisaEurope_XYZ_THB          THB          PK                                 0.000006\n",
       "                                              OM                                 0.000006\n",
       "                                              KH                                 0.000006\n",
       "                                              IL                                 0.000006\n",
       "                                              IE                                 0.000006\n",
       "                                              FI                                 0.000006\n",
       "                                              EC                                 0.000006\n",
       "                                              CZ                                 0.000006\n",
       "                                              CO                                 0.000006\n",
       "AdyenMasterCardSingapore_XYZ_SGD SGD          SE                                 0.000006"
      ]
     },
     "execution_count": 51,
     "metadata": {},
     "output_type": "execute_result"
    }
   ],
   "source": [
    "df_train1[(df_train1['genericresponse_APPROVED']==1)].groupby(['acquireraccount','currencycode',\\\n",
    "                                                               'issuercountrycode']).count().\\\n",
    "sort_values(by= ['genericresponse_APPROVED'],ascending =False)[['genericresponse_APPROVED']].tail(10)/\\\n",
    "df_train1[(df_train1['genericresponse_APPROVED']==1)][['genericresponse_APPROVED']].sum()"
   ]
  },
  {
   "cell_type": "markdown",
   "id": "92377772",
   "metadata": {},
   "source": [
    "The same is observed for approved transactions.<br>\n",
    "<br>\n",
    "Hence, concluding that difference in acquirer account currency, issuer account currency and the transacted currency has minor impact on the authorization rate."
   ]
  },
  {
   "cell_type": "markdown",
   "id": "072f07de",
   "metadata": {},
   "source": [
    "**Payment Method**"
   ]
  },
  {
   "cell_type": "code",
   "execution_count": 52,
   "id": "6ca11b6d",
   "metadata": {},
   "outputs": [],
   "source": [
    "decline_txn = df_train1['genericresponse_DECLINED'].sum()"
   ]
  },
  {
   "cell_type": "code",
   "execution_count": 53,
   "id": "4342dbca",
   "metadata": {},
   "outputs": [
    {
     "data": {
      "text/html": [
       "<div>\n",
       "<style scoped>\n",
       "    .dataframe tbody tr th:only-of-type {\n",
       "        vertical-align: middle;\n",
       "    }\n",
       "\n",
       "    .dataframe tbody tr th {\n",
       "        vertical-align: top;\n",
       "    }\n",
       "\n",
       "    .dataframe thead th {\n",
       "        text-align: right;\n",
       "    }\n",
       "</style>\n",
       "<table border=\"1\" class=\"dataframe\">\n",
       "  <thead>\n",
       "    <tr style=\"text-align: right;\">\n",
       "      <th></th>\n",
       "      <th>genericresponse_DECLINED</th>\n",
       "    </tr>\n",
       "    <tr>\n",
       "      <th>paymentmethod</th>\n",
       "      <th></th>\n",
       "    </tr>\n",
       "  </thead>\n",
       "  <tbody>\n",
       "    <tr>\n",
       "      <th>standarddebit</th>\n",
       "      <td>0.636061</td>\n",
       "    </tr>\n",
       "    <tr>\n",
       "      <th>credit</th>\n",
       "      <td>0.100129</td>\n",
       "    </tr>\n",
       "    <tr>\n",
       "      <th>commercialcredit</th>\n",
       "      <td>0.059671</td>\n",
       "    </tr>\n",
       "    <tr>\n",
       "      <th>superpremiumcredit</th>\n",
       "      <td>0.040089</td>\n",
       "    </tr>\n",
       "    <tr>\n",
       "      <th>standardcredit</th>\n",
       "      <td>0.032884</td>\n",
       "    </tr>\n",
       "    <tr>\n",
       "      <th>premiumdebit</th>\n",
       "      <td>0.029189</td>\n",
       "    </tr>\n",
       "    <tr>\n",
       "      <th>premiumcredit</th>\n",
       "      <td>0.027342</td>\n",
       "    </tr>\n",
       "    <tr>\n",
       "      <th>commercialpremiumcredit</th>\n",
       "      <td>0.019952</td>\n",
       "    </tr>\n",
       "    <tr>\n",
       "      <th>corporatecredit</th>\n",
       "      <td>0.014964</td>\n",
       "    </tr>\n",
       "    <tr>\n",
       "      <th>debit</th>\n",
       "      <td>0.014779</td>\n",
       "    </tr>\n",
       "    <tr>\n",
       "      <th>commercialpremiumdebit</th>\n",
       "      <td>0.013486</td>\n",
       "    </tr>\n",
       "    <tr>\n",
       "      <th>commercialdebit</th>\n",
       "      <td>0.007759</td>\n",
       "    </tr>\n",
       "    <tr>\n",
       "      <th>proprietary</th>\n",
       "      <td>0.001293</td>\n",
       "    </tr>\n",
       "    <tr>\n",
       "      <th>purchasingcredit</th>\n",
       "      <td>0.000924</td>\n",
       "    </tr>\n",
       "    <tr>\n",
       "      <th>superpremiumdebit</th>\n",
       "      <td>0.000739</td>\n",
       "    </tr>\n",
       "    <tr>\n",
       "      <th>fleetcredit</th>\n",
       "      <td>0.000554</td>\n",
       "    </tr>\n",
       "    <tr>\n",
       "      <th>commercialsuperpremiumcredit</th>\n",
       "      <td>0.000185</td>\n",
       "    </tr>\n",
       "  </tbody>\n",
       "</table>\n",
       "</div>"
      ],
      "text/plain": [
       "                              genericresponse_DECLINED\n",
       "paymentmethod                                         \n",
       "standarddebit                                 0.636061\n",
       "credit                                        0.100129\n",
       "commercialcredit                              0.059671\n",
       "superpremiumcredit                            0.040089\n",
       "standardcredit                                0.032884\n",
       "premiumdebit                                  0.029189\n",
       "premiumcredit                                 0.027342\n",
       "commercialpremiumcredit                       0.019952\n",
       "corporatecredit                               0.014964\n",
       "debit                                         0.014779\n",
       "commercialpremiumdebit                        0.013486\n",
       "commercialdebit                               0.007759\n",
       "proprietary                                   0.001293\n",
       "purchasingcredit                              0.000924\n",
       "superpremiumdebit                             0.000739\n",
       "fleetcredit                                   0.000554\n",
       "commercialsuperpremiumcredit                  0.000185"
      ]
     },
     "execution_count": 53,
     "metadata": {},
     "output_type": "execute_result"
    }
   ],
   "source": [
    "df_train1[(df_train1['genericresponse_DECLINED']==1)].groupby('paymentmethod').count().sort_values(by=['genericresponse_DECLINED'],ascending = False)\\\n",
    "[['genericresponse_DECLINED']]/decline_txn"
   ]
  },
  {
   "cell_type": "code",
   "execution_count": 54,
   "id": "2282d361",
   "metadata": {},
   "outputs": [],
   "source": [
    "app_txn = df_train1['genericresponse_APPROVED'].sum()"
   ]
  },
  {
   "cell_type": "code",
   "execution_count": 55,
   "id": "71f87e0d",
   "metadata": {
    "scrolled": true
   },
   "outputs": [
    {
     "data": {
      "text/html": [
       "<div>\n",
       "<style scoped>\n",
       "    .dataframe tbody tr th:only-of-type {\n",
       "        vertical-align: middle;\n",
       "    }\n",
       "\n",
       "    .dataframe tbody tr th {\n",
       "        vertical-align: top;\n",
       "    }\n",
       "\n",
       "    .dataframe thead th {\n",
       "        text-align: right;\n",
       "    }\n",
       "</style>\n",
       "<table border=\"1\" class=\"dataframe\">\n",
       "  <thead>\n",
       "    <tr style=\"text-align: right;\">\n",
       "      <th></th>\n",
       "      <th>genericresponse_APPROVED</th>\n",
       "    </tr>\n",
       "    <tr>\n",
       "      <th>paymentmethod</th>\n",
       "      <th></th>\n",
       "    </tr>\n",
       "  </thead>\n",
       "  <tbody>\n",
       "    <tr>\n",
       "      <th>premiumcredit</th>\n",
       "      <td>0.249547</td>\n",
       "    </tr>\n",
       "    <tr>\n",
       "      <th>standardcredit</th>\n",
       "      <td>0.217873</td>\n",
       "    </tr>\n",
       "    <tr>\n",
       "      <th>standarddebit</th>\n",
       "      <td>0.174099</td>\n",
       "    </tr>\n",
       "    <tr>\n",
       "      <th>superpremiumcredit</th>\n",
       "      <td>0.125298</td>\n",
       "    </tr>\n",
       "    <tr>\n",
       "      <th>credit</th>\n",
       "      <td>0.098244</td>\n",
       "    </tr>\n",
       "    <tr>\n",
       "      <th>premiumdebit</th>\n",
       "      <td>0.068518</td>\n",
       "    </tr>\n",
       "    <tr>\n",
       "      <th>commercialcredit</th>\n",
       "      <td>0.032480</td>\n",
       "    </tr>\n",
       "    <tr>\n",
       "      <th>corporatecredit</th>\n",
       "      <td>0.009952</td>\n",
       "    </tr>\n",
       "    <tr>\n",
       "      <th>commercialpremiumcredit</th>\n",
       "      <td>0.008429</td>\n",
       "    </tr>\n",
       "    <tr>\n",
       "      <th>commercialpremiumdebit</th>\n",
       "      <td>0.003884</td>\n",
       "    </tr>\n",
       "    <tr>\n",
       "      <th>commercialdebit</th>\n",
       "      <td>0.003047</td>\n",
       "    </tr>\n",
       "    <tr>\n",
       "      <th>purchasingcredit</th>\n",
       "      <td>0.002685</td>\n",
       "    </tr>\n",
       "    <tr>\n",
       "      <th>debit</th>\n",
       "      <td>0.001854</td>\n",
       "    </tr>\n",
       "    <tr>\n",
       "      <th>superpremiumdebit</th>\n",
       "      <td>0.001417</td>\n",
       "    </tr>\n",
       "    <tr>\n",
       "      <th>fleetcredit</th>\n",
       "      <td>0.001261</td>\n",
       "    </tr>\n",
       "    <tr>\n",
       "      <th>commercialsuperpremiumcredit</th>\n",
       "      <td>0.001061</td>\n",
       "    </tr>\n",
       "    <tr>\n",
       "      <th>corporatedebit</th>\n",
       "      <td>0.000350</td>\n",
       "    </tr>\n",
       "  </tbody>\n",
       "</table>\n",
       "</div>"
      ],
      "text/plain": [
       "                              genericresponse_APPROVED\n",
       "paymentmethod                                         \n",
       "premiumcredit                                 0.249547\n",
       "standardcredit                                0.217873\n",
       "standarddebit                                 0.174099\n",
       "superpremiumcredit                            0.125298\n",
       "credit                                        0.098244\n",
       "premiumdebit                                  0.068518\n",
       "commercialcredit                              0.032480\n",
       "corporatecredit                               0.009952\n",
       "commercialpremiumcredit                       0.008429\n",
       "commercialpremiumdebit                        0.003884\n",
       "commercialdebit                               0.003047\n",
       "purchasingcredit                              0.002685\n",
       "debit                                         0.001854\n",
       "superpremiumdebit                             0.001417\n",
       "fleetcredit                                   0.001261\n",
       "commercialsuperpremiumcredit                  0.001061\n",
       "corporatedebit                                0.000350"
      ]
     },
     "execution_count": 55,
     "metadata": {},
     "output_type": "execute_result"
    }
   ],
   "source": [
    "df_train1[(df_train1['genericresponse_APPROVED']==1)].groupby('paymentmethod').count().sort_values(by=['genericresponse_APPROVED'],ascending = False)\\\n",
    "[['genericresponse_APPROVED']]/app_txn"
   ]
  },
  {
   "cell_type": "code",
   "execution_count": 56,
   "id": "3cb57e8d",
   "metadata": {},
   "outputs": [
    {
     "data": {
      "image/png": "[encoded data removed]",
      "text/plain": [
       "<Figure size 864x1152 with 2 Axes>"
      ]
     },
     "metadata": {
      "needs_background": "light"
     },
     "output_type": "display_data"
    }
   ],
   "source": [
    "nr_rows = 2\n",
    "nr_cols = 1\n",
    "\n",
    "fig, axs = plt.subplots(nr_rows, nr_cols, figsize=(nr_cols*12,nr_rows*8))\n",
    "\n",
    "ax=df_train1[(df_train1['genericresponse_DECLINED']==1)].groupby('paymentmethod').count()\\\n",
    "[['genericresponse_DECLINED']]/decline_txn\n",
    "\n",
    "ax1=df_train1[(df_train1['genericresponse_APPROVED']==1)].groupby('paymentmethod').count()\\\n",
    "[['genericresponse_APPROVED']]/app_txn\n",
    "\n",
    "ax.plot(kind='bar', ax=axs[0], legend=False, fontsize=10, title='Declined Transactions',\\\n",
    "       xlabel='Payment Method', ylabel='Percentage of Transactions')\n",
    "ax1.plot(kind='bar', ax=axs[1], legend=False, fontsize=10, title='Approved Transactions',\\\n",
    "       xlabel='Payment Method', ylabel='Percentage of Transactions')\n",
    "\n",
    "fig.suptitle('Most Common Payment Method For Approved Transactions is Inversed of For Declined Transactions', size =16, y=0.99)\n",
    "plt.tight_layout()\n",
    "plt.show()"
   ]
  },
  {
   "cell_type": "markdown",
   "id": "603a4dbe",
   "metadata": {},
   "source": [
    "Premium Credit and Standard Credit make up almost half (46.74%) of the payment type for approved transactions.<br>\n",
    "The most common payment method for declined tranasaction is standard debit.<br>\n",
    "Standard Debit is the third most common payment method for approved transactions making up to 17.41% of total approved transactions.<br>\n",
    "We will look more into Standard Debit payment type to see what factors affects the approval rates."
   ]
  },
  {
   "cell_type": "markdown",
   "id": "5c78572d",
   "metadata": {},
   "source": [
    "### Deep Dive into Payment = standarddebit"
   ]
  },
  {
   "cell_type": "markdown",
   "id": "e7d83591",
   "metadata": {},
   "source": [
    "**3D Attempt**"
   ]
  },
  {
   "cell_type": "code",
   "execution_count": 57,
   "id": "a3d61fa0",
   "metadata": {
    "scrolled": true
   },
   "outputs": [
    {
     "data": {
      "text/html": [
       "<div>\n",
       "<style scoped>\n",
       "    .dataframe tbody tr th:only-of-type {\n",
       "        vertical-align: middle;\n",
       "    }\n",
       "\n",
       "    .dataframe tbody tr th {\n",
       "        vertical-align: top;\n",
       "    }\n",
       "\n",
       "    .dataframe thead th {\n",
       "        text-align: right;\n",
       "    }\n",
       "</style>\n",
       "<table border=\"1\" class=\"dataframe\">\n",
       "  <thead>\n",
       "    <tr style=\"text-align: right;\">\n",
       "      <th></th>\n",
       "      <th>genericresponse_DECLINED</th>\n",
       "    </tr>\n",
       "    <tr>\n",
       "      <th>threedattempt</th>\n",
       "      <th></th>\n",
       "    </tr>\n",
       "  </thead>\n",
       "  <tbody>\n",
       "    <tr>\n",
       "      <th>Yes</th>\n",
       "      <td>0.648562</td>\n",
       "    </tr>\n",
       "    <tr>\n",
       "      <th>No</th>\n",
       "      <td>0.351438</td>\n",
       "    </tr>\n",
       "  </tbody>\n",
       "</table>\n",
       "</div>"
      ],
      "text/plain": [
       "               genericresponse_DECLINED\n",
       "threedattempt                          \n",
       "Yes                            0.648562\n",
       "No                             0.351438"
      ]
     },
     "execution_count": 57,
     "metadata": {},
     "output_type": "execute_result"
    }
   ],
   "source": [
    "df_train1[(df_train1['genericresponse_DECLINED']==1)&\\\n",
    "    (df_train1['paymentmethod']=='standarddebit')\\\n",
    "   ].groupby('threedattempt').count().sort_values(by=['genericresponse_DECLINED'],ascending = False)\\\n",
    "[['genericresponse_DECLINED']]/df_train1[(df_train1['genericresponse_DECLINED']==1)&\\\n",
    "    (df_train1['paymentmethod']=='standarddebit')][['genericresponse_DECLINED']].sum()"
   ]
  },
  {
   "cell_type": "code",
   "execution_count": 58,
   "id": "662e0248",
   "metadata": {
    "scrolled": true
   },
   "outputs": [
    {
     "data": {
      "text/html": [
       "<div>\n",
       "<style scoped>\n",
       "    .dataframe tbody tr th:only-of-type {\n",
       "        vertical-align: middle;\n",
       "    }\n",
       "\n",
       "    .dataframe tbody tr th {\n",
       "        vertical-align: top;\n",
       "    }\n",
       "\n",
       "    .dataframe thead th {\n",
       "        text-align: right;\n",
       "    }\n",
       "</style>\n",
       "<table border=\"1\" class=\"dataframe\">\n",
       "  <thead>\n",
       "    <tr style=\"text-align: right;\">\n",
       "      <th></th>\n",
       "      <th>genericresponse_APPROVED</th>\n",
       "    </tr>\n",
       "    <tr>\n",
       "      <th>threedattempt</th>\n",
       "      <th></th>\n",
       "    </tr>\n",
       "  </thead>\n",
       "  <tbody>\n",
       "    <tr>\n",
       "      <th>Yes</th>\n",
       "      <td>0.67372</td>\n",
       "    </tr>\n",
       "    <tr>\n",
       "      <th>No</th>\n",
       "      <td>0.32628</td>\n",
       "    </tr>\n",
       "  </tbody>\n",
       "</table>\n",
       "</div>"
      ],
      "text/plain": [
       "               genericresponse_APPROVED\n",
       "threedattempt                          \n",
       "Yes                             0.67372\n",
       "No                              0.32628"
      ]
     },
     "execution_count": 58,
     "metadata": {},
     "output_type": "execute_result"
    }
   ],
   "source": [
    "df_train1[(df_train1['genericresponse_APPROVED']==1)&\\\n",
    "    (df_train1['paymentmethod']=='standarddebit')\\\n",
    "   ].groupby('threedattempt').count().sort_values(by=['genericresponse_APPROVED'],ascending = False)\\\n",
    "[['genericresponse_APPROVED']]/df_train1[(df_train1['genericresponse_APPROVED']==1)&\\\n",
    "    (df_train1['paymentmethod']=='standarddebit')][['genericresponse_APPROVED']].sum()"
   ]
  },
  {
   "cell_type": "code",
   "execution_count": 59,
   "id": "522c5b8c",
   "metadata": {
    "scrolled": false
   },
   "outputs": [
    {
     "data": {
      "image/png": "[encoded data removed]",
      "text/plain": [
       "<Figure size 1728x432 with 2 Axes>"
      ]
     },
     "metadata": {
      "needs_background": "light"
     },
     "output_type": "display_data"
    }
   ],
   "source": [
    "nr_rows = 1\n",
    "nr_cols = 2\n",
    "\n",
    "fig, axs = plt.subplots(nr_rows, nr_cols, figsize=(nr_cols*12,nr_rows*6), sharey=True)\n",
    "\n",
    "ax=df_train1[(df_train1['genericresponse_DECLINED']==1)&\\\n",
    "    (df_train1['paymentmethod']=='standarddebit')\\\n",
    "   ].groupby('threedattempt').count().sort_values(by=['genericresponse_DECLINED'],ascending = True)\\\n",
    "[['genericresponse_DECLINED']]/df_train1[(df_train1['genericresponse_DECLINED']==1)&\\\n",
    "    (df_train1['paymentmethod']=='standarddebit')][['genericresponse_DECLINED']].sum()\n",
    "\n",
    "ax1=df_train1[(df_train1['genericresponse_APPROVED']==1)&\\\n",
    "    (df_train1['paymentmethod']=='standarddebit')\\\n",
    "   ].groupby('threedattempt').count().sort_values(by=['genericresponse_APPROVED'],ascending = True)\\\n",
    "[['genericresponse_APPROVED']]/df_train1[(df_train1['genericresponse_APPROVED']==1)&\\\n",
    "    (df_train1['paymentmethod']=='standarddebit')][['genericresponse_APPROVED']].sum()\n",
    "\n",
    "ax.plot(kind='barh', ax=axs[0], legend=False, fontsize=18)\n",
    "ax1.plot(kind='barh', ax=axs[1], legend=False, fontsize=18)\n",
    "\n",
    "axs[0].set_title('Declined Transactions',size= 18)\n",
    "axs[0].set_ylabel('3D Attempted',size= 18)\n",
    "\n",
    "axs[1].set_title('Approved Transactions',size= 18)\n",
    "axs[1].set_ylabel('3D Attempted',size= 18)\n",
    "\n",
    "fig.suptitle('Majority of Approved Transactions are not 3D Authenticated', size = 24,fontweight='bold', y=0.99)\n",
    "fig.supxlabel('% of Transactions', size=20, x=0.5)\n",
    "plt.tight_layout()\n",
    "plt.show()"
   ]
  },
  {
   "cell_type": "markdown",
   "id": "a378a699",
   "metadata": {},
   "source": [
    "Percentage of transaction without 3D authentication attempt is about the same for both approved and declined transaction.<br>\n",
    "We need to look more into what caused the transactions to be declined for transactions without 3D authentication attempt. "
   ]
  },
  {
   "cell_type": "markdown",
   "id": "ea732e71",
   "metadata": {},
   "source": [
    "**3D Attempt vs Amount**"
   ]
  },
  {
   "cell_type": "code",
   "execution_count": 60,
   "id": "c6b36db8",
   "metadata": {
    "scrolled": true
   },
   "outputs": [
    {
     "data": {
      "text/plain": [
       "threedattempt\n",
       "No     52045.247107\n",
       "Yes      980.295567\n",
       "Name: amount, dtype: float64"
      ]
     },
     "execution_count": 60,
     "metadata": {},
     "output_type": "execute_result"
    }
   ],
   "source": [
    "df_train1[(df_train1['genericresponse_DECLINED']==1)&\\\n",
    "    (df_train1['paymentmethod']=='standarddebit')\\\n",
    "   ].groupby('threedattempt')['amount'].mean().sort_values(ascending = False)"
   ]
  },
  {
   "cell_type": "code",
   "execution_count": 61,
   "id": "c8747ac3",
   "metadata": {
    "scrolled": true
   },
   "outputs": [
    {
     "data": {
      "text/plain": [
       "threedattempt\n",
       "No     15480.272587\n",
       "Yes     1146.248217\n",
       "Name: amount, dtype: float64"
      ]
     },
     "execution_count": 61,
     "metadata": {},
     "output_type": "execute_result"
    }
   ],
   "source": [
    "df_train1[(df_train1['genericresponse_APPROVED']==1)&\\\n",
    "    (df_train1['paymentmethod']=='standarddebit')\\\n",
    "   ].groupby('threedattempt')['amount'].mean().sort_values(ascending = False)"
   ]
  },
  {
   "cell_type": "code",
   "execution_count": 62,
   "id": "044d13f7",
   "metadata": {
    "scrolled": true
   },
   "outputs": [
    {
     "name": "stderr",
     "output_type": "stream",
     "text": [
      "C:\\Users\\ng_li\\AppData\\Local\\Temp\\ipykernel_10892\\2462797288.py:16: UserWarning: FixedFormatter should only be used together with FixedLocator\n",
      "  axs[0].set_xticklabels(axs[0].get_xticks(),size=20, rotation=30)\n",
      "C:\\Users\\ng_li\\AppData\\Local\\Temp\\ipykernel_10892\\2462797288.py:28: UserWarning: FixedFormatter should only be used together with FixedLocator\n",
      "  axs[1].set_xticklabels(axs[1].get_xticks(),size=20, rotation=30)\n"
     ]
    },
    {
     "data": {
      "image/png": "[encoded data removed]",
      "text/plain": [
       "<Figure size 1728x432 with 2 Axes>"
      ]
     },
     "metadata": {
      "needs_background": "light"
     },
     "output_type": "display_data"
    }
   ],
   "source": [
    "nr_rows = 1\n",
    "nr_cols = 2\n",
    "\n",
    "fig, axs = plt.subplots(nr_rows, nr_cols, figsize=(nr_cols*12,nr_rows*6), sharey=True)\n",
    "\n",
    "ax=df_train1[(df_train1['genericresponse_DECLINED']==1)&\\\n",
    "    (df_train1['paymentmethod']=='standarddebit')\\\n",
    "   ].groupby('threedattempt')['amount'].mean().sort_values(ascending = False)\n",
    "\n",
    "ax1=df_train1[(df_train1['genericresponse_APPROVED']==1)&\\\n",
    "    (df_train1['paymentmethod']=='standarddebit')\\\n",
    "   ].groupby('threedattempt')['amount'].mean().sort_values(ascending = False)\n",
    "\n",
    "sns.barplot(ax=axs[0], y=ax.index, x=ax.values, orient = 'h')\n",
    "axs[0].set_title('Declined Transactions',size=24)\n",
    "axs[0].set_xticklabels(axs[0].get_xticks(),size=20, rotation=30)\n",
    "axs[0].set_xlabel('Amount', size=20)\n",
    "axs[0].set_yticklabels(labels=['No', 'Yes'],size=20)\n",
    "axs[0].set(ylabel=None)\n",
    "axs[0].annotate('52,045.24',\n",
    "            xy=(49000, 0.05), xycoords='data',\n",
    "            xytext=(30, -20), textcoords='offset points',\n",
    "                size=30, color='white',\n",
    "            horizontalalignment='right', verticalalignment='bottom')\n",
    "\n",
    "sns.barplot(ax=axs[1], y=ax1.index, x=ax1.values, orient = 'h')\n",
    "axs[1].set_title('Approved Transactions',size= 24)\n",
    "axs[1].set_xticklabels(axs[1].get_xticks(),size=20, rotation=30)\n",
    "axs[1].set_xlabel('Amount', size=20)\n",
    "axs[1].set(ylabel=None)\n",
    "axs[1].annotate('15,480.28',\n",
    "            xy=(14500, 0.05), xycoords='data',\n",
    "            xytext=(30, -20), textcoords='offset points',\n",
    "                size=30, color='white',\n",
    "            horizontalalignment='right', verticalalignment='bottom')\n",
    "\n",
    "fig.suptitle('Mean amount of non-3D Authenticated of approved transactions is lower \\\n",
    "than declined transactions',size=25, fontweight='bold', y=1.01)\n",
    "fig.supylabel('3D Attempted', size=20, x=0)\n",
    "plt.tight_layout()\n",
    "plt.show()"
   ]
  },
  {
   "cell_type": "markdown",
   "id": "9a2f97b6",
   "metadata": {},
   "source": [
    "The mean transacted amount (15,572.29) for approved transactions without 3D authentication attempt is much lower than the mean amount (51,222.20) for declined transaction for standard debit payment method.<br>\n",
    "It is likely that the amount is a factor causing the transactions to be declined for Standard Debit payment method.<br>\n",
    "Hence, suggest to implement 3D authentication for Standard Debit payment method."
   ]
  },
  {
   "cell_type": "markdown",
   "id": "638954ef",
   "metadata": {},
   "source": [
    "**3D Attempt, Amount and Currency**"
   ]
  },
  {
   "cell_type": "code",
   "execution_count": 63,
   "id": "033396fd",
   "metadata": {
    "scrolled": true
   },
   "outputs": [
    {
     "data": {
      "text/plain": [
       "currencycode\n",
       "IDR    53983.361646\n",
       "THB    26885.416667\n",
       "SGD     1762.500000\n",
       "Name: amount, dtype: float64"
      ]
     },
     "execution_count": 63,
     "metadata": {},
     "output_type": "execute_result"
    }
   ],
   "source": [
    "df_train1[(df_train1['genericresponse_DECLINED']==1)&\\\n",
    "    (df_train1['paymentmethod']=='standarddebit')&\n",
    "    (df_train1['threedattempt']=='No')\\\n",
    "   ].groupby('currencycode')['amount'].mean().sort_values(ascending = False)"
   ]
  },
  {
   "cell_type": "code",
   "execution_count": 64,
   "id": "1724c26e",
   "metadata": {
    "scrolled": true
   },
   "outputs": [
    {
     "data": {
      "text/plain": [
       "currencycode\n",
       "IDR    20309.600439\n",
       "THB    11391.815631\n",
       "SGD     1321.058615\n",
       "MYR     1168.750000\n",
       "Name: amount, dtype: float64"
      ]
     },
     "execution_count": 64,
     "metadata": {},
     "output_type": "execute_result"
    }
   ],
   "source": [
    "df_train1[(df_train1['genericresponse_APPROVED']==1)&\\\n",
    "    (df_train1['paymentmethod']=='standarddebit')&\n",
    "    (df_train1['threedattempt']=='No')\\\n",
    "   ].groupby('currencycode')['amount'].mean().sort_values(ascending = False)"
   ]
  },
  {
   "cell_type": "code",
   "execution_count": 65,
   "id": "ea9c8d9b",
   "metadata": {},
   "outputs": [
    {
     "name": "stderr",
     "output_type": "stream",
     "text": [
      "C:\\Users\\ng_li\\AppData\\Local\\Temp\\ipykernel_10892\\592255417.py:20: UserWarning: FixedFormatter should only be used together with FixedLocator\n",
      "  axs[0].set_yticklabels(axs[0].get_yticks(),size=20)\n"
     ]
    },
    {
     "data": {
      "image/png": "[encoded data removed]",
      "text/plain": [
       "<Figure size 1008x648 with 2 Axes>"
      ]
     },
     "metadata": {
      "needs_background": "light"
     },
     "output_type": "display_data"
    }
   ],
   "source": [
    "nr_rows = 1\n",
    "nr_cols = 2\n",
    "\n",
    "fig, axs = plt.subplots(nr_rows, nr_cols, figsize=(nr_cols*7,nr_rows*9), sharey=True)\n",
    "\n",
    "ax=df_train1[(df_train1['genericresponse_DECLINED']==1)&\\\n",
    "    (df_train1['paymentmethod']=='standarddebit')&\n",
    "    (df_train1['threedattempt']=='No')\\\n",
    "   ].groupby('currencycode')['amount'].mean().sort_values(ascending = False)\n",
    "\n",
    "ax1=df_train1[(df_train1['genericresponse_APPROVED']==1)&\\\n",
    "    (df_train1['paymentmethod']=='standarddebit')&\n",
    "    (df_train1['threedattempt']=='No')\\\n",
    "   ].groupby('currencycode')['amount'].mean().sort_values(ascending = False)\n",
    "\n",
    "sns.barplot(ax=axs[0], x=ax.index, y=ax.values)\n",
    "axs[0].set_title('Declined Transactions',size=24)\n",
    "axs[0].set_xticklabels(labels=['IDR','THB','SGD'],size=20, rotation=30)\n",
    "axs[0].set_xlabel('Amount', size=20)\n",
    "axs[0].set_yticklabels(axs[0].get_yticks(),size=20)\n",
    "axs[0].set(ylabel=None)\n",
    "axs[0].axhline(y=20309.600439, color = 'purple', linestyle='dashed')\n",
    "axs[0].axhline(y=11391.815631, color='purple', linestyle='dashed')\n",
    "axs[0].axhline(y=1321.058615, color='purple', linestyle='dashed')\n",
    "axs[0].axhline(y=1168.75, color='purple', linestyle='dashed')\n",
    "\n",
    "sns.barplot(ax=axs[1], x=ax1.index, y=ax1.values)\n",
    "axs[1].set_title('Approved Transactions',size= 24)\n",
    "axs[1].set_xticklabels(labels=['IDR','THB','SGD','MYR'],size=20, rotation=30)\n",
    "axs[1].set_xlabel('Amount', size=20)\n",
    "axs[1].set(ylabel=None)\n",
    "axs[1].axhline(y=20309.600439, color = 'purple', linestyle='dashed')\n",
    "axs[1].axhline(y=11391.815631, color='purple', linestyle='dashed')\n",
    "axs[1].axhline(y=1321.058615, color='purple', linestyle='dashed')\n",
    "axs[1].axhline(y=1168.75, color='purple', linestyle='dashed')\n",
    "\n",
    "fig.suptitle('Mean amount of non-3D Authenticated Transactions \\\n",
    "for each Transacted Currency',size=25, fontweight='bold', y=1.01)\n",
    "fig.supylabel('3D Attempted', size=20, x=0)\n",
    "\n",
    "plt.tight_layout()\n",
    "plt.show()"
   ]
  },
  {
   "cell_type": "markdown",
   "id": "4f4643a9",
   "metadata": {},
   "source": [
    "Suggest to implement 3D authentication for Standard Debit payment method if the amount ia above certain threshold for each currency.\n",
    "\n",
    "| currencycode | Threshold Amount |\n",
    "| --- | --- |\n",
    "| IDR | 20,500 |\n",
    "| THB | 11,500 |\n",
    "| SGD | 1,500 |\n",
    "| MYR | 1,500 |"
   ]
  },
  {
   "cell_type": "markdown",
   "id": "357ff31e",
   "metadata": {},
   "source": [
    "**Calendar Day of Transaction**"
   ]
  },
  {
   "cell_type": "code",
   "execution_count": 66,
   "id": "f350ca13",
   "metadata": {
    "scrolled": false
   },
   "outputs": [
    {
     "data": {
      "text/html": [
       "<div>\n",
       "<style scoped>\n",
       "    .dataframe tbody tr th:only-of-type {\n",
       "        vertical-align: middle;\n",
       "    }\n",
       "\n",
       "    .dataframe tbody tr th {\n",
       "        vertical-align: top;\n",
       "    }\n",
       "\n",
       "    .dataframe thead th {\n",
       "        text-align: right;\n",
       "    }\n",
       "</style>\n",
       "<table border=\"1\" class=\"dataframe\">\n",
       "  <thead>\n",
       "    <tr style=\"text-align: right;\">\n",
       "      <th></th>\n",
       "      <th>genericresponse_DECLINED</th>\n",
       "    </tr>\n",
       "    <tr>\n",
       "      <th>day</th>\n",
       "      <th></th>\n",
       "    </tr>\n",
       "  </thead>\n",
       "  <tbody>\n",
       "    <tr>\n",
       "      <th>18</th>\n",
       "      <td>0.054604</td>\n",
       "    </tr>\n",
       "    <tr>\n",
       "      <th>26</th>\n",
       "      <td>0.046181</td>\n",
       "    </tr>\n",
       "    <tr>\n",
       "      <th>17</th>\n",
       "      <td>0.044148</td>\n",
       "    </tr>\n",
       "    <tr>\n",
       "      <th>21</th>\n",
       "      <td>0.043857</td>\n",
       "    </tr>\n",
       "    <tr>\n",
       "      <th>22</th>\n",
       "      <td>0.043567</td>\n",
       "    </tr>\n",
       "  </tbody>\n",
       "</table>\n",
       "</div>"
      ],
      "text/plain": [
       "     genericresponse_DECLINED\n",
       "day                          \n",
       "18                   0.054604\n",
       "26                   0.046181\n",
       "17                   0.044148\n",
       "21                   0.043857\n",
       "22                   0.043567"
      ]
     },
     "execution_count": 66,
     "metadata": {},
     "output_type": "execute_result"
    }
   ],
   "source": [
    "df_train1[(df_train1['genericresponse_DECLINED']==1)&\\\n",
    "    (df_train1['paymentmethod']=='standarddebit')\\\n",
    "   ].groupby('day').count().sort_values(by=['genericresponse_DECLINED'],ascending = False)\\\n",
    "[['genericresponse_DECLINED']].head()/df_train1[(df_train1['genericresponse_DECLINED']==1)&\\\n",
    "    (df_train1['paymentmethod']=='standarddebit')][['genericresponse_DECLINED']].sum()"
   ]
  },
  {
   "cell_type": "code",
   "execution_count": 67,
   "id": "4c39ce8a",
   "metadata": {
    "scrolled": true
   },
   "outputs": [
    {
     "data": {
      "image/png": "[encoded data removed]",
      "text/plain": [
       "<Figure size 576x288 with 1 Axes>"
      ]
     },
     "metadata": {
      "needs_background": "light"
     },
     "output_type": "display_data"
    }
   ],
   "source": [
    "day = df_train1[(df_train1['genericresponse_DECLINED']==1)&\\\n",
    "    (df_train1['paymentmethod']=='standarddebit')\\\n",
    "   ].groupby('day').count().sort_values(by=['genericresponse_DECLINED'],ascending = False)\\\n",
    "[['genericresponse_DECLINED']].head()\n",
    "\n",
    "plt.figure(figsize=(8,4))\n",
    "ax = sns.barplot(y=day.index, x=day['genericresponse_DECLINED'], alpha=0.8, orient = 'h', order=day.sort_values('genericresponse_DECLINED',ascending = False).index)\n",
    "ax.set_title('Top 5 Calendar Day that Declined Transactions were transacted on', size = 14, y=1.05)\n",
    "ax.set_xlabel('Number of Transaction')\n",
    "ax.set_ylabel('Day')\n",
    "plt.show()"
   ]
  },
  {
   "cell_type": "code",
   "execution_count": 68,
   "id": "026e2538",
   "metadata": {
    "scrolled": true
   },
   "outputs": [
    {
     "data": {
      "text/html": [
       "<div>\n",
       "<style scoped>\n",
       "    .dataframe tbody tr th:only-of-type {\n",
       "        vertical-align: middle;\n",
       "    }\n",
       "\n",
       "    .dataframe tbody tr th {\n",
       "        vertical-align: top;\n",
       "    }\n",
       "\n",
       "    .dataframe thead th {\n",
       "        text-align: right;\n",
       "    }\n",
       "</style>\n",
       "<table border=\"1\" class=\"dataframe\">\n",
       "  <thead>\n",
       "    <tr style=\"text-align: right;\">\n",
       "      <th></th>\n",
       "      <th>genericresponse_APPROVED</th>\n",
       "    </tr>\n",
       "    <tr>\n",
       "      <th>day</th>\n",
       "      <th></th>\n",
       "    </tr>\n",
       "  </thead>\n",
       "  <tbody>\n",
       "    <tr>\n",
       "      <th>20</th>\n",
       "      <td>0.033388</td>\n",
       "    </tr>\n",
       "    <tr>\n",
       "      <th>29</th>\n",
       "      <td>0.033352</td>\n",
       "    </tr>\n",
       "    <tr>\n",
       "      <th>28</th>\n",
       "      <td>0.033281</td>\n",
       "    </tr>\n",
       "    <tr>\n",
       "      <th>21</th>\n",
       "      <td>0.032850</td>\n",
       "    </tr>\n",
       "    <tr>\n",
       "      <th>27</th>\n",
       "      <td>0.032815</td>\n",
       "    </tr>\n",
       "  </tbody>\n",
       "</table>\n",
       "</div>"
      ],
      "text/plain": [
       "     genericresponse_APPROVED\n",
       "day                          \n",
       "20                   0.033388\n",
       "29                   0.033352\n",
       "28                   0.033281\n",
       "21                   0.032850\n",
       "27                   0.032815"
      ]
     },
     "execution_count": 68,
     "metadata": {},
     "output_type": "execute_result"
    }
   ],
   "source": [
    "df_train1[(df_train1['genericresponse_APPROVED']==1)&\\\n",
    "    (df_train1['paymentmethod']=='standarddebit')\\\n",
    "   ].groupby('day').count().sort_values(by=['genericresponse_APPROVED'],ascending = False)\\\n",
    "[['genericresponse_APPROVED']].head()/df_train1[(df_train1['genericresponse_APPROVED']==1)&\\\n",
    "    (df_train1['paymentmethod']=='standarddebit')][['genericresponse_APPROVED']].sum()"
   ]
  },
  {
   "cell_type": "code",
   "execution_count": 69,
   "id": "596604bc",
   "metadata": {
    "scrolled": true
   },
   "outputs": [
    {
     "data": {
      "image/png": "[encoded data removed]",
      "text/plain": [
       "<Figure size 576x288 with 1 Axes>"
      ]
     },
     "metadata": {
      "needs_background": "light"
     },
     "output_type": "display_data"
    }
   ],
   "source": [
    "day = df_train1[(df_train1['genericresponse_APPROVED']==1)&\\\n",
    "    (df_train1['paymentmethod']=='standarddebit')\\\n",
    "   ].groupby('day').count().sort_values(by=['genericresponse_APPROVED'],ascending = False)\\\n",
    "[['genericresponse_APPROVED']].head()/df_train1[(df_train1['genericresponse_APPROVED']==1)&\\\n",
    "    (df_train1['paymentmethod']=='standarddebit')][['genericresponse_APPROVED']].sum()\n",
    "\n",
    "plt.figure(figsize=(8,4))\n",
    "ax = sns.barplot(y=day.index, x=day['genericresponse_APPROVED'], alpha=0.8, orient = 'h', order=day.sort_values('genericresponse_APPROVED',ascending = False).index)\n",
    "ax.set_title('Top 5 Calendar Day that Approved Transactions were transacted on', size = 14, y=1.05)\n",
    "ax.set_xlabel('Number of Transaction')\n",
    "ax.set_ylabel('Day')\n",
    "plt.show()"
   ]
  },
  {
   "cell_type": "markdown",
   "id": "7d8d587b",
   "metadata": {},
   "source": [
    "Best calendar days to route standard debit payments are:\n",
    "- 20\n",
    "- 29\n",
    "- 38\n",
    "<br><br>\n",
    "\n",
    "Calendar days to avoid routing standard debit payments are:\n",
    "- 18\n",
    "- 26\n",
    "- 17"
   ]
  },
  {
   "cell_type": "markdown",
   "id": "446c66b1",
   "metadata": {},
   "source": [
    "**Hour of Transaction**"
   ]
  },
  {
   "cell_type": "code",
   "execution_count": 70,
   "id": "436c473b",
   "metadata": {},
   "outputs": [
    {
     "data": {
      "text/html": [
       "<div>\n",
       "<style scoped>\n",
       "    .dataframe tbody tr th:only-of-type {\n",
       "        vertical-align: middle;\n",
       "    }\n",
       "\n",
       "    .dataframe tbody tr th {\n",
       "        vertical-align: top;\n",
       "    }\n",
       "\n",
       "    .dataframe thead th {\n",
       "        text-align: right;\n",
       "    }\n",
       "</style>\n",
       "<table border=\"1\" class=\"dataframe\">\n",
       "  <thead>\n",
       "    <tr style=\"text-align: right;\">\n",
       "      <th></th>\n",
       "      <th>genericresponse_DECLINED</th>\n",
       "    </tr>\n",
       "    <tr>\n",
       "      <th>hour</th>\n",
       "      <th></th>\n",
       "    </tr>\n",
       "  </thead>\n",
       "  <tbody>\n",
       "    <tr>\n",
       "      <th>15</th>\n",
       "      <td>0.066221</td>\n",
       "    </tr>\n",
       "    <tr>\n",
       "      <th>18</th>\n",
       "      <td>0.065350</td>\n",
       "    </tr>\n",
       "    <tr>\n",
       "      <th>14</th>\n",
       "      <td>0.064188</td>\n",
       "    </tr>\n",
       "    <tr>\n",
       "      <th>12</th>\n",
       "      <td>0.060412</td>\n",
       "    </tr>\n",
       "    <tr>\n",
       "      <th>19</th>\n",
       "      <td>0.060412</td>\n",
       "    </tr>\n",
       "  </tbody>\n",
       "</table>\n",
       "</div>"
      ],
      "text/plain": [
       "      genericresponse_DECLINED\n",
       "hour                          \n",
       "15                    0.066221\n",
       "18                    0.065350\n",
       "14                    0.064188\n",
       "12                    0.060412\n",
       "19                    0.060412"
      ]
     },
     "execution_count": 70,
     "metadata": {},
     "output_type": "execute_result"
    }
   ],
   "source": [
    "df_train1[(df_train1['genericresponse_DECLINED']==1)&\n",
    "    (df_train1['paymentmethod']=='standarddebit')\\\n",
    "   ].groupby('hour').count().sort_values(by=['genericresponse_DECLINED'],ascending = False)\\\n",
    "[['genericresponse_DECLINED']].head()/df_train1[(df_train1['genericresponse_DECLINED']==1)&\\\n",
    "    (df_train1['paymentmethod']=='standarddebit')][['genericresponse_DECLINED']].sum()"
   ]
  },
  {
   "cell_type": "code",
   "execution_count": 71,
   "id": "7965c98c",
   "metadata": {
    "scrolled": true
   },
   "outputs": [
    {
     "data": {
      "text/html": [
       "<div>\n",
       "<style scoped>\n",
       "    .dataframe tbody tr th:only-of-type {\n",
       "        vertical-align: middle;\n",
       "    }\n",
       "\n",
       "    .dataframe tbody tr th {\n",
       "        vertical-align: top;\n",
       "    }\n",
       "\n",
       "    .dataframe thead th {\n",
       "        text-align: right;\n",
       "    }\n",
       "</style>\n",
       "<table border=\"1\" class=\"dataframe\">\n",
       "  <thead>\n",
       "    <tr style=\"text-align: right;\">\n",
       "      <th></th>\n",
       "      <th>genericresponse_APPROVED</th>\n",
       "    </tr>\n",
       "    <tr>\n",
       "      <th>hour</th>\n",
       "      <th></th>\n",
       "    </tr>\n",
       "  </thead>\n",
       "  <tbody>\n",
       "    <tr>\n",
       "      <th>19</th>\n",
       "      <td>0.067350</td>\n",
       "    </tr>\n",
       "    <tr>\n",
       "      <th>18</th>\n",
       "      <td>0.064051</td>\n",
       "    </tr>\n",
       "    <tr>\n",
       "      <th>17</th>\n",
       "      <td>0.061146</td>\n",
       "    </tr>\n",
       "    <tr>\n",
       "      <th>9</th>\n",
       "      <td>0.061074</td>\n",
       "    </tr>\n",
       "    <tr>\n",
       "      <th>13</th>\n",
       "      <td>0.059138</td>\n",
       "    </tr>\n",
       "  </tbody>\n",
       "</table>\n",
       "</div>"
      ],
      "text/plain": [
       "      genericresponse_APPROVED\n",
       "hour                          \n",
       "19                    0.067350\n",
       "18                    0.064051\n",
       "17                    0.061146\n",
       "9                     0.061074\n",
       "13                    0.059138"
      ]
     },
     "execution_count": 71,
     "metadata": {},
     "output_type": "execute_result"
    }
   ],
   "source": [
    "df_train1[(df_train1['genericresponse_APPROVED']==1)&\n",
    "    (df_train1['paymentmethod']=='standarddebit')\\\n",
    "   ].groupby('hour').count().sort_values(by=['genericresponse_APPROVED'],ascending = False)\\\n",
    "[['genericresponse_APPROVED']].head()/df_train1[(df_train1['genericresponse_APPROVED']==1)&\\\n",
    "    (df_train1['paymentmethod']=='standarddebit')][['genericresponse_APPROVED']].sum()"
   ]
  },
  {
   "cell_type": "markdown",
   "id": "1401250f",
   "metadata": {},
   "source": [
    "Hour 18 and 19 are in the top 5 hours for both approved and declined transactions.<br>\n",
    "We will analyze further for these two hours, which calendar day is best to avoid."
   ]
  },
  {
   "cell_type": "markdown",
   "id": "48de8306",
   "metadata": {},
   "source": [
    "**Calendar Day and Hour**"
   ]
  },
  {
   "cell_type": "code",
   "execution_count": 72,
   "id": "237a262c",
   "metadata": {
    "scrolled": false
   },
   "outputs": [
    {
     "data": {
      "text/html": [
       "<div>\n",
       "<style scoped>\n",
       "    .dataframe tbody tr th:only-of-type {\n",
       "        vertical-align: middle;\n",
       "    }\n",
       "\n",
       "    .dataframe tbody tr th {\n",
       "        vertical-align: top;\n",
       "    }\n",
       "\n",
       "    .dataframe thead th {\n",
       "        text-align: right;\n",
       "    }\n",
       "</style>\n",
       "<table border=\"1\" class=\"dataframe\">\n",
       "  <thead>\n",
       "    <tr style=\"text-align: right;\">\n",
       "      <th></th>\n",
       "      <th>genericresponse_DECLINED</th>\n",
       "    </tr>\n",
       "    <tr>\n",
       "      <th>day</th>\n",
       "      <th></th>\n",
       "    </tr>\n",
       "  </thead>\n",
       "  <tbody>\n",
       "    <tr>\n",
       "      <th>18</th>\n",
       "      <td>0.096998</td>\n",
       "    </tr>\n",
       "    <tr>\n",
       "      <th>27</th>\n",
       "      <td>0.060046</td>\n",
       "    </tr>\n",
       "    <tr>\n",
       "      <th>13</th>\n",
       "      <td>0.060046</td>\n",
       "    </tr>\n",
       "    <tr>\n",
       "      <th>16</th>\n",
       "      <td>0.053118</td>\n",
       "    </tr>\n",
       "    <tr>\n",
       "      <th>22</th>\n",
       "      <td>0.043880</td>\n",
       "    </tr>\n",
       "    <tr>\n",
       "      <th>19</th>\n",
       "      <td>0.043880</td>\n",
       "    </tr>\n",
       "    <tr>\n",
       "      <th>24</th>\n",
       "      <td>0.041570</td>\n",
       "    </tr>\n",
       "    <tr>\n",
       "      <th>17</th>\n",
       "      <td>0.039261</td>\n",
       "    </tr>\n",
       "    <tr>\n",
       "      <th>28</th>\n",
       "      <td>0.036952</td>\n",
       "    </tr>\n",
       "    <tr>\n",
       "      <th>23</th>\n",
       "      <td>0.036952</td>\n",
       "    </tr>\n",
       "  </tbody>\n",
       "</table>\n",
       "</div>"
      ],
      "text/plain": [
       "     genericresponse_DECLINED\n",
       "day                          \n",
       "18                   0.096998\n",
       "27                   0.060046\n",
       "13                   0.060046\n",
       "16                   0.053118\n",
       "22                   0.043880\n",
       "19                   0.043880\n",
       "24                   0.041570\n",
       "17                   0.039261\n",
       "28                   0.036952\n",
       "23                   0.036952"
      ]
     },
     "execution_count": 72,
     "metadata": {},
     "output_type": "execute_result"
    }
   ],
   "source": [
    "df_train1[(df_train1['genericresponse_DECLINED']==1)&\n",
    "    (df_train1['paymentmethod']=='standarddebit')&\\\n",
    "    ((df_train1['hour']==18)|(df_train1['hour']==19))\n",
    "   ].groupby(['day']).count().sort_values(by=['genericresponse_DECLINED'],ascending = False)\\\n",
    "[['genericresponse_DECLINED']].head(10)/df_train1[(df_train1['genericresponse_DECLINED']==1)&\\\n",
    "    (df_train1['paymentmethod']=='standarddebit')&\\\n",
    "    ((df_train1['hour']==18)|(df_train1['hour']==19))][['genericresponse_DECLINED']].sum()"
   ]
  },
  {
   "cell_type": "code",
   "execution_count": 73,
   "id": "0cb18123",
   "metadata": {
    "scrolled": true
   },
   "outputs": [
    {
     "data": {
      "text/html": [
       "<div>\n",
       "<style scoped>\n",
       "    .dataframe tbody tr th:only-of-type {\n",
       "        vertical-align: middle;\n",
       "    }\n",
       "\n",
       "    .dataframe tbody tr th {\n",
       "        vertical-align: top;\n",
       "    }\n",
       "\n",
       "    .dataframe thead th {\n",
       "        text-align: right;\n",
       "    }\n",
       "</style>\n",
       "<table border=\"1\" class=\"dataframe\">\n",
       "  <thead>\n",
       "    <tr style=\"text-align: right;\">\n",
       "      <th></th>\n",
       "      <th>genericresponse_APPROVED</th>\n",
       "    </tr>\n",
       "    <tr>\n",
       "      <th>day</th>\n",
       "      <th></th>\n",
       "    </tr>\n",
       "  </thead>\n",
       "  <tbody>\n",
       "    <tr>\n",
       "      <th>16</th>\n",
       "      <td>0.040393</td>\n",
       "    </tr>\n",
       "    <tr>\n",
       "      <th>12</th>\n",
       "      <td>0.040120</td>\n",
       "    </tr>\n",
       "    <tr>\n",
       "      <th>25</th>\n",
       "      <td>0.037391</td>\n",
       "    </tr>\n",
       "    <tr>\n",
       "      <th>30</th>\n",
       "      <td>0.036572</td>\n",
       "    </tr>\n",
       "    <tr>\n",
       "      <th>19</th>\n",
       "      <td>0.036026</td>\n",
       "    </tr>\n",
       "    <tr>\n",
       "      <th>20</th>\n",
       "      <td>0.035207</td>\n",
       "    </tr>\n",
       "    <tr>\n",
       "      <th>10</th>\n",
       "      <td>0.035207</td>\n",
       "    </tr>\n",
       "    <tr>\n",
       "      <th>2</th>\n",
       "      <td>0.034934</td>\n",
       "    </tr>\n",
       "    <tr>\n",
       "      <th>23</th>\n",
       "      <td>0.034389</td>\n",
       "    </tr>\n",
       "    <tr>\n",
       "      <th>11</th>\n",
       "      <td>0.033570</td>\n",
       "    </tr>\n",
       "  </tbody>\n",
       "</table>\n",
       "</div>"
      ],
      "text/plain": [
       "     genericresponse_APPROVED\n",
       "day                          \n",
       "16                   0.040393\n",
       "12                   0.040120\n",
       "25                   0.037391\n",
       "30                   0.036572\n",
       "19                   0.036026\n",
       "20                   0.035207\n",
       "10                   0.035207\n",
       "2                    0.034934\n",
       "23                   0.034389\n",
       "11                   0.033570"
      ]
     },
     "execution_count": 73,
     "metadata": {},
     "output_type": "execute_result"
    }
   ],
   "source": [
    "df_train1[(df_train1['genericresponse_APPROVED']==1)&\\\n",
    "    (df_train1['paymentmethod']=='standarddebit')&\\\n",
    "    ((df_train1['hour']==18)|(df_train1['hour']==19))\n",
    "   ].groupby(['day']).count().sort_values(by=['genericresponse_APPROVED'],ascending = False)\\\n",
    "[['genericresponse_APPROVED']].head(10)/df_train1[(df_train1['genericresponse_APPROVED']==1)&\\\n",
    "    (df_train1['paymentmethod']=='standarddebit')&\\\n",
    "    ((df_train1['hour']==18)|(df_train1['hour']==19))][['genericresponse_APPROVED']].sum()"
   ]
  },
  {
   "cell_type": "markdown",
   "id": "c39b3ca5",
   "metadata": {},
   "source": [
    "If merchants want to route the payment at the 18th and 19th hour, it is best to avoid doing it on:\n",
    "- 18\n",
    "- 27\n",
    "- 13"
   ]
  },
  {
   "cell_type": "markdown",
   "id": "b4ef07e8",
   "metadata": {},
   "source": [
    "**Day of the Week**"
   ]
  },
  {
   "cell_type": "code",
   "execution_count": 74,
   "id": "785fc394",
   "metadata": {},
   "outputs": [
    {
     "data": {
      "text/html": [
       "<div>\n",
       "<style scoped>\n",
       "    .dataframe tbody tr th:only-of-type {\n",
       "        vertical-align: middle;\n",
       "    }\n",
       "\n",
       "    .dataframe tbody tr th {\n",
       "        vertical-align: top;\n",
       "    }\n",
       "\n",
       "    .dataframe thead th {\n",
       "        text-align: right;\n",
       "    }\n",
       "</style>\n",
       "<table border=\"1\" class=\"dataframe\">\n",
       "  <thead>\n",
       "    <tr style=\"text-align: right;\">\n",
       "      <th></th>\n",
       "      <th>genericresponse_DECLINED</th>\n",
       "    </tr>\n",
       "    <tr>\n",
       "      <th>day_of_week</th>\n",
       "      <th></th>\n",
       "    </tr>\n",
       "  </thead>\n",
       "  <tbody>\n",
       "    <tr>\n",
       "      <th>0</th>\n",
       "      <td>0.167296</td>\n",
       "    </tr>\n",
       "    <tr>\n",
       "      <th>1</th>\n",
       "      <td>0.162649</td>\n",
       "    </tr>\n",
       "    <tr>\n",
       "      <th>6</th>\n",
       "      <td>0.151322</td>\n",
       "    </tr>\n",
       "    <tr>\n",
       "      <th>3</th>\n",
       "      <td>0.138542</td>\n",
       "    </tr>\n",
       "    <tr>\n",
       "      <th>4</th>\n",
       "      <td>0.133895</td>\n",
       "    </tr>\n",
       "    <tr>\n",
       "      <th>2</th>\n",
       "      <td>0.128376</td>\n",
       "    </tr>\n",
       "    <tr>\n",
       "      <th>5</th>\n",
       "      <td>0.117920</td>\n",
       "    </tr>\n",
       "  </tbody>\n",
       "</table>\n",
       "</div>"
      ],
      "text/plain": [
       "             genericresponse_DECLINED\n",
       "day_of_week                          \n",
       "0                            0.167296\n",
       "1                            0.162649\n",
       "6                            0.151322\n",
       "3                            0.138542\n",
       "4                            0.133895\n",
       "2                            0.128376\n",
       "5                            0.117920"
      ]
     },
     "execution_count": 74,
     "metadata": {},
     "output_type": "execute_result"
    }
   ],
   "source": [
    "df_train1[(df_train1['genericresponse_DECLINED']==1)&\\\n",
    "    (df_train1['paymentmethod']=='standarddebit')\\\n",
    "   ].groupby('day_of_week').count().sort_values(by=['genericresponse_DECLINED'],ascending = False)\\\n",
    "[['genericresponse_DECLINED']]/df_train1[(df_train1['genericresponse_DECLINED']==1)&\\\n",
    "    (df_train1['paymentmethod']=='standarddebit')][['genericresponse_DECLINED']].sum()"
   ]
  },
  {
   "cell_type": "code",
   "execution_count": 75,
   "id": "06d5098d",
   "metadata": {
    "scrolled": true
   },
   "outputs": [
    {
     "data": {
      "text/html": [
       "<div>\n",
       "<style scoped>\n",
       "    .dataframe tbody tr th:only-of-type {\n",
       "        vertical-align: middle;\n",
       "    }\n",
       "\n",
       "    .dataframe tbody tr th {\n",
       "        vertical-align: top;\n",
       "    }\n",
       "\n",
       "    .dataframe thead th {\n",
       "        text-align: right;\n",
       "    }\n",
       "</style>\n",
       "<table border=\"1\" class=\"dataframe\">\n",
       "  <thead>\n",
       "    <tr style=\"text-align: right;\">\n",
       "      <th></th>\n",
       "      <th>genericresponse_APPROVED</th>\n",
       "    </tr>\n",
       "    <tr>\n",
       "      <th>day_of_week</th>\n",
       "      <th></th>\n",
       "    </tr>\n",
       "  </thead>\n",
       "  <tbody>\n",
       "    <tr>\n",
       "      <th>1</th>\n",
       "      <td>0.161849</td>\n",
       "    </tr>\n",
       "    <tr>\n",
       "      <th>0</th>\n",
       "      <td>0.161168</td>\n",
       "    </tr>\n",
       "    <tr>\n",
       "      <th>6</th>\n",
       "      <td>0.159912</td>\n",
       "    </tr>\n",
       "    <tr>\n",
       "      <th>5</th>\n",
       "      <td>0.130684</td>\n",
       "    </tr>\n",
       "    <tr>\n",
       "      <th>4</th>\n",
       "      <td>0.129788</td>\n",
       "    </tr>\n",
       "    <tr>\n",
       "      <th>3</th>\n",
       "      <td>0.128604</td>\n",
       "    </tr>\n",
       "    <tr>\n",
       "      <th>2</th>\n",
       "      <td>0.127995</td>\n",
       "    </tr>\n",
       "  </tbody>\n",
       "</table>\n",
       "</div>"
      ],
      "text/plain": [
       "             genericresponse_APPROVED\n",
       "day_of_week                          \n",
       "1                            0.161849\n",
       "0                            0.161168\n",
       "6                            0.159912\n",
       "5                            0.130684\n",
       "4                            0.129788\n",
       "3                            0.128604\n",
       "2                            0.127995"
      ]
     },
     "execution_count": 75,
     "metadata": {},
     "output_type": "execute_result"
    }
   ],
   "source": [
    "df_train1[(df_train1['genericresponse_APPROVED']==1)&\\\n",
    "    (df_train1['paymentmethod']=='standarddebit')\\\n",
    "   ].groupby('day_of_week').count().sort_values(by=['genericresponse_APPROVED'],ascending = False)\\\n",
    "[['genericresponse_APPROVED']]/df_train1[(df_train1['genericresponse_APPROVED']==1)&\\\n",
    "    (df_train1['paymentmethod']=='standarddebit')][['genericresponse_APPROVED']].sum()"
   ]
  },
  {
   "cell_type": "code",
   "execution_count": 76,
   "id": "9d1210df",
   "metadata": {
    "scrolled": true
   },
   "outputs": [
    {
     "data": {
      "image/png": "[encoded data removed]",
      "text/plain": [
       "<Figure size 1728x432 with 2 Axes>"
      ]
     },
     "metadata": {
      "needs_background": "light"
     },
     "output_type": "display_data"
    }
   ],
   "source": [
    "nr_rows = 1\n",
    "nr_cols = 2\n",
    "\n",
    "fig, axs = plt.subplots(nr_rows, nr_cols, figsize=(nr_cols*12,nr_rows*6), sharey=True)\n",
    "\n",
    "ax=df_train1[(df_train1['genericresponse_DECLINED']==1)&\\\n",
    "    (df_train1['paymentmethod']=='standarddebit')\\\n",
    "   ].groupby('day_of_week').count().sort_values(by=['genericresponse_DECLINED'],ascending = True)\\\n",
    "[['genericresponse_DECLINED']]/df_train1[(df_train1['genericresponse_DECLINED']==1)&\\\n",
    "    (df_train1['paymentmethod']=='standarddebit')][['genericresponse_DECLINED']].sum()\n",
    "\n",
    "ax1=df_train1[(df_train1['genericresponse_APPROVED']==1)&\\\n",
    "    (df_train1['paymentmethod']=='standarddebit')\\\n",
    "   ].groupby('day_of_week').count().sort_values(by=['genericresponse_APPROVED'],ascending = True)\\\n",
    "[['genericresponse_APPROVED']]/df_train1[(df_train1['genericresponse_APPROVED']==1)&\\\n",
    "    (df_train1['paymentmethod']=='standarddebit')][['genericresponse_APPROVED']].sum()\n",
    "\n",
    "ax.plot(kind='barh', ax=axs[0], legend=False, fontsize=18)\n",
    "ax1.plot(kind='barh', ax=axs[1], legend=False, fontsize=18)\n",
    "\n",
    "axs[0].set_title('Declined Transactions',size= 22)\n",
    "axs[1].set_title('Approved Transactions',size= 22)\n",
    "axs[0].set(ylabel=None)\n",
    "\n",
    "fig.suptitle('Both Approved and Declined Transactions were mostly transacted on Mon, Tue and Sun', size = 25,fontweight='bold', y=0.99)\n",
    "fig.supxlabel('% of Transactions', size=20, x=0.5)\n",
    "fig.supylabel('Day of the Week', size=20, x=0)\n",
    "plt.tight_layout()\n",
    "plt.show()"
   ]
  },
  {
   "cell_type": "markdown",
   "id": "7d5edcce",
   "metadata": {},
   "source": [
    "**Day of the Week and Hour**"
   ]
  },
  {
   "cell_type": "code",
   "execution_count": 77,
   "id": "2e60f95b",
   "metadata": {
    "scrolled": true
   },
   "outputs": [
    {
     "data": {
      "text/html": [
       "<div>\n",
       "<style scoped>\n",
       "    .dataframe tbody tr th:only-of-type {\n",
       "        vertical-align: middle;\n",
       "    }\n",
       "\n",
       "    .dataframe tbody tr th {\n",
       "        vertical-align: top;\n",
       "    }\n",
       "\n",
       "    .dataframe thead th {\n",
       "        text-align: right;\n",
       "    }\n",
       "</style>\n",
       "<table border=\"1\" class=\"dataframe\">\n",
       "  <thead>\n",
       "    <tr style=\"text-align: right;\">\n",
       "      <th></th>\n",
       "      <th></th>\n",
       "      <th>genericresponse_DECLINED</th>\n",
       "    </tr>\n",
       "    <tr>\n",
       "      <th>day_of_week</th>\n",
       "      <th>hour</th>\n",
       "      <th></th>\n",
       "    </tr>\n",
       "  </thead>\n",
       "  <tbody>\n",
       "    <tr>\n",
       "      <th>1</th>\n",
       "      <th>12</th>\n",
       "      <td>0.025951</td>\n",
       "    </tr>\n",
       "    <tr>\n",
       "      <th>0</th>\n",
       "      <th>15</th>\n",
       "      <td>0.025951</td>\n",
       "    </tr>\n",
       "    <tr>\n",
       "      <th rowspan=\"2\" valign=\"top\">1</th>\n",
       "      <th>16</th>\n",
       "      <td>0.025347</td>\n",
       "    </tr>\n",
       "    <tr>\n",
       "      <th>14</th>\n",
       "      <td>0.024140</td>\n",
       "    </tr>\n",
       "    <tr>\n",
       "      <th>6</th>\n",
       "      <th>22</th>\n",
       "      <td>0.024140</td>\n",
       "    </tr>\n",
       "    <tr>\n",
       "      <th rowspan=\"2\" valign=\"top\">0</th>\n",
       "      <th>19</th>\n",
       "      <td>0.023537</td>\n",
       "    </tr>\n",
       "    <tr>\n",
       "      <th>14</th>\n",
       "      <td>0.023537</td>\n",
       "    </tr>\n",
       "    <tr>\n",
       "      <th>6</th>\n",
       "      <th>14</th>\n",
       "      <td>0.022933</td>\n",
       "    </tr>\n",
       "    <tr>\n",
       "      <th>0</th>\n",
       "      <th>20</th>\n",
       "      <td>0.022330</td>\n",
       "    </tr>\n",
       "    <tr>\n",
       "      <th>6</th>\n",
       "      <th>15</th>\n",
       "      <td>0.021726</td>\n",
       "    </tr>\n",
       "  </tbody>\n",
       "</table>\n",
       "</div>"
      ],
      "text/plain": [
       "                  genericresponse_DECLINED\n",
       "day_of_week hour                          \n",
       "1           12                    0.025951\n",
       "0           15                    0.025951\n",
       "1           16                    0.025347\n",
       "            14                    0.024140\n",
       "6           22                    0.024140\n",
       "0           19                    0.023537\n",
       "            14                    0.023537\n",
       "6           14                    0.022933\n",
       "0           20                    0.022330\n",
       "6           15                    0.021726"
      ]
     },
     "execution_count": 77,
     "metadata": {},
     "output_type": "execute_result"
    }
   ],
   "source": [
    "df_train1[(df_train1['genericresponse_DECLINED']==1)&\\\n",
    "    (df_train1['paymentmethod']=='standarddebit')&\\\n",
    "    ((df_train1['day_of_week']==0)|(df_train1['day_of_week']==1)|(df_train1['day_of_week']==6))\n",
    "   ].groupby(['day_of_week','hour']).count().sort_values(by=['genericresponse_DECLINED'],ascending = False)\\\n",
    "[['genericresponse_DECLINED']].head(10)/df_train1[(df_train1['genericresponse_DECLINED']==1)&\\\n",
    "    (df_train1['paymentmethod']=='standarddebit')&\\\n",
    "    ((df_train1['day_of_week']==0)|(df_train1['day_of_week']==1)|(df_train1['day_of_week']==6))][['genericresponse_DECLINED']].sum()"
   ]
  },
  {
   "cell_type": "code",
   "execution_count": 78,
   "id": "e152963e",
   "metadata": {
    "scrolled": true
   },
   "outputs": [
    {
     "data": {
      "text/html": [
       "<div>\n",
       "<style scoped>\n",
       "    .dataframe tbody tr th:only-of-type {\n",
       "        vertical-align: middle;\n",
       "    }\n",
       "\n",
       "    .dataframe tbody tr th {\n",
       "        vertical-align: top;\n",
       "    }\n",
       "\n",
       "    .dataframe thead th {\n",
       "        text-align: right;\n",
       "    }\n",
       "</style>\n",
       "<table border=\"1\" class=\"dataframe\">\n",
       "  <thead>\n",
       "    <tr style=\"text-align: right;\">\n",
       "      <th></th>\n",
       "      <th></th>\n",
       "      <th>genericresponse_APPROVED</th>\n",
       "    </tr>\n",
       "    <tr>\n",
       "      <th>day_of_week</th>\n",
       "      <th>hour</th>\n",
       "      <th></th>\n",
       "    </tr>\n",
       "  </thead>\n",
       "  <tbody>\n",
       "    <tr>\n",
       "      <th>0</th>\n",
       "      <th>19</th>\n",
       "      <td>0.026511</td>\n",
       "    </tr>\n",
       "    <tr>\n",
       "      <th>6</th>\n",
       "      <th>14</th>\n",
       "      <td>0.024506</td>\n",
       "    </tr>\n",
       "    <tr>\n",
       "      <th>0</th>\n",
       "      <th>9</th>\n",
       "      <td>0.024209</td>\n",
       "    </tr>\n",
       "    <tr>\n",
       "      <th>6</th>\n",
       "      <th>15</th>\n",
       "      <td>0.022947</td>\n",
       "    </tr>\n",
       "    <tr>\n",
       "      <th rowspan=\"2\" valign=\"top\">1</th>\n",
       "      <th>9</th>\n",
       "      <td>0.022427</td>\n",
       "    </tr>\n",
       "    <tr>\n",
       "      <th>18</th>\n",
       "      <td>0.021833</td>\n",
       "    </tr>\n",
       "    <tr>\n",
       "      <th>0</th>\n",
       "      <th>18</th>\n",
       "      <td>0.021610</td>\n",
       "    </tr>\n",
       "    <tr>\n",
       "      <th>6</th>\n",
       "      <th>19</th>\n",
       "      <td>0.021461</td>\n",
       "    </tr>\n",
       "    <tr>\n",
       "      <th>1</th>\n",
       "      <th>19</th>\n",
       "      <td>0.021164</td>\n",
       "    </tr>\n",
       "    <tr>\n",
       "      <th>6</th>\n",
       "      <th>13</th>\n",
       "      <td>0.021016</td>\n",
       "    </tr>\n",
       "  </tbody>\n",
       "</table>\n",
       "</div>"
      ],
      "text/plain": [
       "                  genericresponse_APPROVED\n",
       "day_of_week hour                          \n",
       "0           19                    0.026511\n",
       "6           14                    0.024506\n",
       "0           9                     0.024209\n",
       "6           15                    0.022947\n",
       "1           9                     0.022427\n",
       "            18                    0.021833\n",
       "0           18                    0.021610\n",
       "6           19                    0.021461\n",
       "1           19                    0.021164\n",
       "6           13                    0.021016"
      ]
     },
     "execution_count": 78,
     "metadata": {},
     "output_type": "execute_result"
    }
   ],
   "source": [
    "df_train1[(df_train1['genericresponse_APPROVED']==1)&\\\n",
    "    (df_train1['paymentmethod']=='standarddebit')&\\\n",
    "    ((df_train1['day_of_week']==0)|(df_train1['day_of_week']==1)|(df_train1['day_of_week']==6))\n",
    "   ].groupby(['day_of_week','hour']).count().sort_values(by=['genericresponse_APPROVED'],ascending = False)\\\n",
    "[['genericresponse_APPROVED']].head(10)/df_train1[(df_train1['genericresponse_APPROVED']==1)&\\\n",
    "    (df_train1['paymentmethod']=='standarddebit')&\\\n",
    "    ((df_train1['day_of_week']==0)|(df_train1['day_of_week']==1)|(df_train1['day_of_week']==6))][['genericresponse_APPROVED']].sum()"
   ]
  },
  {
   "cell_type": "markdown",
   "id": "d92eb04f",
   "metadata": {},
   "source": [
    "Day of the week and hour to avoid routing standard debit payments are:\n",
    "- Tue, 12pm\n",
    "- Mon, 3pm\n",
    "- Tue, 4pm\n",
    "<br><br>\n",
    "\n",
    "Best day of the week and hour to route standard debit payments are:\n",
    "- Mon, 7pm\n",
    "- Sun, 2pm\n",
    "- Mon, 9am"
   ]
  },
  {
   "cell_type": "markdown",
   "id": "50d275b3",
   "metadata": {},
   "source": [
    "---"
   ]
  },
  {
   "cell_type": "markdown",
   "id": "60de06bd",
   "metadata": {},
   "source": [
    "## Apply OrdinalEncoder to Categorical Features\n",
    "---"
   ]
  },
  {
   "cell_type": "markdown",
   "id": "cd97eec5",
   "metadata": {},
   "source": [
    "### Train Set"
   ]
  },
  {
   "cell_type": "markdown",
   "id": "1dc738dc",
   "metadata": {},
   "source": [
    "**paymentmethod**"
   ]
  },
  {
   "cell_type": "code",
   "execution_count": 79,
   "id": "04d033f6",
   "metadata": {},
   "outputs": [],
   "source": [
    "paymentmethod_list = list(df_train['paymentmethod'])\n",
    "\n",
    "df_train[['paymentmethod']] = OrdinalEncoder(categories=[paymentmethod_list],\n",
    "                     handle_unknown='use_encoded_value',unknown_value = -1).fit_transform(df_train[['paymentmethod']])"
   ]
  },
  {
   "cell_type": "markdown",
   "id": "c9377724",
   "metadata": {},
   "source": [
    "#### threedattempt"
   ]
  },
  {
   "cell_type": "code",
   "execution_count": 80,
   "id": "13bc9e41",
   "metadata": {},
   "outputs": [],
   "source": [
    "df_train[['threedattempt']] = OrdinalEncoder(categories=[['No','Yes']],\n",
    "                     handle_unknown='use_encoded_value',unknown_value = -1).fit_transform(df_train[['threedattempt']])"
   ]
  },
  {
   "cell_type": "markdown",
   "id": "9da034b8",
   "metadata": {},
   "source": [
    "**genericresponse**"
   ]
  },
  {
   "cell_type": "code",
   "execution_count": 81,
   "id": "dfac31d3",
   "metadata": {},
   "outputs": [],
   "source": [
    "genericresponse_list = ['APPROVED',\n",
    "                        'FRAUD',\n",
    "                        'DECLINED',\n",
    "                        'NOT_3D_AUTHENTICATED',\n",
    "                        'CVC_DECLINED',\n",
    "                        'NOT_ENOUGH_BALANCE',\n",
    "                        'TRANSACTION_NOT_PERMITTED',\n",
    "                        'CARD_EXPIRED',\n",
    "                        'INVALID_CARD',\n",
    "                        'ERROR',\n",
    "                        'ISSUER_UNAVAILABLE',\n",
    "                        'BLOCK_CARD',\n",
    "                        'UNKNOWN',\n",
    "                        'REFERRAL']"
   ]
  },
  {
   "cell_type": "code",
   "execution_count": 82,
   "id": "3c7dd340",
   "metadata": {},
   "outputs": [],
   "source": [
    "df_train[['genericresponse']] = OrdinalEncoder(categories=[genericresponse_list], handle_unknown='use_encoded_value',unknown_value = -1).fit_transform(df_train[['genericresponse']])"
   ]
  },
  {
   "cell_type": "markdown",
   "id": "8a340b63",
   "metadata": {},
   "source": [
    "### Test Set"
   ]
  },
  {
   "cell_type": "markdown",
   "id": "e1442eea",
   "metadata": {},
   "source": [
    "**paymentmethod**"
   ]
  },
  {
   "cell_type": "code",
   "execution_count": 83,
   "id": "1f990045",
   "metadata": {},
   "outputs": [],
   "source": [
    "paymentmethod_list = list(df_test['paymentmethod'])\n",
    "\n",
    "df_test[['paymentmethod']] = OrdinalEncoder(categories=[paymentmethod_list],\n",
    "                     handle_unknown='use_encoded_value',unknown_value = -1).fit_transform(df_test[['paymentmethod']])"
   ]
  },
  {
   "cell_type": "markdown",
   "id": "9b68f7f0",
   "metadata": {},
   "source": [
    "#### threedattempt"
   ]
  },
  {
   "cell_type": "code",
   "execution_count": 84,
   "id": "405211b2",
   "metadata": {},
   "outputs": [],
   "source": [
    "df_test[['threedattempt']] = OrdinalEncoder(categories=[['No','Yes']],\n",
    "                     handle_unknown='use_encoded_value',unknown_value = -1).fit_transform(df_test[['threedattempt']])"
   ]
  },
  {
   "cell_type": "markdown",
   "id": "78fcc82e",
   "metadata": {},
   "source": [
    "**genericresponse**"
   ]
  },
  {
   "cell_type": "code",
   "execution_count": 85,
   "id": "b43776a5",
   "metadata": {},
   "outputs": [],
   "source": [
    "df_test[['genericresponse']] = OrdinalEncoder(categories=[genericresponse_list],\n",
    "                     handle_unknown='use_encoded_value',unknown_value = -1).fit_transform(df_test[['genericresponse']])"
   ]
  },
  {
   "cell_type": "markdown",
   "id": "9f560117",
   "metadata": {},
   "source": [
    "## Heatmap to see Correlation\n",
    "---"
   ]
  },
  {
   "cell_type": "code",
   "execution_count": 86,
   "id": "29e5e555",
   "metadata": {
    "scrolled": false
   },
   "outputs": [
    {
     "data": {
      "image/png": "[encoded data removed]",
      "text/plain": [
       "<Figure size 792x648 with 2 Axes>"
      ]
     },
     "metadata": {},
     "output_type": "display_data"
    }
   ],
   "source": [
    "sns.set_theme(style='white')\n",
    "\n",
    "# Compute the correlation matrix\n",
    "corr = df_train.corr()\n",
    "\n",
    "# Generate a mask for the upper triangle\n",
    "mask = np.triu(np.ones_like(corr, dtype=bool))\n",
    "\n",
    "# Set up the matplotlib figure\n",
    "f, ax = plt.subplots(figsize=(11, 9))\n",
    "\n",
    "# Generate a custom diverging colormap\n",
    "cmap = sns.color_palette('colorblind')\n",
    "\n",
    "# Draw the heatmap with the mask and correct aspect ratio\n",
    "sns.heatmap(corr, mask=mask, cmap=cmap, vmax=.3, center=0,\n",
    "            square=True, linewidths=.5, cbar_kws={'shrink': .5})\n",
    "plt.title(\"Heatmap to see Correlation\", size=14)\n",
    "plt.show()"
   ]
  },
  {
   "cell_type": "markdown",
   "id": "d39ec8ac",
   "metadata": {},
   "source": [
    "## X_train, y_train\n",
    "---"
   ]
  },
  {
   "cell_type": "code",
   "execution_count": 87,
   "id": "af5337b6",
   "metadata": {
    "scrolled": true
   },
   "outputs": [
    {
     "data": {
      "text/plain": [
       "Index(['pspreference', 'currencycode', 'issuercountrycode', 'bin',\n",
       "       'creationdate', 'genericresponse', 'amount', 'scheme', 'merchant',\n",
       "       'company', 'acquireraccount', 'acquirer', 'journaltype',\n",
       "       'paymentmethod', 'approved', 'refused', 'received', 'threedattempt',\n",
       "       'day', 'hour', 'day_of_week'],\n",
       "      dtype='object')"
      ]
     },
     "execution_count": 87,
     "metadata": {},
     "output_type": "execute_result"
    }
   ],
   "source": [
    "df_train.columns"
   ]
  },
  {
   "cell_type": "code",
   "execution_count": 88,
   "id": "1f2e2f76",
   "metadata": {},
   "outputs": [],
   "source": [
    "# Define X_train and y_train\n",
    "X_train = df_train[['paymentmethod',\n",
    "                 'threedattempt',\n",
    "                    'amount',\n",
    "                 'day',\n",
    "                 'hour',\n",
    "                'day_of_week'\n",
    "                ]]\n",
    "y_train = df_train['genericresponse']"
   ]
  },
  {
   "cell_type": "markdown",
   "id": "10a28d94",
   "metadata": {},
   "source": [
    "### Variance Inflation Factor (VIF) "
   ]
  },
  {
   "cell_type": "code",
   "execution_count": 89,
   "id": "14eced22",
   "metadata": {},
   "outputs": [
    {
     "data": {
      "text/html": [
       "<div>\n",
       "<style scoped>\n",
       "    .dataframe tbody tr th:only-of-type {\n",
       "        vertical-align: middle;\n",
       "    }\n",
       "\n",
       "    .dataframe tbody tr th {\n",
       "        vertical-align: top;\n",
       "    }\n",
       "\n",
       "    .dataframe thead th {\n",
       "        text-align: right;\n",
       "    }\n",
       "</style>\n",
       "<table border=\"1\" class=\"dataframe\">\n",
       "  <thead>\n",
       "    <tr style=\"text-align: right;\">\n",
       "      <th></th>\n",
       "      <th>vif_factor</th>\n",
       "      <th>features</th>\n",
       "    </tr>\n",
       "  </thead>\n",
       "  <tbody>\n",
       "    <tr>\n",
       "      <th>0</th>\n",
       "      <td>255451.43665</td>\n",
       "      <td>const</td>\n",
       "    </tr>\n",
       "    <tr>\n",
       "      <th>2</th>\n",
       "      <td>1.09165</td>\n",
       "      <td>threedattempt</td>\n",
       "    </tr>\n",
       "    <tr>\n",
       "      <th>3</th>\n",
       "      <td>1.09077</td>\n",
       "      <td>amount</td>\n",
       "    </tr>\n",
       "    <tr>\n",
       "      <th>5</th>\n",
       "      <td>1.00130</td>\n",
       "      <td>hour</td>\n",
       "    </tr>\n",
       "    <tr>\n",
       "      <th>6</th>\n",
       "      <td>1.00109</td>\n",
       "      <td>day_of_week</td>\n",
       "    </tr>\n",
       "    <tr>\n",
       "      <th>4</th>\n",
       "      <td>1.00082</td>\n",
       "      <td>day</td>\n",
       "    </tr>\n",
       "    <tr>\n",
       "      <th>1</th>\n",
       "      <td>1.00004</td>\n",
       "      <td>paymentmethod</td>\n",
       "    </tr>\n",
       "  </tbody>\n",
       "</table>\n",
       "</div>"
      ],
      "text/plain": [
       "     vif_factor       features\n",
       "0  255451.43665          const\n",
       "2       1.09165  threedattempt\n",
       "3       1.09077         amount\n",
       "5       1.00130           hour\n",
       "6       1.00109    day_of_week\n",
       "4       1.00082            day\n",
       "1       1.00004  paymentmethod"
      ]
     },
     "execution_count": 89,
     "metadata": {},
     "output_type": "execute_result"
    }
   ],
   "source": [
    "# VIF dataframe\n",
    "x_temp = sm.add_constant(X_train)\n",
    "\n",
    "vif = pd.DataFrame()\n",
    "vif['vif_factor'] = [variance_inflation_factor(x_temp.values, i) for i in range(x_temp.values.shape[1])]\n",
    "vif['features'] = x_temp.columns\n",
    "vif.round(5).sort_values(by='vif_factor', ascending=False)"
   ]
  },
  {
   "cell_type": "markdown",
   "id": "4da272ae",
   "metadata": {},
   "source": [
    "### Scaling"
   ]
  },
  {
   "cell_type": "code",
   "execution_count": 90,
   "id": "e7883dda",
   "metadata": {},
   "outputs": [],
   "source": [
    "ss=StandardScaler()\n",
    "X_train_scaled=ss.fit_transform(X_train)"
   ]
  },
  {
   "cell_type": "markdown",
   "id": "3b0151b2",
   "metadata": {},
   "source": [
    "### X_Test, y_test"
   ]
  },
  {
   "cell_type": "code",
   "execution_count": 91,
   "id": "f7ea5f5f",
   "metadata": {},
   "outputs": [],
   "source": [
    "# Define X_train and y_train\n",
    "X_test = df_test[['paymentmethod',\n",
    "                 'threedattempt',\n",
    "                    'amount',\n",
    "                 'day',\n",
    "                 'hour',\n",
    "                'day_of_week'\n",
    "                ]]\n",
    "y_test = df_test['genericresponse']"
   ]
  },
  {
   "cell_type": "code",
   "execution_count": 92,
   "id": "c7292223",
   "metadata": {},
   "outputs": [],
   "source": [
    "X_test_scaled=ss.fit_transform(X_test)"
   ]
  },
  {
   "cell_type": "markdown",
   "id": "fb16a83f",
   "metadata": {},
   "source": [
    "## Base Model\n",
    "----"
   ]
  },
  {
   "cell_type": "code",
   "execution_count": 93,
   "id": "e712477b",
   "metadata": {},
   "outputs": [],
   "source": [
    "from sklearn.linear_model import LogisticRegression\n",
    "from sklearn.model_selection import cross_val_score, KFold\n",
    "from sklearn.pipeline import Pipeline\n",
    "from sklearn.neighbors import KNeighborsClassifier\n",
    "from sklearn.tree import DecisionTreeClassifier\n",
    "from sklearn.ensemble import RandomForestClassifier, BaggingClassifier, AdaBoostClassifier\n",
    "import xgboost as xgb"
   ]
  },
  {
   "cell_type": "code",
   "execution_count": 94,
   "id": "8338ca08",
   "metadata": {
    "scrolled": true
   },
   "outputs": [
    {
     "name": "stdout",
     "output_type": "stream",
     "text": [
      "Train Set Accuracy: 0.8823872965497482 \n",
      "Test Set Accuracy: 0.881385815665359 \n",
      " \n"
     ]
    },
    {
     "name": "stderr",
     "output_type": "stream",
     "text": [
      "C:\\Users\\ng_li\\anaconda3\\lib\\site-packages\\sklearn\\linear_model\\_logistic.py:814: ConvergenceWarning: lbfgs failed to converge (status=1):\n",
      "STOP: TOTAL NO. of ITERATIONS REACHED LIMIT.\n",
      "\n",
      "Increase the number of iterations (max_iter) or scale the data as shown in:\n",
      "    https://scikit-learn.org/stable/modules/preprocessing.html\n",
      "Please also refer to the documentation for alternative solver options:\n",
      "    https://scikit-learn.org/stable/modules/linear_model.html#logistic-regression\n",
      "  n_iter_i = _check_optimize_result(\n"
     ]
    }
   ],
   "source": [
    "lr=LogisticRegression(random_state=42)\n",
    "lr.fit(X_train_scaled, y_train)\n",
    "trainscore = lr.score(X_train_scaled, y_train)\n",
    "testscore = lr.score(X_test_scaled, y_test)\n",
    "print(f\"Train Set Accuracy: {trainscore} \\nTest Set Accuracy: {testscore} \\n \")"
   ]
  },
  {
   "cell_type": "markdown",
   "id": "ef11c758",
   "metadata": {},
   "source": [
    "### RSME"
   ]
  },
  {
   "cell_type": "code",
   "execution_count": 95,
   "id": "88097e29",
   "metadata": {
    "scrolled": true
   },
   "outputs": [],
   "source": [
    "from sklearn.metrics import mean_squared_error as mse"
   ]
  },
  {
   "cell_type": "code",
   "execution_count": 96,
   "id": "ab5ce60e",
   "metadata": {
    "scrolled": true
   },
   "outputs": [
    {
     "name": "stdout",
     "output_type": "stream",
     "text": [
      "Training RMSE: 0.6081957212353533 \n",
      "Testing RMSE: 0.603686825889724 \n",
      " \n"
     ]
    }
   ],
   "source": [
    "y_pred_train = lr.predict(X_train_scaled)\n",
    "y_pred_test = lr.predict(X_test_scaled)\n",
    "rmse_train = mse(y_train, y_pred_train, squared=False)\n",
    "rmse_test = mse(y_test, y_pred_test, squared=False)\n",
    "print(f\"Training RMSE: {rmse_train} \\n\\\n",
    "Testing RMSE: {rmse_test} \\n \")"
   ]
  },
  {
   "cell_type": "markdown",
   "id": "054a3701",
   "metadata": {},
   "source": [
    "### Coefficient"
   ]
  },
  {
   "cell_type": "code",
   "execution_count": 97,
   "id": "160dba2d",
   "metadata": {
    "scrolled": false
   },
   "outputs": [
    {
     "data": {
      "text/html": [
       "<div>\n",
       "<style scoped>\n",
       "    .dataframe tbody tr th:only-of-type {\n",
       "        vertical-align: middle;\n",
       "    }\n",
       "\n",
       "    .dataframe tbody tr th {\n",
       "        vertical-align: top;\n",
       "    }\n",
       "\n",
       "    .dataframe thead th {\n",
       "        text-align: right;\n",
       "    }\n",
       "</style>\n",
       "<table border=\"1\" class=\"dataframe\">\n",
       "  <thead>\n",
       "    <tr style=\"text-align: right;\">\n",
       "      <th></th>\n",
       "      <th>feature</th>\n",
       "      <th>coef</th>\n",
       "      <th>abs_coef</th>\n",
       "    </tr>\n",
       "  </thead>\n",
       "  <tbody>\n",
       "    <tr>\n",
       "      <th>2</th>\n",
       "      <td>amount</td>\n",
       "      <td>0.696473</td>\n",
       "      <td>0.696473</td>\n",
       "    </tr>\n",
       "    <tr>\n",
       "      <th>1</th>\n",
       "      <td>threedattempt</td>\n",
       "      <td>-0.194877</td>\n",
       "      <td>0.194877</td>\n",
       "    </tr>\n",
       "    <tr>\n",
       "      <th>4</th>\n",
       "      <td>hour</td>\n",
       "      <td>0.118909</td>\n",
       "      <td>0.118909</td>\n",
       "    </tr>\n",
       "    <tr>\n",
       "      <th>5</th>\n",
       "      <td>day_of_week</td>\n",
       "      <td>-0.096571</td>\n",
       "      <td>0.096571</td>\n",
       "    </tr>\n",
       "    <tr>\n",
       "      <th>0</th>\n",
       "      <td>paymentmethod</td>\n",
       "      <td>0.012878</td>\n",
       "      <td>0.012878</td>\n",
       "    </tr>\n",
       "    <tr>\n",
       "      <th>3</th>\n",
       "      <td>day</td>\n",
       "      <td>-0.010195</td>\n",
       "      <td>0.010195</td>\n",
       "    </tr>\n",
       "  </tbody>\n",
       "</table>\n",
       "</div>"
      ],
      "text/plain": [
       "         feature      coef  abs_coef\n",
       "2         amount  0.696473  0.696473\n",
       "1  threedattempt -0.194877  0.194877\n",
       "4           hour  0.118909  0.118909\n",
       "5    day_of_week -0.096571  0.096571\n",
       "0  paymentmethod  0.012878  0.012878\n",
       "3            day -0.010195  0.010195"
      ]
     },
     "execution_count": 97,
     "metadata": {},
     "output_type": "execute_result"
    }
   ],
   "source": [
    "# Coefficient for 'Approved' class\n",
    "coefs = lr.coef_\n",
    "approved_coef = pd.DataFrame(zip(X_train.columns, coefs[0,:]), columns=['feature', 'coef'])\n",
    "approved_coef['abs_coef'] = approved_coef['coef'].apply(lambda x: abs(x))\n",
    "approved_coef = approved_coef.sort_values('abs_coef', ascending=False)\n",
    "approved_coef"
   ]
  },
  {
   "cell_type": "code",
   "execution_count": 98,
   "id": "72b27a73",
   "metadata": {
    "scrolled": true
   },
   "outputs": [
    {
     "data": {
      "text/html": [
       "<div>\n",
       "<style scoped>\n",
       "    .dataframe tbody tr th:only-of-type {\n",
       "        vertical-align: middle;\n",
       "    }\n",
       "\n",
       "    .dataframe tbody tr th {\n",
       "        vertical-align: top;\n",
       "    }\n",
       "\n",
       "    .dataframe thead th {\n",
       "        text-align: right;\n",
       "    }\n",
       "</style>\n",
       "<table border=\"1\" class=\"dataframe\">\n",
       "  <thead>\n",
       "    <tr style=\"text-align: right;\">\n",
       "      <th></th>\n",
       "      <th>feature</th>\n",
       "      <th>coef</th>\n",
       "      <th>abs_coef</th>\n",
       "    </tr>\n",
       "  </thead>\n",
       "  <tbody>\n",
       "    <tr>\n",
       "      <th>1</th>\n",
       "      <td>threedattempt</td>\n",
       "      <td>-4.808873</td>\n",
       "      <td>4.808873</td>\n",
       "    </tr>\n",
       "    <tr>\n",
       "      <th>5</th>\n",
       "      <td>day_of_week</td>\n",
       "      <td>-0.089575</td>\n",
       "      <td>0.089575</td>\n",
       "    </tr>\n",
       "    <tr>\n",
       "      <th>0</th>\n",
       "      <td>paymentmethod</td>\n",
       "      <td>0.070181</td>\n",
       "      <td>0.070181</td>\n",
       "    </tr>\n",
       "    <tr>\n",
       "      <th>2</th>\n",
       "      <td>amount</td>\n",
       "      <td>0.022404</td>\n",
       "      <td>0.022404</td>\n",
       "    </tr>\n",
       "    <tr>\n",
       "      <th>4</th>\n",
       "      <td>hour</td>\n",
       "      <td>0.022086</td>\n",
       "      <td>0.022086</td>\n",
       "    </tr>\n",
       "    <tr>\n",
       "      <th>3</th>\n",
       "      <td>day</td>\n",
       "      <td>0.021720</td>\n",
       "      <td>0.021720</td>\n",
       "    </tr>\n",
       "  </tbody>\n",
       "</table>\n",
       "</div>"
      ],
      "text/plain": [
       "         feature      coef  abs_coef\n",
       "1  threedattempt -4.808873  4.808873\n",
       "5    day_of_week -0.089575  0.089575\n",
       "0  paymentmethod  0.070181  0.070181\n",
       "2         amount  0.022404  0.022404\n",
       "4           hour  0.022086  0.022086\n",
       "3            day  0.021720  0.021720"
      ]
     },
     "execution_count": 98,
     "metadata": {},
     "output_type": "execute_result"
    }
   ],
   "source": [
    "fraud_coef = pd.DataFrame(zip(X_train.columns, coefs[1,:]), columns=['feature', 'coef'])\n",
    "fraud_coef['abs_coef'] = fraud_coef['coef'].apply(lambda x: abs(x))\n",
    "fraud_coef = fraud_coef.sort_values('abs_coef', ascending=False)\n",
    "fraud_coef"
   ]
  },
  {
   "cell_type": "code",
   "execution_count": 99,
   "id": "1f7f91bf",
   "metadata": {
    "scrolled": true
   },
   "outputs": [
    {
     "data": {
      "text/html": [
       "<div>\n",
       "<style scoped>\n",
       "    .dataframe tbody tr th:only-of-type {\n",
       "        vertical-align: middle;\n",
       "    }\n",
       "\n",
       "    .dataframe tbody tr th {\n",
       "        vertical-align: top;\n",
       "    }\n",
       "\n",
       "    .dataframe thead th {\n",
       "        text-align: right;\n",
       "    }\n",
       "</style>\n",
       "<table border=\"1\" class=\"dataframe\">\n",
       "  <thead>\n",
       "    <tr style=\"text-align: right;\">\n",
       "      <th></th>\n",
       "      <th>feature</th>\n",
       "      <th>coef</th>\n",
       "      <th>abs_coef</th>\n",
       "    </tr>\n",
       "  </thead>\n",
       "  <tbody>\n",
       "    <tr>\n",
       "      <th>2</th>\n",
       "      <td>amount</td>\n",
       "      <td>0.947852</td>\n",
       "      <td>0.947852</td>\n",
       "    </tr>\n",
       "    <tr>\n",
       "      <th>1</th>\n",
       "      <td>threedattempt</td>\n",
       "      <td>0.224769</td>\n",
       "      <td>0.224769</td>\n",
       "    </tr>\n",
       "    <tr>\n",
       "      <th>5</th>\n",
       "      <td>day_of_week</td>\n",
       "      <td>-0.122675</td>\n",
       "      <td>0.122675</td>\n",
       "    </tr>\n",
       "    <tr>\n",
       "      <th>4</th>\n",
       "      <td>hour</td>\n",
       "      <td>0.073842</td>\n",
       "      <td>0.073842</td>\n",
       "    </tr>\n",
       "    <tr>\n",
       "      <th>3</th>\n",
       "      <td>day</td>\n",
       "      <td>0.069388</td>\n",
       "      <td>0.069388</td>\n",
       "    </tr>\n",
       "    <tr>\n",
       "      <th>0</th>\n",
       "      <td>paymentmethod</td>\n",
       "      <td>-0.030834</td>\n",
       "      <td>0.030834</td>\n",
       "    </tr>\n",
       "  </tbody>\n",
       "</table>\n",
       "</div>"
      ],
      "text/plain": [
       "         feature      coef  abs_coef\n",
       "2         amount  0.947852  0.947852\n",
       "1  threedattempt  0.224769  0.224769\n",
       "5    day_of_week -0.122675  0.122675\n",
       "4           hour  0.073842  0.073842\n",
       "3            day  0.069388  0.069388\n",
       "0  paymentmethod -0.030834  0.030834"
      ]
     },
     "execution_count": 99,
     "metadata": {},
     "output_type": "execute_result"
    }
   ],
   "source": [
    "declined_coef = pd.DataFrame(zip(X_train.columns, coefs[2,:]), columns=['feature', 'coef'])\n",
    "declined_coef['abs_coef'] = declined_coef['coef'].apply(lambda x: abs(x))\n",
    "declined_coef = declined_coef.sort_values('abs_coef', ascending=False)\n",
    "declined_coef"
   ]
  },
  {
   "cell_type": "markdown",
   "id": "b48e1562",
   "metadata": {},
   "source": [
    "## Conclusion and Recommendation\n",
    "---"
   ]
  },
  {
   "cell_type": "markdown",
   "id": "e8b17857",
   "metadata": {},
   "source": [
    "**3D Authentication Attempt**<br>\n",
    "63.6% of declined transactions are transacted using standard debit payment method.<br>\n",
    "As a large percentage of declined transactions are transacted using standard debit payment method, our analysis will focus on this payment mode.<br><br>\n",
    "No 3D authentication attempt was done for 35.14% of the declined transactions transacted using standard debit payment method.<br>\n",
    "It is found that the mean amount of non-3D attempted declined transaction is 52,045.24.<br>\n",
    "This is about 2.4 times higher that than the mean amount of non-3D attempted approved transaction (15,480.27)<br><br>\n",
    "It is suggested that merchantsimplement 3DS authentication for Standard Debit payment method if the amount ia above certain threshold for each currency.\n",
    "\n",
    "| currencycode | Threshold Amount |\n",
    "| --- | --- |\n",
    "| IDR | 20,500 |\n",
    "| THB | 11,500 |\n",
    "| SGD | 1,500 |\n",
    "| MYR | 1,500 |\n",
    "\n",
    "<br>\n",
    "\n",
    "**Calendar Day**<br>\n",
    "5.5% of the declined transaction are settled on the 18th of the month.<br><br>\n",
    "This is the most common calendar day followed by 26th with 4.6% and 17th with 4.4%<br><br>\n",
    "On the contrary, the top three calendar day when transactions are approved are 20th, 29th and 28th with 3.3% each.<br><br>\n",
    "Therefore, merchants should route standard debit payments on:\n",
    "- 24\n",
    "- 9\n",
    "- 30\n",
    "<br>\n",
    "\n",
    "and avoid routing standard debit payments are:\n",
    "- 18\n",
    "- 26\n",
    "- 17\n",
    "<br><br>\n",
    "\n",
    "**Calendar Day x Hour**<br>\n",
    "The 18th and 19th hour are two common hours with high number of declined and approved transactions.<br>\n",
    "Of the declined transactions settled at the 18th and 19th hour, 9.7% of it fall on the 18th calendar day, followed by 27th and 13th with 6% each.<br>\n",
    "Hence, if merchants have route transactions at these hours, they should avoid doing it on the 18th, 27th and 13th of the month.<br><br>\n",
    "\n",
    "**Day of the Week**<br>\n",
    "Similar day of the week is observed for both declined and approved transactions.<br><br>\n",
    "The top three days where there were declined and approved transactions is:<br>\n",
    "Mon, Tue and Sun<br><br>\n",
    "\n",
    "**Day of the Week x Hour**<br>\n",
    "Of the declined transactions that happened on Mon, Tue or Sun:\n",
    "- 2.6% are on Tue, 12pm\n",
    "- 2.6% are on Mon, 3pm\n",
    "- 2.5% are on Tue, 4pm<br>\n",
    "Merchants should avoid scheduling payments on these days and timing.<br>\n",
    "\n",
    "Of the approved transactions that happened on Mon, Tue or Sun:\n",
    "- 2.7% are on Mon, 7pm\n",
    "- 2.5% are on Sun, 2pm\n",
    "- 2.4% are on Mon, 9am<br>\n",
    "Merchants should schedule payments on these days and timing.\n",
    "<br><br>\n",
    "\n",
    "**Fraud**<br>\n",
    "Standard Debit payment method makes up about 43.85% of the total fraud transactions, followed by Standard Credit at 20.19% and Premium Credit at 15.16%.<br>\n",
    "The top three payment method for fraud transactions and approved transactions are the same.<br>\n",
    "Hence, we will look at these three payment method for our anyalsis.<br><br>\n",
    "\n",
    "**Fraud x 3D Authentication Attempt**<br>\n",
    "100% of the fraud transactions did not have 3D authentication attempted.<br>\n",
    "It shows that 3D authentication is important in preventing frauds.<br>\n",
    "It is highly recommended that Merchants implement 3D authentication.<br><br>\n",
    "\n",
    "However, it is found that the mean amount of non-3D attempted approved transaction is much higher than that of fraud transactions.<br>\n",
    "The only exception is for SGD currency.<br>\n",
    "\n",
    "In order to ensure that the payment process is seamless for customers, it is recommended that the merchants implement 3DS2 authentication.<br><br>\n",
    "\n",
    "**Logistic Regression Model**<br>\n",
    "The logistic regression model confirms with a 88% acurracy rate that our earlier analysis that 'payment method', '3D attempt', 'calendar day', 'hour' and 'day of the week' are important factors that influence the acceptance rate.<br><br>\n",
    "\n",
    "'3D attempt' has the highest absolute coefficient of 4.81.<br>\n",
    "Hence, it is important for merchants to implement 3DS2 authentication to help prevent fraud.<br><br>\n",
    "\n",
    "The most important factor for declined transactions is amount followed by 3D attempt.<br>\n",
    "By having 3DS authentication for transaction over a certain amount would help reduce the declined rate.<br><br>\n",
    "\n",
    "**Conclusion**<br>\n",
    "In conclusion, in order to increase the authorization rate, it is highly recommended that the merchants implement either 3DS or 3DS2 authentication. increase authorization rate.<br>\n",
    "In addition, merchants should avoid scheduling payments on certain calendar day, day of the week and hour to reduce declined rates."
   ]
  },
  {
   "cell_type": "markdown",
   "id": "3476ba94",
   "metadata": {},
   "source": []
  }
 ],
 "metadata": {
  "kernelspec": {
   "display_name": "Python 3 (ipykernel)",
   "language": "python",
   "name": "python3"
  },
  "language_info": {
   "codemirror_mode": {
    "name": "ipython",
    "version": 3
   },
   "file_extension": ".py",
   "mimetype": "text/x-python",
   "name": "python",
   "nbconvert_exporter": "python",
   "pygments_lexer": "ipython3",
   "version": "3.9.12"
  }
 },
 "nbformat": 4,
 "nbformat_minor": 5
}
